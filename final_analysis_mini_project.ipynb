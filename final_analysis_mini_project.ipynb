{
  "cells": [
    {
      "cell_type": "code",
      "execution_count": null,
      "metadata": {
        "id": "Gyv3cpzHUeb4"
      },
      "outputs": [],
      "source": [
        "import numpy as np\n",
        "import pandas as pd\n",
        "import matplotlib.pyplot as plt\n",
        "import seaborn as sns\n",
        "%matplotlib inline"
      ]
    },
    {
      "cell_type": "code",
      "execution_count": null,
      "metadata": {
        "colab": {
          "base_uri": "https://localhost:8080/"
        },
        "id": "N5mGPmiio_eI",
        "outputId": "4af3eca5-c00f-47f6-eac9-478b24b8a404"
      },
      "outputs": [
        {
          "name": "stdout",
          "output_type": "stream",
          "text": [
            "Mounted at /content/drive\n"
          ]
        }
      ],
      "source": [
        "from google.colab import drive\n",
        "drive.mount('/content/drive')"
      ]
    },
    {
      "cell_type": "code",
      "execution_count": null,
      "metadata": {
        "id": "qVlKegmPcfY2"
      },
      "outputs": [],
      "source": [
        "import pandas as pd\n",
        "import plotly.express as px\n",
        "\n",
        "df = pd.read_csv('/content/drive/MyDrive/WiFi.xlsx - sheet1.csv')\n",
        "df.rename(columns={'Ip address': 'Ip_address', 'Wifi Id': 'Wifi_id', 'HH:MM:SS': 'H_M_S'}, inplace=True)\n"
      ]
    },
    {
      "cell_type": "code",
      "execution_count": null,
      "metadata": {
        "colab": {
          "base_uri": "https://localhost:8080/",
          "height": 112
        },
        "id": "znfK-CnafT2U",
        "outputId": "1fe61ea0-c0c8-4047-fc25-45b80186bd36"
      },
      "outputs": [
        {
          "data": {
            "text/html": [
              "\n",
              "\n",
              "  <div id=\"df-db56848b-be90-4b05-979a-ce52e13a5e57\">\n",
              "    <div class=\"colab-df-container\">\n",
              "      <div>\n",
              "<style scoped>\n",
              "    .dataframe tbody tr th:only-of-type {\n",
              "        vertical-align: middle;\n",
              "    }\n",
              "\n",
              "    .dataframe tbody tr th {\n",
              "        vertical-align: top;\n",
              "    }\n",
              "\n",
              "    .dataframe thead th {\n",
              "        text-align: right;\n",
              "    }\n",
              "</style>\n",
              "<table border=\"1\" class=\"dataframe\">\n",
              "  <thead>\n",
              "    <tr style=\"text-align: right;\">\n",
              "      <th></th>\n",
              "      <th>Date</th>\n",
              "      <th>H_M_S</th>\n",
              "      <th>ID</th>\n",
              "      <th>Ip_address</th>\n",
              "      <th>Wifi_id</th>\n",
              "      <th>index</th>\n",
              "    </tr>\n",
              "  </thead>\n",
              "  <tbody>\n",
              "    <tr>\n",
              "      <th>0</th>\n",
              "      <td>2018-10-02 00:00:00</td>\n",
              "      <td>00:26:04.200000</td>\n",
              "      <td>1</td>\n",
              "      <td>10.200.9.11</td>\n",
              "      <td>\"Hostel_5GHZ\"</td>\n",
              "      <td>NaN</td>\n",
              "    </tr>\n",
              "    <tr>\n",
              "      <th>1</th>\n",
              "      <td>2018-10-02 00:00:00</td>\n",
              "      <td>00:27:16.400000</td>\n",
              "      <td>1</td>\n",
              "      <td>10.200.9.11</td>\n",
              "      <td>\"Hostel\"</td>\n",
              "      <td>NaN</td>\n",
              "    </tr>\n",
              "  </tbody>\n",
              "</table>\n",
              "</div>\n",
              "      <button class=\"colab-df-convert\" onclick=\"convertToInteractive('df-db56848b-be90-4b05-979a-ce52e13a5e57')\"\n",
              "              title=\"Convert this dataframe to an interactive table.\"\n",
              "              style=\"display:none;\">\n",
              "\n",
              "  <svg xmlns=\"http://www.w3.org/2000/svg\" height=\"24px\"viewBox=\"0 0 24 24\"\n",
              "       width=\"24px\">\n",
              "    <path d=\"M0 0h24v24H0V0z\" fill=\"none\"/>\n",
              "    <path d=\"M18.56 5.44l.94 2.06.94-2.06 2.06-.94-2.06-.94-.94-2.06-.94 2.06-2.06.94zm-11 1L8.5 8.5l.94-2.06 2.06-.94-2.06-.94L8.5 2.5l-.94 2.06-2.06.94zm10 10l.94 2.06.94-2.06 2.06-.94-2.06-.94-.94-2.06-.94 2.06-2.06.94z\"/><path d=\"M17.41 7.96l-1.37-1.37c-.4-.4-.92-.59-1.43-.59-.52 0-1.04.2-1.43.59L10.3 9.45l-7.72 7.72c-.78.78-.78 2.05 0 2.83L4 21.41c.39.39.9.59 1.41.59.51 0 1.02-.2 1.41-.59l7.78-7.78 2.81-2.81c.8-.78.8-2.07 0-2.86zM5.41 20L4 18.59l7.72-7.72 1.47 1.35L5.41 20z\"/>\n",
              "  </svg>\n",
              "      </button>\n",
              "\n",
              "\n",
              "\n",
              "    <div id=\"df-4b01e378-7503-4ffe-ad67-03d22447ce26\">\n",
              "      <button class=\"colab-df-quickchart\" onclick=\"quickchart('df-4b01e378-7503-4ffe-ad67-03d22447ce26')\"\n",
              "              title=\"Suggest charts.\"\n",
              "              style=\"display:none;\">\n",
              "\n",
              "<svg xmlns=\"http://www.w3.org/2000/svg\" height=\"24px\"viewBox=\"0 0 24 24\"\n",
              "     width=\"24px\">\n",
              "    <g>\n",
              "        <path d=\"M19 3H5c-1.1 0-2 .9-2 2v14c0 1.1.9 2 2 2h14c1.1 0 2-.9 2-2V5c0-1.1-.9-2-2-2zM9 17H7v-7h2v7zm4 0h-2V7h2v10zm4 0h-2v-4h2v4z\"/>\n",
              "    </g>\n",
              "</svg>\n",
              "      </button>\n",
              "    </div>\n",
              "\n",
              "<style>\n",
              "  .colab-df-quickchart {\n",
              "    background-color: #E8F0FE;\n",
              "    border: none;\n",
              "    border-radius: 50%;\n",
              "    cursor: pointer;\n",
              "    display: none;\n",
              "    fill: #1967D2;\n",
              "    height: 32px;\n",
              "    padding: 0 0 0 0;\n",
              "    width: 32px;\n",
              "  }\n",
              "\n",
              "  .colab-df-quickchart:hover {\n",
              "    background-color: #E2EBFA;\n",
              "    box-shadow: 0px 1px 2px rgba(60, 64, 67, 0.3), 0px 1px 3px 1px rgba(60, 64, 67, 0.15);\n",
              "    fill: #174EA6;\n",
              "  }\n",
              "\n",
              "  [theme=dark] .colab-df-quickchart {\n",
              "    background-color: #3B4455;\n",
              "    fill: #D2E3FC;\n",
              "  }\n",
              "\n",
              "  [theme=dark] .colab-df-quickchart:hover {\n",
              "    background-color: #434B5C;\n",
              "    box-shadow: 0px 1px 3px 1px rgba(0, 0, 0, 0.15);\n",
              "    filter: drop-shadow(0px 1px 2px rgba(0, 0, 0, 0.3));\n",
              "    fill: #FFFFFF;\n",
              "  }\n",
              "</style>\n",
              "\n",
              "    <script>\n",
              "      async function quickchart(key) {\n",
              "        const containerElement = document.querySelector('#' + key);\n",
              "        const charts = await google.colab.kernel.invokeFunction(\n",
              "            'suggestCharts', [key], {});\n",
              "      }\n",
              "    </script>\n",
              "\n",
              "      <script>\n",
              "\n",
              "function displayQuickchartButton(domScope) {\n",
              "  let quickchartButtonEl =\n",
              "    domScope.querySelector('#df-4b01e378-7503-4ffe-ad67-03d22447ce26 button.colab-df-quickchart');\n",
              "  quickchartButtonEl.style.display =\n",
              "    google.colab.kernel.accessAllowed ? 'block' : 'none';\n",
              "}\n",
              "\n",
              "        displayQuickchartButton(document);\n",
              "      </script>\n",
              "      <style>\n",
              "    .colab-df-container {\n",
              "      display:flex;\n",
              "      flex-wrap:wrap;\n",
              "      gap: 12px;\n",
              "    }\n",
              "\n",
              "    .colab-df-convert {\n",
              "      background-color: #E8F0FE;\n",
              "      border: none;\n",
              "      border-radius: 50%;\n",
              "      cursor: pointer;\n",
              "      display: none;\n",
              "      fill: #1967D2;\n",
              "      height: 32px;\n",
              "      padding: 0 0 0 0;\n",
              "      width: 32px;\n",
              "    }\n",
              "\n",
              "    .colab-df-convert:hover {\n",
              "      background-color: #E2EBFA;\n",
              "      box-shadow: 0px 1px 2px rgba(60, 64, 67, 0.3), 0px 1px 3px 1px rgba(60, 64, 67, 0.15);\n",
              "      fill: #174EA6;\n",
              "    }\n",
              "\n",
              "    [theme=dark] .colab-df-convert {\n",
              "      background-color: #3B4455;\n",
              "      fill: #D2E3FC;\n",
              "    }\n",
              "\n",
              "    [theme=dark] .colab-df-convert:hover {\n",
              "      background-color: #434B5C;\n",
              "      box-shadow: 0px 1px 3px 1px rgba(0, 0, 0, 0.15);\n",
              "      filter: drop-shadow(0px 1px 2px rgba(0, 0, 0, 0.3));\n",
              "      fill: #FFFFFF;\n",
              "    }\n",
              "  </style>\n",
              "\n",
              "      <script>\n",
              "        const buttonEl =\n",
              "          document.querySelector('#df-db56848b-be90-4b05-979a-ce52e13a5e57 button.colab-df-convert');\n",
              "        buttonEl.style.display =\n",
              "          google.colab.kernel.accessAllowed ? 'block' : 'none';\n",
              "\n",
              "        async function convertToInteractive(key) {\n",
              "          const element = document.querySelector('#df-db56848b-be90-4b05-979a-ce52e13a5e57');\n",
              "          const dataTable =\n",
              "            await google.colab.kernel.invokeFunction('convertToInteractive',\n",
              "                                                     [key], {});\n",
              "          if (!dataTable) return;\n",
              "\n",
              "          const docLinkHtml = 'Like what you see? Visit the ' +\n",
              "            '<a target=\"_blank\" href=https://colab.research.google.com/notebooks/data_table.ipynb>data table notebook</a>'\n",
              "            + ' to learn more about interactive tables.';\n",
              "          element.innerHTML = '';\n",
              "          dataTable['output_type'] = 'display_data';\n",
              "          await google.colab.output.renderOutput(dataTable, element);\n",
              "          const docLink = document.createElement('div');\n",
              "          docLink.innerHTML = docLinkHtml;\n",
              "          element.appendChild(docLink);\n",
              "        }\n",
              "      </script>\n",
              "    </div>\n",
              "  </div>\n"
            ],
            "text/plain": [
              "                  Date            H_M_S  ID   Ip_address        Wifi_id  index\n",
              "0  2018-10-02 00:00:00  00:26:04.200000   1  10.200.9.11  \"Hostel_5GHZ\"    NaN\n",
              "1  2018-10-02 00:00:00  00:27:16.400000   1  10.200.9.11       \"Hostel\"    NaN"
            ]
          },
          "execution_count": 4,
          "metadata": {},
          "output_type": "execute_result"
        }
      ],
      "source": [
        "\n",
        "df.head(2)"
      ]
    },
    {
      "cell_type": "code",
      "execution_count": null,
      "metadata": {
        "colab": {
          "base_uri": "https://localhost:8080/",
          "height": 206
        },
        "id": "6PEQJB1sncZ3",
        "outputId": "273d86ea-589b-43c7-d627-3c157d8ecce1"
      },
      "outputs": [
        {
          "data": {
            "text/html": [
              "\n",
              "\n",
              "  <div id=\"df-fabc6f90-3c08-4df1-8a49-ef73f72a2a32\">\n",
              "    <div class=\"colab-df-container\">\n",
              "      <div>\n",
              "<style scoped>\n",
              "    .dataframe tbody tr th:only-of-type {\n",
              "        vertical-align: middle;\n",
              "    }\n",
              "\n",
              "    .dataframe tbody tr th {\n",
              "        vertical-align: top;\n",
              "    }\n",
              "\n",
              "    .dataframe thead th {\n",
              "        text-align: right;\n",
              "    }\n",
              "</style>\n",
              "<table border=\"1\" class=\"dataframe\">\n",
              "  <thead>\n",
              "    <tr style=\"text-align: right;\">\n",
              "      <th></th>\n",
              "      <th>Date</th>\n",
              "      <th>H_M_S</th>\n",
              "      <th>ID</th>\n",
              "      <th>Ip_address</th>\n",
              "      <th>Wifi_id</th>\n",
              "      <th>index</th>\n",
              "      <th>year</th>\n",
              "      <th>month</th>\n",
              "      <th>day</th>\n",
              "      <th>hour</th>\n",
              "      <th>minutes</th>\n",
              "      <th>seconds</th>\n",
              "    </tr>\n",
              "  </thead>\n",
              "  <tbody>\n",
              "    <tr>\n",
              "      <th>0</th>\n",
              "      <td>2018-10-02</td>\n",
              "      <td>00:26:04.200000</td>\n",
              "      <td>1</td>\n",
              "      <td>10.200.9.11</td>\n",
              "      <td>\"Hostel_5GHZ\"</td>\n",
              "      <td>NaN</td>\n",
              "      <td>2018</td>\n",
              "      <td>10</td>\n",
              "      <td>2</td>\n",
              "      <td>00</td>\n",
              "      <td>26</td>\n",
              "      <td>04.200000</td>\n",
              "    </tr>\n",
              "    <tr>\n",
              "      <th>1</th>\n",
              "      <td>2018-10-02</td>\n",
              "      <td>00:27:16.400000</td>\n",
              "      <td>1</td>\n",
              "      <td>10.200.9.11</td>\n",
              "      <td>\"Hostel\"</td>\n",
              "      <td>NaN</td>\n",
              "      <td>2018</td>\n",
              "      <td>10</td>\n",
              "      <td>2</td>\n",
              "      <td>00</td>\n",
              "      <td>27</td>\n",
              "      <td>16.400000</td>\n",
              "    </tr>\n",
              "    <tr>\n",
              "      <th>2</th>\n",
              "      <td>2018-10-02</td>\n",
              "      <td>00:27:16.400000</td>\n",
              "      <td>1</td>\n",
              "      <td>10.200.9.11</td>\n",
              "      <td>\"Hostel\"</td>\n",
              "      <td>NaN</td>\n",
              "      <td>2018</td>\n",
              "      <td>10</td>\n",
              "      <td>2</td>\n",
              "      <td>00</td>\n",
              "      <td>27</td>\n",
              "      <td>16.400000</td>\n",
              "    </tr>\n",
              "    <tr>\n",
              "      <th>3</th>\n",
              "      <td>2018-10-02</td>\n",
              "      <td>00:27:16.500000</td>\n",
              "      <td>1</td>\n",
              "      <td>10.200.9.11</td>\n",
              "      <td>\"Hostel\"</td>\n",
              "      <td>NaN</td>\n",
              "      <td>2018</td>\n",
              "      <td>10</td>\n",
              "      <td>2</td>\n",
              "      <td>00</td>\n",
              "      <td>27</td>\n",
              "      <td>16.500000</td>\n",
              "    </tr>\n",
              "    <tr>\n",
              "      <th>4</th>\n",
              "      <td>2018-10-02</td>\n",
              "      <td>00:31:04.100000</td>\n",
              "      <td>1</td>\n",
              "      <td>10.200.9.11</td>\n",
              "      <td>\"Hostel\"</td>\n",
              "      <td>NaN</td>\n",
              "      <td>2018</td>\n",
              "      <td>10</td>\n",
              "      <td>2</td>\n",
              "      <td>00</td>\n",
              "      <td>31</td>\n",
              "      <td>04.100000</td>\n",
              "    </tr>\n",
              "  </tbody>\n",
              "</table>\n",
              "</div>\n",
              "      <button class=\"colab-df-convert\" onclick=\"convertToInteractive('df-fabc6f90-3c08-4df1-8a49-ef73f72a2a32')\"\n",
              "              title=\"Convert this dataframe to an interactive table.\"\n",
              "              style=\"display:none;\">\n",
              "\n",
              "  <svg xmlns=\"http://www.w3.org/2000/svg\" height=\"24px\"viewBox=\"0 0 24 24\"\n",
              "       width=\"24px\">\n",
              "    <path d=\"M0 0h24v24H0V0z\" fill=\"none\"/>\n",
              "    <path d=\"M18.56 5.44l.94 2.06.94-2.06 2.06-.94-2.06-.94-.94-2.06-.94 2.06-2.06.94zm-11 1L8.5 8.5l.94-2.06 2.06-.94-2.06-.94L8.5 2.5l-.94 2.06-2.06.94zm10 10l.94 2.06.94-2.06 2.06-.94-2.06-.94-.94-2.06-.94 2.06-2.06.94z\"/><path d=\"M17.41 7.96l-1.37-1.37c-.4-.4-.92-.59-1.43-.59-.52 0-1.04.2-1.43.59L10.3 9.45l-7.72 7.72c-.78.78-.78 2.05 0 2.83L4 21.41c.39.39.9.59 1.41.59.51 0 1.02-.2 1.41-.59l7.78-7.78 2.81-2.81c.8-.78.8-2.07 0-2.86zM5.41 20L4 18.59l7.72-7.72 1.47 1.35L5.41 20z\"/>\n",
              "  </svg>\n",
              "      </button>\n",
              "\n",
              "\n",
              "\n",
              "    <div id=\"df-5c76ab28-e894-44a8-8789-574668f401a1\">\n",
              "      <button class=\"colab-df-quickchart\" onclick=\"quickchart('df-5c76ab28-e894-44a8-8789-574668f401a1')\"\n",
              "              title=\"Suggest charts.\"\n",
              "              style=\"display:none;\">\n",
              "\n",
              "<svg xmlns=\"http://www.w3.org/2000/svg\" height=\"24px\"viewBox=\"0 0 24 24\"\n",
              "     width=\"24px\">\n",
              "    <g>\n",
              "        <path d=\"M19 3H5c-1.1 0-2 .9-2 2v14c0 1.1.9 2 2 2h14c1.1 0 2-.9 2-2V5c0-1.1-.9-2-2-2zM9 17H7v-7h2v7zm4 0h-2V7h2v10zm4 0h-2v-4h2v4z\"/>\n",
              "    </g>\n",
              "</svg>\n",
              "      </button>\n",
              "    </div>\n",
              "\n",
              "<style>\n",
              "  .colab-df-quickchart {\n",
              "    background-color: #E8F0FE;\n",
              "    border: none;\n",
              "    border-radius: 50%;\n",
              "    cursor: pointer;\n",
              "    display: none;\n",
              "    fill: #1967D2;\n",
              "    height: 32px;\n",
              "    padding: 0 0 0 0;\n",
              "    width: 32px;\n",
              "  }\n",
              "\n",
              "  .colab-df-quickchart:hover {\n",
              "    background-color: #E2EBFA;\n",
              "    box-shadow: 0px 1px 2px rgba(60, 64, 67, 0.3), 0px 1px 3px 1px rgba(60, 64, 67, 0.15);\n",
              "    fill: #174EA6;\n",
              "  }\n",
              "\n",
              "  [theme=dark] .colab-df-quickchart {\n",
              "    background-color: #3B4455;\n",
              "    fill: #D2E3FC;\n",
              "  }\n",
              "\n",
              "  [theme=dark] .colab-df-quickchart:hover {\n",
              "    background-color: #434B5C;\n",
              "    box-shadow: 0px 1px 3px 1px rgba(0, 0, 0, 0.15);\n",
              "    filter: drop-shadow(0px 1px 2px rgba(0, 0, 0, 0.3));\n",
              "    fill: #FFFFFF;\n",
              "  }\n",
              "</style>\n",
              "\n",
              "    <script>\n",
              "      async function quickchart(key) {\n",
              "        const containerElement = document.querySelector('#' + key);\n",
              "        const charts = await google.colab.kernel.invokeFunction(\n",
              "            'suggestCharts', [key], {});\n",
              "      }\n",
              "    </script>\n",
              "\n",
              "      <script>\n",
              "\n",
              "function displayQuickchartButton(domScope) {\n",
              "  let quickchartButtonEl =\n",
              "    domScope.querySelector('#df-5c76ab28-e894-44a8-8789-574668f401a1 button.colab-df-quickchart');\n",
              "  quickchartButtonEl.style.display =\n",
              "    google.colab.kernel.accessAllowed ? 'block' : 'none';\n",
              "}\n",
              "\n",
              "        displayQuickchartButton(document);\n",
              "      </script>\n",
              "      <style>\n",
              "    .colab-df-container {\n",
              "      display:flex;\n",
              "      flex-wrap:wrap;\n",
              "      gap: 12px;\n",
              "    }\n",
              "\n",
              "    .colab-df-convert {\n",
              "      background-color: #E8F0FE;\n",
              "      border: none;\n",
              "      border-radius: 50%;\n",
              "      cursor: pointer;\n",
              "      display: none;\n",
              "      fill: #1967D2;\n",
              "      height: 32px;\n",
              "      padding: 0 0 0 0;\n",
              "      width: 32px;\n",
              "    }\n",
              "\n",
              "    .colab-df-convert:hover {\n",
              "      background-color: #E2EBFA;\n",
              "      box-shadow: 0px 1px 2px rgba(60, 64, 67, 0.3), 0px 1px 3px 1px rgba(60, 64, 67, 0.15);\n",
              "      fill: #174EA6;\n",
              "    }\n",
              "\n",
              "    [theme=dark] .colab-df-convert {\n",
              "      background-color: #3B4455;\n",
              "      fill: #D2E3FC;\n",
              "    }\n",
              "\n",
              "    [theme=dark] .colab-df-convert:hover {\n",
              "      background-color: #434B5C;\n",
              "      box-shadow: 0px 1px 3px 1px rgba(0, 0, 0, 0.15);\n",
              "      filter: drop-shadow(0px 1px 2px rgba(0, 0, 0, 0.3));\n",
              "      fill: #FFFFFF;\n",
              "    }\n",
              "  </style>\n",
              "\n",
              "      <script>\n",
              "        const buttonEl =\n",
              "          document.querySelector('#df-fabc6f90-3c08-4df1-8a49-ef73f72a2a32 button.colab-df-convert');\n",
              "        buttonEl.style.display =\n",
              "          google.colab.kernel.accessAllowed ? 'block' : 'none';\n",
              "\n",
              "        async function convertToInteractive(key) {\n",
              "          const element = document.querySelector('#df-fabc6f90-3c08-4df1-8a49-ef73f72a2a32');\n",
              "          const dataTable =\n",
              "            await google.colab.kernel.invokeFunction('convertToInteractive',\n",
              "                                                     [key], {});\n",
              "          if (!dataTable) return;\n",
              "\n",
              "          const docLinkHtml = 'Like what you see? Visit the ' +\n",
              "            '<a target=\"_blank\" href=https://colab.research.google.com/notebooks/data_table.ipynb>data table notebook</a>'\n",
              "            + ' to learn more about interactive tables.';\n",
              "          element.innerHTML = '';\n",
              "          dataTable['output_type'] = 'display_data';\n",
              "          await google.colab.output.renderOutput(dataTable, element);\n",
              "          const docLink = document.createElement('div');\n",
              "          docLink.innerHTML = docLinkHtml;\n",
              "          element.appendChild(docLink);\n",
              "        }\n",
              "      </script>\n",
              "    </div>\n",
              "  </div>\n"
            ],
            "text/plain": [
              "        Date            H_M_S  ID   Ip_address        Wifi_id  index  year  \\\n",
              "0 2018-10-02  00:26:04.200000   1  10.200.9.11  \"Hostel_5GHZ\"    NaN  2018   \n",
              "1 2018-10-02  00:27:16.400000   1  10.200.9.11       \"Hostel\"    NaN  2018   \n",
              "2 2018-10-02  00:27:16.400000   1  10.200.9.11       \"Hostel\"    NaN  2018   \n",
              "3 2018-10-02  00:27:16.500000   1  10.200.9.11       \"Hostel\"    NaN  2018   \n",
              "4 2018-10-02  00:31:04.100000   1  10.200.9.11       \"Hostel\"    NaN  2018   \n",
              "\n",
              "   month  day hour minutes    seconds  \n",
              "0     10    2   00      26  04.200000  \n",
              "1     10    2   00      27  16.400000  \n",
              "2     10    2   00      27  16.400000  \n",
              "3     10    2   00      27  16.500000  \n",
              "4     10    2   00      31  04.100000  "
            ]
          },
          "execution_count": 5,
          "metadata": {},
          "output_type": "execute_result"
        }
      ],
      "source": [
        "df['Date']=pd.to_datetime(df['Date'],format='%Y-%m-%d')\n",
        "pd.DatetimeIndex(df['Date']).month\n",
        "pd.DatetimeIndex(df['Date']).year\n",
        "\n",
        "df['year']= df['Date'].dt.year\n",
        "df['month']= df['Date'].dt.month\n",
        "df['day']= df['Date'].dt.day\n",
        "df[['hour', 'minutes', 'seconds']] = df['H_M_S'].str.split(':', expand=True)\n",
        "\n",
        "df_n = df\n",
        "df_n.head(2)\n",
        "df = df_n\n",
        "df.head()"
      ]
    },
    {
      "cell_type": "code",
      "execution_count": null,
      "metadata": {
        "colab": {
          "base_uri": "https://localhost:8080/",
          "height": 36
        },
        "id": "j6FKbyR9XXYP",
        "outputId": "5bc52cbd-d884-4ffc-8fe2-3bdfeddead31"
      },
      "outputs": [
        {
          "data": {
            "application/vnd.google.colaboratory.intrinsic+json": {
              "type": "string"
            },
            "text/plain": [
              "'LONE-WOLF'"
            ]
          },
          "execution_count": 6,
          "metadata": {},
          "output_type": "execute_result"
        }
      ],
      "source": [
        "max(df['Wifi_id'])"
      ]
    },
    {
      "cell_type": "code",
      "execution_count": null,
      "metadata": {
        "colab": {
          "base_uri": "https://localhost:8080/",
          "height": 36
        },
        "id": "jo5_VbUqYBO8",
        "outputId": "821ca336-2bd4-4849-92fe-58a1e785e99a"
      },
      "outputs": [
        {
          "data": {
            "application/vnd.google.colaboratory.intrinsic+json": {
              "type": "string"
            },
            "text/plain": [
              "'\"2+2=?\"'"
            ]
          },
          "execution_count": 7,
          "metadata": {},
          "output_type": "execute_result"
        }
      ],
      "source": [
        "min(df['Wifi_id'])"
      ]
    },
    {
      "cell_type": "code",
      "execution_count": null,
      "metadata": {
        "colab": {
          "base_uri": "https://localhost:8080/"
        },
        "id": "mCZ50TSAcj8c",
        "outputId": "037515ef-f83f-4917-f7bc-b32b711693c2"
      },
      "outputs": [
        {
          "data": {
            "text/plain": [
              "Index(['Date', 'H_M_S', 'ID', 'Ip_address', 'Wifi_id', 'index', 'year',\n",
              "       'month', 'day', 'hour', 'minutes', 'seconds'],\n",
              "      dtype='object')"
            ]
          },
          "execution_count": 8,
          "metadata": {},
          "output_type": "execute_result"
        }
      ],
      "source": [
        "df.columns"
      ]
    },
    {
      "cell_type": "code",
      "execution_count": null,
      "metadata": {
        "colab": {
          "base_uri": "https://localhost:8080/"
        },
        "id": "_StyYoqtcPF2",
        "outputId": "0c479d3a-92df-4c42-ef6f-640ca8a4633e"
      },
      "outputs": [
        {
          "data": {
            "text/plain": [
              "0         2018\n",
              "1         2018\n",
              "2         2018\n",
              "3         2018\n",
              "4         2018\n",
              "          ... \n",
              "454131    2018\n",
              "454132    2018\n",
              "454133    2018\n",
              "454134    2018\n",
              "454135    2018\n",
              "Name: year, Length: 454136, dtype: object"
            ]
          },
          "execution_count": 9,
          "metadata": {},
          "output_type": "execute_result"
        }
      ],
      "source": [
        "df['year'].astype(str)"
      ]
    },
    {
      "cell_type": "markdown",
      "metadata": {
        "id": "meQk6VraVtUD"
      },
      "source": [
        "Total"
      ]
    },
    {
      "cell_type": "code",
      "execution_count": null,
      "metadata": {
        "colab": {
          "base_uri": "https://localhost:8080/"
        },
        "id": "zAdDheXR3uwB",
        "outputId": "9f524d0c-8139-4bbb-b724-08a61dd68cdb"
      },
      "outputs": [
        {
          "data": {
            "text/plain": [
              "0         10.200.9.11\n",
              "1         10.200.9.11\n",
              "2         10.200.9.11\n",
              "3         10.200.9.11\n",
              "4         10.200.9.11\n",
              "             ...     \n",
              "454131    172.20.10.7\n",
              "454132    172.20.10.7\n",
              "454133    172.20.10.7\n",
              "454134    172.20.10.7\n",
              "454135    172.20.10.7\n",
              "Name: Ip_address, Length: 454136, dtype: object"
            ]
          },
          "execution_count": 11,
          "metadata": {},
          "output_type": "execute_result"
        }
      ],
      "source": [
        "df_n['Ip_address'].astype(str)"
      ]
    },
    {
      "cell_type": "markdown",
      "metadata": {
        "id": "ryR9dKxLDisv"
      },
      "source": [
        "# In total, number of times each IP Address is used.\n",
        "Or we can say that this IP Address has these many rows according to the data."
      ]
    },
    {
      "cell_type": "code",
      "execution_count": null,
      "metadata": {
        "colab": {
          "base_uri": "https://localhost:8080/"
        },
        "id": "jDaCq-2UrLMb",
        "outputId": "5873f17b-6dac-45c2-c610-7d36bb765a7c"
      },
      "outputs": [
        {
          "data": {
            "text/plain": [
              "1089"
            ]
          },
          "execution_count": 12,
          "metadata": {},
          "output_type": "execute_result"
        }
      ],
      "source": [
        "df_n['Ip_address'].nunique()"
      ]
    },
    {
      "cell_type": "code",
      "execution_count": null,
      "metadata": {
        "colab": {
          "base_uri": "https://localhost:8080/",
          "height": 1000
        },
        "id": "5s9cw-yXUpnw",
        "outputId": "6cf836a1-1690-41c4-cd0a-1833e7fcb2b3"
      },
      "outputs": [
        {
          "data": {
            "text/html": [
              "<html>\n",
              "<head><meta charset=\"utf-8\" /></head>\n",
              "<body>\n",
              "    <div>            <script src=\"https://cdnjs.cloudflare.com/ajax/libs/mathjax/2.7.5/MathJax.js?config=TeX-AMS-MML_SVG\"></script><script type=\"text/javascript\">if (window.MathJax && window.MathJax.Hub && window.MathJax.Hub.Config) {window.MathJax.Hub.Config({SVG: {font: \"STIX-Web\"}});}</script>                <script type=\"text/javascript\">window.PlotlyConfig = {MathJaxConfig: 'local'};</script>\n",
              "        <script src=\"https://cdn.plot.ly/plotly-2.18.2.min.js\"></script>                <div id=\"0a93fe80-e374-4ad8-8108-25b21126df27\" class=\"plotly-graph-div\" style=\"height:1800px; width:1200px;\"></div>            <script type=\"text/javascript\">                                    window.PLOTLYENV=window.PLOTLYENV || {};                                    if (document.getElementById(\"0a93fe80-e374-4ad8-8108-25b21126df27\")) {                    Plotly.newPlot(                        \"0a93fe80-e374-4ad8-8108-25b21126df27\",                        [{\"marker\":{\"color\":\"red\"},\"orientation\":\"h\",\"x\":[11584,10074,6592,6059,5711,5576,5457,5132,5037,4741,4708,4516,4369,4364,4084,4048,4005,3892,3871,3804,3801,3790,3700,3520,3471,3423,3146,3070,3059,3032,3024,2993,2909,2830,2779,2749,2717,2667,2666,2658,2646,2613,2566,2544,2503,2502,2466,2456,2442,2424,2379,2316,2312,2305,2241,2193,2172,2167,2099,2048,2048,2046,2008,2004,1997,1981,1979,1958,1957,1942,1942,1905,1866,1791,1788,1785,1752,1747,1736,1712,1712,1706,1705,1701,1680,1672,1667,1647,1640,1606,1594,1589,1568,1540,1536,1520,1519,1486,1481,1477,1426,1417,1415,1410,1404,1385,1360,1360,1351,1340,1332,1284,1279,1260,1258,1251,1232,1222,1190,1178,1170,1158,1158,1157,1148,1134,1099,1099,1097,1093,1080,1065,1059,1026,1014,1006,1005,1005,990,982,962,961,944,942,940,916,916,873,860,857,848,840,837,837,829,822,821,816,812,805,800,787,783,780,778,773,747,746,735,725,700,655,647,644,638,634,619,607,598,591,591,590,588,585,580,578,571,569,556,556,555,549,543,534,534,529,529,525,524,521,516,514,501,491,483,476,469,466,465,460,451,447,446,441,435,430,429,429,425,410,399,398,396,395,393,390,387,385,382,381,376,375,375,373,364,363,362,357,354,354,353,347,346,342,340,339,339,335,334,326,321,317,317,313,310,310,308,306,302,301,299,297,296,295,290,290,288,287,286,281,281,277,276,275,275,274,274,271,269,267,260,257,254,253,251,249,248,248,247,247,247,245,239,238,238,235,233,232,232,231,229,229,228,228,228,225,223,222,218,215,213,212,210,209,208,208,206,204,203,202,201,199,198,197,197,197,195,195,195,194,192,190,189,186,185,185,185,185,184,184,184,183,182,181,180,179,178,178,178,177,177,174,173,173,173,172,172,171,171,171,170,170,169,169,169,168,167,167,166,166,165,165,165,164,162,161,160,160,160,158,158,155,154,153,152,152,152,152,151,150,150,150,149,149,149,148,148,148,148,147,146,146,145,144,143,142,139,139,139,137,136,136,134,133,132,131,131,130,130,129,129,128,128,128,127,127,127,126,126,125,125,123,123,123,122,121,121,120,120,119,117,116,116,115,114,113,113,113,113,112,112,111,110,110,110,110,109,109,107,107,107,107,106,106,106,105,105,104,104,102,102,101,101,100,99,99,99,99,97,96,94,94,94,93,93,93,93,92,92,92,91,91,90,89,89,89,88,87,87,85,84,84,84,83,83,82,82,82,82,82,82,82,81,81,80,80,80,79,79,79,77,77,77,77,76,76,75,75,75,75,74,74,74,73,73,72,72,72,71,71,71,71,71,70,70,70,69,69,69,68,68,68,67,67,67,66,66,65,64,64,63,63,62,62,62,62,62,61,61,61,60,60,59,59,59,59,58,58,58,58,58,57,57,57,57,56,56,56,56,56,56,55,55,54,54,54,53,53,52,51,51,51,51,50,50,50,49,49,48,48,48,48,47,47,47,46,46,45,45,44,44,44,43,43,43,43,43,43,42,42,42,42,41,41,40,40,40,40,40,40,39,39,39,39,39,39,39,38,38,38,38,38,37,37,37,37,36,36,36,35,34,34,33,32,32,32,31,31,31,30,30,30,30,30,30,29,29,29,29,29,29,28,28,28,27,27,27,27,27,27,26,26,26,26,26,25,25,25,25,25,25,25,25,24,24,24,24,24,24,24,24,23,23,23,23,23,23,23,23,23,22,22,21,21,21,21,21,21,21,21,21,21,20,20,20,20,19,19,19,18,18,18,18,18,18,18,18,18,17,17,17,17,17,17,17,17,17,17,16,16,16,16,16,16,16,16,16,15,15,15,15,15,15,15,15,15,15,14,14,14,14,14,14,14,13,13,13,13,13,13,13,13,12,12,12,12,12,12,12,12,12,12,12,12,12,12,11,11,11,11,11,11,11,11,11,11,11,10,10,10,10,10,10,10,10,10,9,9,9,9,9,9,9,9,9,9,9,9,9,9,9,9,8,8,8,8,8,8,8,8,8,8,8,8,8,8,8,7,7,7,7,7,7,7,7,7,7,7,7,7,7,7,7,7,7,7,6,6,6,6,6,6,6,6,6,6,6,6,6,6,6,6,6,6,6,6,6,6,6,6,6,6,6,5,5,5,5,5,5,5,5,5,5,5,5,5,5,5,4,4,4,4,4,4,4,4,4,4,4,4,4,4,4,4,4,4,4,4,4,4,4,4,4,4,4,3,3,3,3,3,3,3,3,3,3,3,3,3,3,3,3,3,3,3,3,3,3,3,3,3,3,3,3,3,3,3,3,3,3,3,3,3,3,3,3,3,3,3,3,3,3,3,3,3,3,3,3,3,3,3,3,3,3,3,3,2,2,2,2,2,2,2,2,2,2,2,2,2,2,2,2,2,2,2,2,2,2,2,2,2,2,2,2,1,1,1,1,1,1,1,1,1,1,1,1,1,1,1,1,1,1,1,1,1,1,1,1,1,1,1,1,1,1,1,1,1,1,1,1,1,1,1,1,1,1,1,1,1,1,1,1,1,1,1,1,1,1,1,1],\"y\":[\"10.200.0.222\",\"10.200.11.117\",\"10.200.5.231\",\"10.200.9.238\",\"10.200.11.146\",\"10.200.7.180\",\"10.200.9.83\",\"10.200.7.224\",\"10.200.10.18\",\"10.200.1.76\",\"10.200.4.141\",\"10.200.42.149\",\"10.200.9.189\",\"10.200.4.72\",\"10.200.11.78\",\"10.200.11.165\",\"10.200.9.158\",\"10.200.12.135\",\"10.200.9.241\",\"10.200.1.178\",\"10.200.43.168\",\"10.200.4.148\",\"10.200.9.80\",\"10.200.1.93\",\"10.200.1.125\",\"10.200.1.162\",\"10.200.10.109\",\"10.200.8.188\",\"10.200.11.23\",\"10.200.38.39\",\"10.200.5.104\",\"10.200.1.92\",\"10.200.4.189\",\"10.200.46.140\",\"10.200.47.15\",\"10.200.4.52\",\"10.200.33.140\",\"10.200.1.119\",\"10.200.12.43\",\"10.200.11.251\",\"10.200.10.56\",\"10.200.34.110\",\"10.200.9.11\",\"10.200.11.106\",\"10.200.10.111\",\"10.200.2.184\",\"10.200.11.110\",\"10.200.3.173\",\"10.200.2.172\",\"10.200.10.57\",\"10.200.48.88\",\"10.200.0.193\",\"10.200.36.202\",\"10.200.3.180\",\"10.200.11.216\",\"10.200.11.32\",\"10.200.33.175\",\"10.200.34.181\",\"10.200.34.34\",\"10.200.0.209\",\"192.168.0.100\",\"10.200.11.211\",\"10.200.32.251\",\"10.200.1.127\",\"10.200.32.249\",\"10.200.6.114\",\"10.200.13.131\",\"10.200.12.146\",\"10.200.32.150\",\"10.200.13.229\",\"10.200.2.70\",\"10.200.1.157\",\"10.200.50.104\",\"10.200.40.160\",\"10.200.0.132\",\"10.200.14.147\",\"10.200.1.117\",\"10.200.12.230\",\"10.200.33.236\",\"10.200.47.145\",\"10.200.36.130\",\"10.200.4.174\",\"10.200.42.248\",\"10.200.42.255\",\"10.200.4.163\",\"10.200.9.146\",\"10.200.0.137\",\"10.200.4.228\",\"10.200.42.48\",\"10.200.10.114\",\"10.200.12.134\",\"10.200.2.210\",\"10.200.46.245\",\"10.200.12.93\",\"10.200.10.100\",\"10.200.37.79\",\"10.200.2.132\",\"10.200.3.95\",\"10.200.3.28\",\"10.200.35.92\",\"10.200.50.77\",\"10.200.11.161\",\"10.200.35.46\",\"10.200.3.106\",\"10.200.44.234\",\"192.168.0.101\",\"10.200.8.243\",\"10.200.3.87\",\"192.168.2.6\",\"10.200.33.239\",\"10.200.10.99\",\"10.200.43.167\",\"10.200.2.69\",\"10.200.1.48\",\"10.200.48.28\",\"10.200.9.79\",\"10.200.36.117\",\"10.200.4.3\",\"10.200.4.36\",\"10.200.4.97\",\"10.200.12.39\",\"10.200.3.202\",\"10.200.12.166\",\"10.200.7.9\",\"10.200.11.4\",\"10.200.10.38\",\"10.200.12.157\",\"10.200.3.172\",\"10.200.33.205\",\"10.200.12.248\",\"10.200.3.159\",\"10.200.33.97\",\"10.100.85.31\",\"10.200.11.76\",\"10.200.43.34\",\"10.200.37.140\",\"10.200.36.6\",\"10.200.47.8\",\"10.200.38.7\",\"192.168.1.100\",\"10.200.11.94\",\"10.200.33.86\",\"10.200.14.54\",\"10.200.36.57\",\"10.200.46.152\",\"10.200.12.64\",\"10.200.36.5\",\"10.200.33.137\",\"10.200.40.11\",\"10.200.36.110\",\"10.200.2.211\",\"10.200.5.234\",\"10.200.4.165\",\"10.200.33.1\",\"10.200.10.103\",\"10.200.44.186\",\"10.200.40.252\",\"10.200.3.124\",\"10.200.34.249\",\"10.200.8.164\",\"10.200.0.241\",\"10.200.37.10\",\"10.200.1.20\",\"10.200.2.71\",\"10.200.41.29\",\"10.200.34.45\",\"10.200.3.212\",\"10.200.12.128\",\"192.168.0.102\",\"10.100.85.34\",\"10.200.5.127\",\"10.200.45.78\",\"10.200.6.13\",\"10.200.0.177\",\"10.200.11.88\",\"10.200.43.244\",\"10.200.2.1\",\"10.200.48.2\",\"10.200.41.116\",\"10.200.3.252\",\"10.200.43.203\",\"10.200.8.13\",\"10.200.11.15\",\"10.200.34.73\",\"10.200.5.238\",\"10.200.35.147\",\"10.200.10.156\",\"10.200.37.74\",\"192.168.137.18\",\"10.200.44.229\",\"10.200.2.18\",\"192.168.137.114\",\"192.168.43.157\",\"10.200.2.230\",\"10.200.4.88\",\"10.200.11.72\",\"10.200.48.102\",\"10.200.46.113\",\"10.200.33.117\",\"10.200.7.166\",\"10.200.36.204\",\"192.168.137.63\",\"10.200.34.0\",\"10.200.36.145\",\"10.200.8.172\",\"10.200.35.21\",\"10.200.34.1\",\"10.200.47.152\",\"192.168.137.145\",\"10.200.1.110\",\"192.168.1.105\",\"10.200.39.107\",\"10.200.35.20\",\"10.200.2.100\",\"192.168.137.101\",\"192.168.43.48\",\"10.200.34.3\",\"10.200.34.136\",\"10.200.43.6\",\"10.200.32.213\",\"10.200.38.178\",\"10.200.11.228\",\"10.200.33.28\",\"192.168.137.104\",\"10.200.12.180\",\"10.200.2.95\",\"192.168.137.249\",\"10.100.85.33\",\"10.200.0.216\",\"10.200.35.108\",\"10.200.41.183\",\"192.168.137.65\",\"10.200.10.37\",\"192.168.137.70\",\"10.200.43.21\",\"10.200.45.57\",\"10.200.38.89\",\"10.200.42.186\",\"10.200.38.8\",\"10.200.38.211\",\"192.168.137.190\",\"192.168.137.241\",\"192.168.137.64\",\"192.168.1.102\",\"10.200.39.118\",\"10.200.36.209\",\"10.200.36.51\",\"192.168.137.202\",\"192.168.137.168\",\"192.168.137.143\",\"192.168.137.30\",\"10.200.10.91\",\"10.200.2.55\",\"192.168.137.212\",\"192.168.137.68\",\"192.168.137.135\",\"192.168.137.140\",\"192.168.137.119\",\"192.168.137.107\",\"10.200.33.152\",\"10.200.7.216\",\"10.200.36.170\",\"10.200.34.138\",\"10.200.1.218\",\"192.168.1.103\",\"192.168.1.101\",\"10.200.8.18\",\"10.200.2.236\",\"192.168.137.41\",\"10.200.38.65\",\"192.168.137.134\",\"192.168.137.35\",\"192.168.137.213\",\"192.168.137.39\",\"10.200.4.202\",\"10.200.35.79\",\"192.168.137.10\",\"192.168.137.246\",\"192.168.137.250\",\"192.168.43.117\",\"192.168.137.46\",\"192.168.137.124\",\"192.168.137.72\",\"10.200.39.38\",\"10.200.39.36\",\"10.200.37.21\",\"10.200.12.184\",\"192.168.137.87\",\"192.168.137.117\",\"192.168.137.233\",\"10.200.5.233\",\"192.168.137.47\",\"192.168.137.204\",\"192.168.137.139\",\"192.168.137.197\",\"192.168.43.158\",\"10.200.34.253\",\"192.168.137.252\",\"192.168.137.144\",\"10.100.85.38\",\"192.168.137.169\",\"192.168.137.128\",\"10.200.32.176\",\"10.10.10.3\",\"10.200.37.179\",\"192.168.137.56\",\"192.168.137.224\",\"192.168.137.38\",\"192.168.137.23\",\"192.168.137.122\",\"10.200.32.186\",\"192.168.137.200\",\"10.200.33.21\",\"10.100.85.41\",\"192.168.137.82\",\"192.168.137.112\",\"192.168.137.110\",\"192.168.137.160\",\"10.200.35.73\",\"10.100.85.35\",\"192.168.137.76\",\"192.168.137.216\",\"10.200.50.93\",\"192.168.2.2\",\"10.200.33.247\",\"10.200.39.40\",\"10.200.32.142\",\"10.200.0.155\",\"192.168.137.137\",\"10.200.32.206\",\"10.200.14.126\",\"192.168.137.234\",\"192.168.137.164\",\"192.168.137.9\",\"100.78.225.187\",\"100.78.255.97\",\"10.200.38.121\",\"10.200.37.232\",\"192.168.137.120\",\"192.168.43.27\",\"192.168.137.26\",\"192.168.137.131\",\"192.168.137.111\",\"10.200.41.146\",\"192.168.137.156\",\"10.200.36.26\",\"10.200.33.30\",\"192.168.137.158\",\"192.168.43.68\",\"192.168.137.228\",\"192.168.137.222\",\"192.168.43.96\",\"192.168.137.42\",\"192.168.137.141\",\"10.200.33.154\",\"192.168.137.247\",\"192.168.137.45\",\"192.168.137.14\",\"192.168.137.100\",\"192.168.137.133\",\"192.168.137.17\",\"192.168.137.94\",\"192.168.137.132\",\"10.200.33.33\",\"192.168.137.191\",\"192.168.137.188\",\"192.168.137.91\",\"192.168.137.147\",\"10.200.32.180\",\"10.100.85.32\",\"192.168.137.148\",\"192.168.137.130\",\"192.168.137.73\",\"192.168.137.194\",\"192.168.137.53\",\"192.168.0.103\",\"192.168.137.51\",\"192.168.137.2\",\"192.168.43.64\",\"192.168.137.103\",\"192.168.137.7\",\"192.168.137.27\",\"192.168.225.58\",\"10.200.34.16\",\"192.168.40.18\",\"192.168.137.86\",\"10.200.38.174\",\"10.200.1.212\",\"192.168.137.99\",\"10.200.33.8\",\"192.168.1.104\",\"10.3.198.255\",\"192.168.137.209\",\"10.200.37.11\",\"192.168.137.5\",\"10.200.48.101\",\"192.168.137.113\",\"192.168.137.15\",\"192.168.137.80\",\"10.200.11.236\",\"192.168.137.207\",\"192.168.137.60\",\"192.168.137.238\",\"192.168.137.248\",\"192.168.137.52\",\"192.168.137.59\",\"10.200.36.24\",\"10.100.87.30\",\"192.168.137.217\",\"192.168.137.186\",\"192.168.137.4\",\"192.168.137.243\",\"192.168.137.185\",\"10.200.2.4\",\"192.168.137.162\",\"10.200.12.171\",\"192.168.137.151\",\"192.168.137.37\",\"192.168.137.78\",\"192.168.137.161\",\"192.168.137.142\",\"10.2.226.209\",\"192.168.137.227\",\"192.168.137.106\",\"192.168.137.108\",\"10.200.37.9\",\"192.168.137.214\",\"10.100.85.73\",\"192.168.137.48\",\"192.168.137.28\",\"10.100.85.36\",\"10.3.196.250\",\"192.168.137.210\",\"10.200.38.4\",\"192.168.137.221\",\"192.168.137.96\",\"192.168.137.218\",\"192.168.137.129\",\"10.42.0.136\",\"192.168.137.232\",\"192.168.137.245\",\"192.168.137.230\",\"10.200.35.181\",\"192.168.137.195\",\"192.168.137.244\",\"10.6.97.244\",\"10.100.85.39\",\"10.200.35.84\",\"192.168.2.3\",\"10.200.10.170\",\"192.168.137.22\",\"10.3.130.220\",\"10.200.9.95\",\"10.200.47.181\",\"192.168.137.236\",\"192.168.137.240\",\"192.168.137.138\",\"192.168.137.225\",\"10.200.35.3\",\"192.168.137.85\",\"192.168.137.79\",\"10.200.38.139\",\"192.168.137.74\",\"192.168.137.198\",\"10.200.37.73\",\"192.168.137.219\",\"192.168.137.177\",\"192.168.137.43\",\"192.168.137.21\",\"192.168.137.20\",\"192.168.137.220\",\"192.168.137.89\",\"10.200.36.116\",\"192.168.137.154\",\"192.168.137.146\",\"192.168.137.71\",\"192.168.137.55\",\"192.168.137.50\",\"10.200.12.63\",\"10.100.85.52\",\"192.168.43.18\",\"10.200.1.165\",\"192.168.137.184\",\"192.168.137.118\",\"192.168.137.237\",\"192.168.137.193\",\"192.168.137.163\",\"192.168.137.32\",\"192.168.137.67\",\"192.168.137.176\",\"192.168.137.149\",\"172.20.10.7\",\"10.200.35.236\",\"192.168.137.174\",\"10.100.85.79\",\"192.168.137.235\",\"192.168.43.89\",\"192.168.137.166\",\"10.200.46.109\",\"192.168.137.6\",\"10.200.34.242\",\"192.168.137.183\",\"192.168.137.167\",\"10.100.87.59\",\"10.100.85.69\",\"192.168.43.102\",\"10.100.85.50\",\"192.168.137.81\",\"192.168.137.88\",\"10.100.87.60\",\"10.100.85.74\",\"192.168.137.126\",\"192.168.137.66\",\"192.168.137.199\",\"192.168.137.189\",\"192.168.137.102\",\"10.100.85.60\",\"192.168.137.58\",\"10.100.87.52\",\"192.168.137.157\",\"192.168.137.136\",\"10.100.87.47\",\"192.168.137.8\",\"192.168.137.84\",\"192.168.137.226\",\"192.168.43.137\",\"192.168.137.251\",\"192.168.137.231\",\"192.168.137.201\",\"10.100.85.78\",\"192.168.137.211\",\"10.6.99.213\",\"192.168.137.187\",\"192.168.137.83\",\"192.168.137.254\",\"10.100.85.54\",\"10.100.85.94\",\"192.168.137.165\",\"10.6.163.80\",\"192.168.137.13\",\"192.168.137.152\",\"192.168.137.182\",\"192.168.43.229\",\"10.200.6.5\",\"192.168.137.54\",\"192.168.137.93\",\"192.168.137.125\",\"192.168.137.155\",\"10.100.85.88\",\"192.168.43.233\",\"10.200.4.132\",\"192.168.137.16\",\"10.100.85.101\",\"192.168.137.196\",\"192.168.137.12\",\"192.168.137.206\",\"10.100.87.98\",\"192.168.137.61\",\"192.168.43.55\",\"192.168.43.127\",\"192.168.2.7\",\"192.168.137.171\",\"10.100.85.120\",\"192.168.137.127\",\"192.168.137.205\",\"10.100.85.83\",\"10.100.87.65\",\"192.168.137.90\",\"192.168.137.33\",\"192.168.137.57\",\"10.100.85.77\",\"10.200.32.230\",\"10.100.87.50\",\"10.200.9.4\",\"192.168.137.44\",\"10.3.231.67\",\"10.100.85.59\",\"10.100.87.48\",\"192.168.2.5\",\"192.168.137.239\",\"10.100.87.92\",\"10.100.85.43\",\"192.168.43.251\",\"192.168.137.3\",\"10.6.101.115\",\"192.168.137.11\",\"192.168.43.213\",\"10.100.87.67\",\"10.200.34.100\",\"192.168.137.208\",\"192.168.137.178\",\"192.168.137.40\",\"192.168.137.49\",\"10.6.97.157\",\"10.100.87.66\",\"10.200.11.120\",\"10.100.87.64\",\"10.200.32.237\",\"192.168.137.29\",\"192.168.137.69\",\"10.100.85.63\",\"10.100.85.76\",\"192.168.137.115\",\"10.6.132.155\",\"192.168.137.150\",\"10.100.85.58\",\"172.20.10.6\",\"10.200.8.142\",\"10.100.87.76\",\"192.168.137.92\",\"192.168.137.215\",\"10.4.103.178\",\"192.168.137.123\",\"10.3.230.241\",\"192.168.1.6\",\"10.100.87.74\",\"192.168.137.179\",\"192.168.137.159\",\"192.168.43.90\",\"172.20.10.2\",\"10.100.87.33\",\"10.100.85.81\",\"100.64.172.87\",\"192.168.137.25\",\"192.168.137.36\",\"192.168.43.98\",\"192.168.137.97\",\"10.100.87.44\",\"10.3.162.135\",\"10.6.99.74\",\"10.100.87.58\",\"10.3.163.114\",\"10.6.165.174\",\"192.168.137.175\",\"10.100.85.80\",\"10.200.8.10\",\"192.168.43.84\",\"10.200.47.100\",\"192.168.137.95\",\"10.100.87.70\",\"10.100.87.46\",\"100.73.40.103\",\"192.168.137.170\",\"10.100.87.77\",\"10.100.85.56\",\"192.168.43.23\",\"10.200.33.57\",\"10.200.36.109\",\"10.100.85.86\",\"10.200.6.126\",\"192.168.137.203\",\"10.2.167.194\",\"10.200.7.95\",\"192.168.137.31\",\"10.6.132.108\",\"10.100.87.62\",\"10.100.87.43\",\"192.168.137.24\",\"192.168.137.19\",\"10.100.85.71\",\"10.100.85.49\",\"192.168.137.173\",\"192.168.137.98\",\"10.27.30.197\",\"10.100.87.55\",\"10.200.0.158\",\"192.168.137.109\",\"10.6.131.20\",\"10.100.87.36\",\"10.200.9.119\",\"10.6.97.53\",\"10.100.85.115\",\"10.22.129.65\",\"10.100.87.51\",\"10.100.87.72\",\"10.11.11.12\",\"10.100.87.61\",\"10.100.87.57\",\"192.168.137.116\",\"10.100.87.82\",\"10.6.99.227\",\"10.6.97.167\",\"10.100.85.44\",\"192.168.137.172\",\"10.133.166.103\",\"10.100.87.83\",\"10.100.85.90\",\"10.100.87.41\",\"10.100.85.67\",\"10.100.85.93\",\"10.6.98.138\",\"10.132.166.152\",\"10.6.103.90\",\"10.200.8.247\",\"10.100.85.51\",\"10.100.87.69\",\"10.100.87.85\",\"10.2.163.57\",\"192.168.137.180\",\"10.100.87.81\",\"10.6.132.9\",\"10.6.100.98\",\"10.200.33.186\",\"10.200.37.199\",\"10.4.130.156\",\"10.6.98.17\",\"10.100.87.79\",\"10.100.87.89\",\"10.100.87.88\",\"10.6.102.89\",\"10.100.87.32\",\"10.100.87.54\",\"10.200.33.51\",\"10.23.60.73\",\"10.6.130.223\",\"10.6.100.83\",\"10.100.85.108\",\"192.168.137.242\",\"10.100.87.95\",\"10.6.133.189\",\"10.6.135.183\",\"10.6.101.52\",\"10.3.64.193\",\"10.100.87.96\",\"10.200.1.106\",\"10.100.87.86\",\"10.100.85.125\",\"10.100.87.110\",\"10.100.87.106\",\"192.168.43.94\",\"192.168.255.252\",\"10.6.101.32\",\"10.200.36.171\",\"10.24.89.126\",\"10.100.85.62\",\"10.6.97.79\",\"192.168.255.254\",\"10.3.199.94\",\"192.168.137.34\",\"10.100.85.136\",\"10.200.42.211\",\"192.168.137.121\",\"10.100.87.102\",\"10.183.173.39\",\"192.168.43.168\",\"10.200.32.174\",\"10.6.102.62\",\"10.100.87.49\",\"10.100.85.85\",\"10.200.3.177\",\"192.168.137.253\",\"10.6.100.79\",\"192.168.43.32\",\"10.100.87.40\",\"192.168.43.197\",\"10.6.96.166\",\"10.132.236.163\",\"10.200.3.141\",\"10.100.85.53\",\"10.100.85.55\",\"10.3.68.233\",\"10.6.102.135\",\"10.6.131.9\",\"10.6.103.153\",\"10.100.87.63\",\"10.100.85.75\",\"10.100.58.74\",\"192.168.43.7\",\"10.100.85.98\",\"10.6.100.29\",\"192.168.2.21\",\"10.100.85.92\",\"10.3.227.51\",\"192.168.120.108\",\"192.168.43.69\",\"192.168.255.253\",\"10.134.186.181\",\"10.100.85.42\",\"10.100.87.42\",\"10.200.35.239\",\"192.168.137.105\",\"10.6.38.145\",\"10.6.133.69\",\"10.100.85.132\",\"192.168.43.6\",\"10.133.131.159\",\"10.6.129.26\",\"10.180.112.49\",\"117.236.143.195\",\"192.168.43.123\",\"10.182.151.176\",\"10.100.85.65\",\"10.100.87.68\",\"10.100.87.99\",\"10.3.33.169\",\"172.20.10.13\",\"100.66.31.203\",\"192.168.137.229\",\"10.200.33.3\",\"10.200.1.41\",\"10.100.85.66\",\"100.87.123.191\",\"10.100.85.47\",\"10.100.87.80\",\"10.100.85.124\",\"192.168.137.223\",\"10.180.198.173\",\"10.200.5.100\",\"10.100.85.61\",\"10.200.33.185\",\"100.100.234.8\",\"192.168.0.9\",\"10.6.133.92\",\"10.6.98.183\",\"192.168.43.109\",\"10.6.97.246\",\"10.6.68.116\",\"10.133.45.251\",\"10.6.103.64\",\"10.11.3.27\",\"192.168.43.236\",\"10.3.71.121\",\"10.24.119.18\",\"10.6.69.63\",\"10.6.166.64\",\"10.100.85.68\",\"192.168.43.33\",\"192.168.43.209\",\"192.168.43.144\",\"192.168.49.69\",\"10.4.132.225\",\"10.100.85.87\",\"10.182.137.136\",\"10.134.50.209\",\"192.168.0.104\",\"10.100.87.100\",\"10.183.17.174\",\"10.2.37.37\",\"10.4.225.164\",\"10.3.69.9\",\"10.100.58.55\",\"10.200.2.13\",\"10.200.43.12\",\"192.168.43.114\",\"10.100.58.58\",\"10.6.100.240\",\"10.183.179.240\",\"10.100.58.62\",\"10.6.101.62\",\"10.6.37.231\",\"10.6.133.210\",\"10.6.99.92\",\"10.2.198.117\",\"10.3.99.19\",\"192.168.1.218\",\"10.25.10.195\",\"10.3.66.171\",\"10.183.85.250\",\"10.100.87.39\",\"10.100.87.45\",\"10.3.194.118\",\"192.168.137.192\",\"10.3.225.209\",\"10.6.128.107\",\"10.6.98.170\",\"10.100.87.84\",\"192.168.43.21\",\"10.100.85.100\",\"192.168.43.216\",\"10.6.161.95\",\"192.168.43.225\",\"10.2.197.103\",\"100.107.96.99\",\"10.100.87.117\",\"10.100.58.60\",\"10.100.58.92\",\"10.2.6.105\",\"10.100.85.96\",\"10.100.85.82\",\"10.2.165.217\",\"10.2.38.194\",\"10.100.87.105\",\"10.100.87.107\",\"10.100.58.93\",\"10.200.38.210\",\"10.0.5.39\",\"192.168.43.163\",\"10.6.96.174\",\"10.100.58.64\",\"10.3.230.78\",\"10.68.125.117\",\"10.100.58.57\",\"10.6.102.0\",\"10.4.67.166\",\"10.4.133.230\",\"100.100.68.83\",\"192.168.137.77\",\"192.168.0.105\",\"10.3.66.148\",\"192.168.0.3\",\"10.3.4.160\",\"192.168.49.2\",\"10.6.97.48\",\"10.100.87.87\",\"192.168.43.78\",\"10.100.85.119\",\"10.8.199.29\",\"192.168.137.75\",\"10.6.99.39\",\"10.3.229.82\",\"10.2.199.16\",\"10.2.33.184\",\"10.6.96.109\",\"10.6.163.153\",\"10.2.37.159\",\"10.4.3.228\",\"10.4.226.3\",\"192.168.43.59\",\"10.100.87.113\",\"192.168.43.121\",\"192.168.43.138\",\"10.100.87.97\",\"192.168.43.108\",\"10.100.87.37\",\"192.168.43.101\",\"192.168.43.39\",\"192.168.43.180\",\"10.200.1.138\",\"192.168.1.1\",\"10.10.15.72\",\"10.100.58.54\",\"100.100.61.253\",\"10.6.97.134\",\"10.6.100.244\",\"10.3.69.153\",\"10.3.64.131\",\"10.100.58.72\",\"10.25.106.174\",\"10.100.58.90\",\"10.200.5.223\",\"192.168.137.62\",\"10.2.35.167\",\"10.100.68.61\",\"192.168.43.226\",\"192.168.43.202\",\"10.2.166.236\",\"10.2.163.247\",\"10.2.199.111\",\"10.2.193.64\",\"10.180.244.199\",\"192.168.43.241\",\"192.168.2.15\",\"10.100.58.99\",\"192.168.43.87\",\"10.100.58.67\",\"10.100.58.71\",\"192.168.43.43\",\"192.168.43.37\",\"10.100.58.88\",\"10.100.58.91\",\"192.168.43.253\",\"192.168.43.247\",\"10.200.3.79\",\"192.168.43.24\",\"10.100.68.62\",\"10.133.31.34\",\"192.168.43.220\",\"10.100.85.123\",\"192.168.43.195\",\"192.168.43.191\",\"192.168.43.160\",\"10.100.87.103\",\"192.168.43.115\",\"10.100.87.34\",\"10.100.87.35\",\"10.100.87.71\",\"10.110.1.21\",\"10.200.3.122\",\"192.168.1.3\",\"10.200.8.239\",\"10.6.97.45\",\"10.6.37.156\",\"192.168.137.181\",\"10.4.101.150\",\"10.4.1.18\",\"10.3.66.231\",\"10.3.39.119\",\"10.3.226.192\",\"10.3.197.53\",\"10.3.134.68\",\"10.200.7.165\",\"10.200.33.193\",\"10.200.33.192\",\"10.200.33.191\",\"10.200.33.190\",\"10.200.33.189\",\"10.200.33.188\",\"10.200.33.187\",\"10.8.151.38\",\"10.200.34.166\",\"10.8.236.136\",\"169.254.214.97\",\"172.16.19.224\",\"192.168.1.2\",\"10.6.101.184\",\"192.168.43.77\",\"10.100.87.38\",\"10.200.33.214\",\"10.200.33.197\",\"10.100.58.63\",\"10.3.97.196\",\"10.200.33.212\",\"192.168.43.204\",\"10.200.33.213\",\"10.200.33.211\",\"10.200.33.195\",\"10.200.33.202\",\"10.8.221.64\",\"10.200.33.194\",\"10.200.33.210\",\"10.200.33.196\",\"10.200.33.198\",\"10.200.33.199\",\"10.200.33.200\",\"10.200.33.201\",\"10.200.33.203\",\"10.200.33.204\",\"10.200.33.206\",\"10.134.237.127\",\"10.200.33.207\",\"10.200.33.208\",\"10.133.137.9\",\"10.200.33.209\",\"10.200.33.248\",\"10.200.33.253\",\"10.100.58.52\",\"10.200.33.249\",\"10.200.33.250\",\"10.200.33.251\",\"10.200.33.252\",\"10.200.33.245\",\"10.200.33.254\",\"10.200.33.255\",\"10.200.33.256\",\"10.200.33.257\",\"10.200.33.258\",\"10.200.33.259\",\"192.168.43.57\",\"10.200.33.246\",\"10.200.33.176\",\"10.200.33.244\",\"10.134.110.161\",\"10.200.33.220\",\"10.200.33.219\",\"192.168.43.106\",\"10.200.33.218\",\"10.200.33.217\",\"10.200.33.216\",\"10.200.33.215\",\"10.135.157.158\",\"10.200.33.222\",\"10.200.33.184\",\"10.200.33.183\",\"10.200.33.182\",\"10.200.33.181\",\"10.200.33.180\",\"10.200.33.179\",\"10.200.33.178\",\"10.200.33.221\",\"10.200.33.223\",\"10.200.33.243\",\"10.200.33.233\",\"10.200.33.242\",\"10.200.33.241\",\"10.200.33.240\",\"10.200.33.238\",\"10.200.33.237\",\"10.200.33.235\",\"10.200.33.234\",\"10.200.33.232\",\"10.200.33.224\",\"10.200.33.231\",\"10.200.33.230\",\"10.200.33.177\",\"10.200.33.228\",\"10.200.33.227\",\"10.200.33.226\",\"10.200.33.225\",\"10.200.33.229\"],\"type\":\"bar\"}],                        {\"title\":{\"text\":\"IP Address vs Number of Wifi IDs\"},\"xaxis\":{\"title\":{\"text\":\"Number of Wifi IDs\"}},\"yaxis\":{\"title\":{\"text\":\"IP Address\"}},\"template\":{\"data\":{\"histogram2dcontour\":[{\"type\":\"histogram2dcontour\",\"colorbar\":{\"outlinewidth\":0,\"ticks\":\"\"},\"colorscale\":[[0.0,\"#0d0887\"],[0.1111111111111111,\"#46039f\"],[0.2222222222222222,\"#7201a8\"],[0.3333333333333333,\"#9c179e\"],[0.4444444444444444,\"#bd3786\"],[0.5555555555555556,\"#d8576b\"],[0.6666666666666666,\"#ed7953\"],[0.7777777777777778,\"#fb9f3a\"],[0.8888888888888888,\"#fdca26\"],[1.0,\"#f0f921\"]]}],\"choropleth\":[{\"type\":\"choropleth\",\"colorbar\":{\"outlinewidth\":0,\"ticks\":\"\"}}],\"histogram2d\":[{\"type\":\"histogram2d\",\"colorbar\":{\"outlinewidth\":0,\"ticks\":\"\"},\"colorscale\":[[0.0,\"#0d0887\"],[0.1111111111111111,\"#46039f\"],[0.2222222222222222,\"#7201a8\"],[0.3333333333333333,\"#9c179e\"],[0.4444444444444444,\"#bd3786\"],[0.5555555555555556,\"#d8576b\"],[0.6666666666666666,\"#ed7953\"],[0.7777777777777778,\"#fb9f3a\"],[0.8888888888888888,\"#fdca26\"],[1.0,\"#f0f921\"]]}],\"heatmap\":[{\"type\":\"heatmap\",\"colorbar\":{\"outlinewidth\":0,\"ticks\":\"\"},\"colorscale\":[[0.0,\"#0d0887\"],[0.1111111111111111,\"#46039f\"],[0.2222222222222222,\"#7201a8\"],[0.3333333333333333,\"#9c179e\"],[0.4444444444444444,\"#bd3786\"],[0.5555555555555556,\"#d8576b\"],[0.6666666666666666,\"#ed7953\"],[0.7777777777777778,\"#fb9f3a\"],[0.8888888888888888,\"#fdca26\"],[1.0,\"#f0f921\"]]}],\"heatmapgl\":[{\"type\":\"heatmapgl\",\"colorbar\":{\"outlinewidth\":0,\"ticks\":\"\"},\"colorscale\":[[0.0,\"#0d0887\"],[0.1111111111111111,\"#46039f\"],[0.2222222222222222,\"#7201a8\"],[0.3333333333333333,\"#9c179e\"],[0.4444444444444444,\"#bd3786\"],[0.5555555555555556,\"#d8576b\"],[0.6666666666666666,\"#ed7953\"],[0.7777777777777778,\"#fb9f3a\"],[0.8888888888888888,\"#fdca26\"],[1.0,\"#f0f921\"]]}],\"contourcarpet\":[{\"type\":\"contourcarpet\",\"colorbar\":{\"outlinewidth\":0,\"ticks\":\"\"}}],\"contour\":[{\"type\":\"contour\",\"colorbar\":{\"outlinewidth\":0,\"ticks\":\"\"},\"colorscale\":[[0.0,\"#0d0887\"],[0.1111111111111111,\"#46039f\"],[0.2222222222222222,\"#7201a8\"],[0.3333333333333333,\"#9c179e\"],[0.4444444444444444,\"#bd3786\"],[0.5555555555555556,\"#d8576b\"],[0.6666666666666666,\"#ed7953\"],[0.7777777777777778,\"#fb9f3a\"],[0.8888888888888888,\"#fdca26\"],[1.0,\"#f0f921\"]]}],\"surface\":[{\"type\":\"surface\",\"colorbar\":{\"outlinewidth\":0,\"ticks\":\"\"},\"colorscale\":[[0.0,\"#0d0887\"],[0.1111111111111111,\"#46039f\"],[0.2222222222222222,\"#7201a8\"],[0.3333333333333333,\"#9c179e\"],[0.4444444444444444,\"#bd3786\"],[0.5555555555555556,\"#d8576b\"],[0.6666666666666666,\"#ed7953\"],[0.7777777777777778,\"#fb9f3a\"],[0.8888888888888888,\"#fdca26\"],[1.0,\"#f0f921\"]]}],\"mesh3d\":[{\"type\":\"mesh3d\",\"colorbar\":{\"outlinewidth\":0,\"ticks\":\"\"}}],\"scatter\":[{\"fillpattern\":{\"fillmode\":\"overlay\",\"size\":10,\"solidity\":0.2},\"type\":\"scatter\"}],\"parcoords\":[{\"type\":\"parcoords\",\"line\":{\"colorbar\":{\"outlinewidth\":0,\"ticks\":\"\"}}}],\"scatterpolargl\":[{\"type\":\"scatterpolargl\",\"marker\":{\"colorbar\":{\"outlinewidth\":0,\"ticks\":\"\"}}}],\"bar\":[{\"error_x\":{\"color\":\"#2a3f5f\"},\"error_y\":{\"color\":\"#2a3f5f\"},\"marker\":{\"line\":{\"color\":\"#E5ECF6\",\"width\":0.5},\"pattern\":{\"fillmode\":\"overlay\",\"size\":10,\"solidity\":0.2}},\"type\":\"bar\"}],\"scattergeo\":[{\"type\":\"scattergeo\",\"marker\":{\"colorbar\":{\"outlinewidth\":0,\"ticks\":\"\"}}}],\"scatterpolar\":[{\"type\":\"scatterpolar\",\"marker\":{\"colorbar\":{\"outlinewidth\":0,\"ticks\":\"\"}}}],\"histogram\":[{\"marker\":{\"pattern\":{\"fillmode\":\"overlay\",\"size\":10,\"solidity\":0.2}},\"type\":\"histogram\"}],\"scattergl\":[{\"type\":\"scattergl\",\"marker\":{\"colorbar\":{\"outlinewidth\":0,\"ticks\":\"\"}}}],\"scatter3d\":[{\"type\":\"scatter3d\",\"line\":{\"colorbar\":{\"outlinewidth\":0,\"ticks\":\"\"}},\"marker\":{\"colorbar\":{\"outlinewidth\":0,\"ticks\":\"\"}}}],\"scattermapbox\":[{\"type\":\"scattermapbox\",\"marker\":{\"colorbar\":{\"outlinewidth\":0,\"ticks\":\"\"}}}],\"scatterternary\":[{\"type\":\"scatterternary\",\"marker\":{\"colorbar\":{\"outlinewidth\":0,\"ticks\":\"\"}}}],\"scattercarpet\":[{\"type\":\"scattercarpet\",\"marker\":{\"colorbar\":{\"outlinewidth\":0,\"ticks\":\"\"}}}],\"carpet\":[{\"aaxis\":{\"endlinecolor\":\"#2a3f5f\",\"gridcolor\":\"white\",\"linecolor\":\"white\",\"minorgridcolor\":\"white\",\"startlinecolor\":\"#2a3f5f\"},\"baxis\":{\"endlinecolor\":\"#2a3f5f\",\"gridcolor\":\"white\",\"linecolor\":\"white\",\"minorgridcolor\":\"white\",\"startlinecolor\":\"#2a3f5f\"},\"type\":\"carpet\"}],\"table\":[{\"cells\":{\"fill\":{\"color\":\"#EBF0F8\"},\"line\":{\"color\":\"white\"}},\"header\":{\"fill\":{\"color\":\"#C8D4E3\"},\"line\":{\"color\":\"white\"}},\"type\":\"table\"}],\"barpolar\":[{\"marker\":{\"line\":{\"color\":\"#E5ECF6\",\"width\":0.5},\"pattern\":{\"fillmode\":\"overlay\",\"size\":10,\"solidity\":0.2}},\"type\":\"barpolar\"}],\"pie\":[{\"automargin\":true,\"type\":\"pie\"}]},\"layout\":{\"autotypenumbers\":\"strict\",\"colorway\":[\"#636efa\",\"#EF553B\",\"#00cc96\",\"#ab63fa\",\"#FFA15A\",\"#19d3f3\",\"#FF6692\",\"#B6E880\",\"#FF97FF\",\"#FECB52\"],\"font\":{\"color\":\"#2a3f5f\"},\"hovermode\":\"closest\",\"hoverlabel\":{\"align\":\"left\"},\"paper_bgcolor\":\"white\",\"plot_bgcolor\":\"#E5ECF6\",\"polar\":{\"bgcolor\":\"#E5ECF6\",\"angularaxis\":{\"gridcolor\":\"white\",\"linecolor\":\"white\",\"ticks\":\"\"},\"radialaxis\":{\"gridcolor\":\"white\",\"linecolor\":\"white\",\"ticks\":\"\"}},\"ternary\":{\"bgcolor\":\"#E5ECF6\",\"aaxis\":{\"gridcolor\":\"white\",\"linecolor\":\"white\",\"ticks\":\"\"},\"baxis\":{\"gridcolor\":\"white\",\"linecolor\":\"white\",\"ticks\":\"\"},\"caxis\":{\"gridcolor\":\"white\",\"linecolor\":\"white\",\"ticks\":\"\"}},\"coloraxis\":{\"colorbar\":{\"outlinewidth\":0,\"ticks\":\"\"}},\"colorscale\":{\"sequential\":[[0.0,\"#0d0887\"],[0.1111111111111111,\"#46039f\"],[0.2222222222222222,\"#7201a8\"],[0.3333333333333333,\"#9c179e\"],[0.4444444444444444,\"#bd3786\"],[0.5555555555555556,\"#d8576b\"],[0.6666666666666666,\"#ed7953\"],[0.7777777777777778,\"#fb9f3a\"],[0.8888888888888888,\"#fdca26\"],[1.0,\"#f0f921\"]],\"sequentialminus\":[[0.0,\"#0d0887\"],[0.1111111111111111,\"#46039f\"],[0.2222222222222222,\"#7201a8\"],[0.3333333333333333,\"#9c179e\"],[0.4444444444444444,\"#bd3786\"],[0.5555555555555556,\"#d8576b\"],[0.6666666666666666,\"#ed7953\"],[0.7777777777777778,\"#fb9f3a\"],[0.8888888888888888,\"#fdca26\"],[1.0,\"#f0f921\"]],\"diverging\":[[0,\"#8e0152\"],[0.1,\"#c51b7d\"],[0.2,\"#de77ae\"],[0.3,\"#f1b6da\"],[0.4,\"#fde0ef\"],[0.5,\"#f7f7f7\"],[0.6,\"#e6f5d0\"],[0.7,\"#b8e186\"],[0.8,\"#7fbc41\"],[0.9,\"#4d9221\"],[1,\"#276419\"]]},\"xaxis\":{\"gridcolor\":\"white\",\"linecolor\":\"white\",\"ticks\":\"\",\"title\":{\"standoff\":15},\"zerolinecolor\":\"white\",\"automargin\":true,\"zerolinewidth\":2},\"yaxis\":{\"gridcolor\":\"white\",\"linecolor\":\"white\",\"ticks\":\"\",\"title\":{\"standoff\":15},\"zerolinecolor\":\"white\",\"automargin\":true,\"zerolinewidth\":2},\"scene\":{\"xaxis\":{\"backgroundcolor\":\"#E5ECF6\",\"gridcolor\":\"white\",\"linecolor\":\"white\",\"showbackground\":true,\"ticks\":\"\",\"zerolinecolor\":\"white\",\"gridwidth\":2},\"yaxis\":{\"backgroundcolor\":\"#E5ECF6\",\"gridcolor\":\"white\",\"linecolor\":\"white\",\"showbackground\":true,\"ticks\":\"\",\"zerolinecolor\":\"white\",\"gridwidth\":2},\"zaxis\":{\"backgroundcolor\":\"#E5ECF6\",\"gridcolor\":\"white\",\"linecolor\":\"white\",\"showbackground\":true,\"ticks\":\"\",\"zerolinecolor\":\"white\",\"gridwidth\":2}},\"shapedefaults\":{\"line\":{\"color\":\"#2a3f5f\"}},\"annotationdefaults\":{\"arrowcolor\":\"#2a3f5f\",\"arrowhead\":0,\"arrowwidth\":1},\"geo\":{\"bgcolor\":\"white\",\"landcolor\":\"#E5ECF6\",\"subunitcolor\":\"white\",\"showland\":true,\"showlakes\":true,\"lakecolor\":\"white\"},\"title\":{\"x\":0.05},\"mapbox\":{\"style\":\"light\"}}},\"width\":1200,\"height\":1800},                        {\"responsive\": true}                    ).then(function(){\n",
              "                            \n",
              "var gd = document.getElementById('0a93fe80-e374-4ad8-8108-25b21126df27');\n",
              "var x = new MutationObserver(function (mutations, observer) {{\n",
              "        var display = window.getComputedStyle(gd).display;\n",
              "        if (!display || display === 'none') {{\n",
              "            console.log([gd, 'removed!']);\n",
              "            Plotly.purge(gd);\n",
              "            observer.disconnect();\n",
              "        }}\n",
              "}});\n",
              "\n",
              "// Listen for the removal of the full notebook cells\n",
              "var notebookContainer = gd.closest('#notebook-container');\n",
              "if (notebookContainer) {{\n",
              "    x.observe(notebookContainer, {childList: true});\n",
              "}}\n",
              "\n",
              "// Listen for the clearing of the current output cell\n",
              "var outputEl = gd.closest('.output');\n",
              "if (outputEl) {{\n",
              "    x.observe(outputEl, {childList: true});\n",
              "}}\n",
              "\n",
              "                        })                };                            </script>        </div>\n",
              "</body>\n",
              "</html>"
            ]
          },
          "metadata": {},
          "output_type": "display_data"
        }
      ],
      "source": [
        "import pandas as pd\n",
        "import plotly.graph_objs as go\n",
        "\n",
        "\n",
        "\n",
        "# Count the number of Wifi IDs for each IP address\n",
        "ip_wifi_counts = df_n.groupby('Ip_address')['Wifi_id'].count().reset_index(name='count')\n",
        "\n",
        "# Sort the IP addresses by their Wifi ID counts\n",
        "ip_wifi_counts = ip_wifi_counts.sort_values('count', ascending=False)\n",
        "\n",
        "# Create a horizontal bar graph using plotly\n",
        "data = [go.Bar(y=ip_wifi_counts['Ip_address'], x=ip_wifi_counts['count'], orientation='h', marker=dict(color='red'))]\n",
        "layout = go.Layout(title='IP Address vs Number of Wifi IDs', xaxis=dict(title='Number of Wifi IDs'), yaxis=dict(title='IP Address'))\n",
        "fig = go.Figure(data=data, layout=layout)\n",
        "fig.update_layout(width=1200, height=1800)\n",
        "\n",
        "fig.show()\n",
        "\n",
        "\n"
      ]
    },
    {
      "cell_type": "code",
      "execution_count": null,
      "metadata": {
        "colab": {
          "base_uri": "https://localhost:8080/",
          "height": 1000
        },
        "id": "8mm2ZLTNo6RQ",
        "outputId": "891e0f4e-582b-44b7-9f5a-b336102140b5"
      },
      "outputs": [
        {
          "data": {
            "text/html": [
              "<html>\n",
              "<head><meta charset=\"utf-8\" /></head>\n",
              "<body>\n",
              "    <div>            <script src=\"https://cdnjs.cloudflare.com/ajax/libs/mathjax/2.7.5/MathJax.js?config=TeX-AMS-MML_SVG\"></script><script type=\"text/javascript\">if (window.MathJax && window.MathJax.Hub && window.MathJax.Hub.Config) {window.MathJax.Hub.Config({SVG: {font: \"STIX-Web\"}});}</script>                <script type=\"text/javascript\">window.PlotlyConfig = {MathJaxConfig: 'local'};</script>\n",
              "        <script src=\"https://cdn.plot.ly/plotly-2.18.2.min.js\"></script>                <div id=\"cb4a698b-429d-4bb2-84dd-447a7fcdaa34\" class=\"plotly-graph-div\" style=\"height:1800px; width:1200px;\"></div>            <script type=\"text/javascript\">                                    window.PLOTLYENV=window.PLOTLYENV || {};                                    if (document.getElementById(\"cb4a698b-429d-4bb2-84dd-447a7fcdaa34\")) {                    Plotly.newPlot(                        \"cb4a698b-429d-4bb2-84dd-447a7fcdaa34\",                        [{\"marker\":{\"color\":\"red\"},\"orientation\":\"h\",\"x\":[11584,10074,6592,6059,5711,5576,5457,5132,5037,4741,4708,4516,4369,4364,4084,4048,4005,3892,3871,3804,3801,3790,3700,3520,3471,3423,3146,3070,3059,3032,3024,2993,2909,2830,2779,2749,2717,2667,2666,2658,2646,2613,2566,2544,2503,2502,2466,2456,2442,2424,2379,2316,2312,2305,2241,2193,2172,2167,2099,2048,2048,2046,2008,2004,1997,1981,1979,1958,1957,1942,1942,1905,1866,1791,1788,1785,1752,1747,1736,1712,1712,1706,1705,1701,1680,1672,1667,1647,1640,1606,1594,1589,1568,1540,1536,1520,1519,1486,1481,1477,1426,1417,1415,1410,1404,1385,1360,1360,1351,1340,1332,1284,1279,1260,1258,1251,1232,1222,1190,1178,1170,1158,1158,1157,1148,1134,1099,1099,1097,1093,1080,1065,1059,1026,1014,1006,1005,1005,990,982,962,961,944,942,940,916,916,873,860,857,848,840,837,837,829,822,821,816,812,805,800,787,783,780,778,773,747,746,735,725,700,655,647,644,638,634,619,607,598,591,591,590,588,585,580,578,571,569,556,556,555,549,543,534,534,529,529,525,524,521,516,514,501,491,483,476,469,466,465,460,451,447,446,441,435,430,429,429,425,410,399,398,396,395,393,390,387,385,382,381,376,375,375,373,364,363,362,357,354,354,353,347,346,342,340,339,339,335,334,326,321,317,317,313,310,310,308,306,302,301,299,297,296,295,290,290,288,287,286,281,281,277,276,275,275,274,274,271,269,267,260,257,254,253,251,249,248,248,247,247,247,245,239,238,238,235,233,232,232,231,229,229,228,228,228,225,223,222,218,215,213,212,210,209,208,208,206,204,203,202,201,199,198,197,197,197,195,195,195,194,192,190,189,186,185,185,185,185,184,184,184,183,182,181,180,179,178,178,178,177,177,174,173,173,173,172,172,171,171,171,170,170,169,169,169,168,167,167,166,166,165,165,165,164,162,161,160,160,160,158,158,155,154,153,152,152,152,152,151,150,150,150,149,149,149,148,148,148,148,147,146,146,145,144,143,142,139,139,139,137,136,136,134,133,132,131,131,130,130,129,129,128,128,128,127,127,127,126,126,125,125,123,123,123,122,121,121,120,120,119,117,116,116,115,114,113,113,113,113,112,112,111,110,110,110,110,109,109,107,107,107,107,106,106,106,105,105,104,104,102,102,101,101,100,99,99,99,99,97,96,94,94,94,93,93,93,93,92,92,92,91,91,90,89,89,89,88,87,87,85,84,84,84,83,83,82,82,82,82,82,82,82,81,81,80,80,80,79,79,79,77,77,77,77,76,76,75,75,75,75,74,74,74,73,73,72,72,72,71,71,71,71,71,70,70,70,69,69,69,68,68,68,67,67,67,66,66,65,64,64,63,63,62,62,62,62,62,61,61,61,60,60,59,59,59,59,58,58,58,58,58,57,57,57,57,56,56,56,56,56,56,55,55,54,54,54,53,53,52,51,51,51,51,50,50,50,49,49,48,48,48,48,47,47,47,46,46,45,45,44,44,44,43,43,43,43,43,43,42,42,42,42,41,41,40,40,40,40,40,40,39,39,39,39,39,39,39,38,38,38,38,38,37,37,37,37,36,36,36,35,34,34,33,32,32,32,31,31,31,30,30,30,30,30,30,29,29,29,29,29,29,28,28,28,27,27,27,27,27,27,26,26,26,26,26,25,25,25,25,25,25,25,25,24,24,24,24,24,24,24,24,23,23,23,23,23,23,23,23,23,22,22,21,21,21,21,21,21,21,21,21,21,20,20,20,20,19,19,19,18,18,18,18,18,18,18,18,18,17,17,17,17,17,17,17,17,17,17,16,16,16,16,16,16,16,16,16,15,15,15,15,15,15,15,15,15,15,14,14,14,14,14,14,14,13,13,13,13,13,13,13,13,12,12,12,12,12,12,12,12,12,12,12,12,12,12,11,11,11,11,11,11,11,11,11,11,11,10,10,10,10,10,10,10,10,10,9,9,9,9,9,9,9,9,9,9,9,9,9,9,9,9,8,8,8,8,8,8,8,8,8,8,8,8,8,8,8,7,7,7,7,7,7,7,7,7,7,7,7,7,7,7,7,7,7,7,6,6,6,6,6,6,6,6,6,6,6,6,6,6,6,6,6,6,6,6,6,6,6,6,6,6,6,5,5,5,5,5,5,5,5,5,5,5,5,5,5,5,4,4,4,4,4,4,4,4,4,4,4,4,4,4,4,4,4,4,4,4,4,4,4,4,4,4,4,3,3,3,3,3,3,3,3,3,3,3,3,3,3,3,3,3,3,3,3,3,3,3,3,3,3,3,3,3,3,3,3,3,3,3,3,3,3,3,3,3,3,3,3,3,3,3,3,3,3,3,3,3,3,3,3,3,3,3,3,2,2,2,2,2,2,2,2,2,2,2,2,2,2,2,2,2,2,2,2,2,2,2,2,2,2,2,2,1,1,1,1,1,1,1,1,1,1,1,1,1,1,1,1,1,1,1,1,1,1,1,1,1,1,1,1,1,1,1,1,1,1,1,1,1,1,1,1,1,1,1,1,1,1,1,1,1,1,1,1,1,1,1,1],\"y\":[\"IP_ADD_1\",\"IP_ADD_2\",\"IP_ADD_3\",\"IP_ADD_4\",\"IP_ADD_5\",\"IP_ADD_6\",\"IP_ADD_7\",\"IP_ADD_8\",\"IP_ADD_9\",\"IP_ADD_10\",\"IP_ADD_11\",\"IP_ADD_12\",\"IP_ADD_13\",\"IP_ADD_14\",\"IP_ADD_15\",\"IP_ADD_16\",\"IP_ADD_17\",\"IP_ADD_18\",\"IP_ADD_19\",\"IP_ADD_20\",\"IP_ADD_21\",\"IP_ADD_22\",\"IP_ADD_23\",\"IP_ADD_24\",\"IP_ADD_25\",\"IP_ADD_26\",\"IP_ADD_27\",\"IP_ADD_28\",\"IP_ADD_29\",\"IP_ADD_30\",\"IP_ADD_31\",\"IP_ADD_32\",\"IP_ADD_33\",\"IP_ADD_34\",\"IP_ADD_35\",\"IP_ADD_36\",\"IP_ADD_37\",\"IP_ADD_38\",\"IP_ADD_39\",\"IP_ADD_40\",\"IP_ADD_41\",\"IP_ADD_42\",\"IP_ADD_43\",\"IP_ADD_44\",\"IP_ADD_45\",\"IP_ADD_46\",\"IP_ADD_47\",\"IP_ADD_48\",\"IP_ADD_49\",\"IP_ADD_50\",\"IP_ADD_51\",\"IP_ADD_52\",\"IP_ADD_53\",\"IP_ADD_54\",\"IP_ADD_55\",\"IP_ADD_56\",\"IP_ADD_57\",\"IP_ADD_58\",\"IP_ADD_59\",\"IP_ADD_60\",\"IP_ADD_61\",\"IP_ADD_62\",\"IP_ADD_63\",\"IP_ADD_64\",\"IP_ADD_65\",\"IP_ADD_66\",\"IP_ADD_67\",\"IP_ADD_68\",\"IP_ADD_69\",\"IP_ADD_70\",\"IP_ADD_71\",\"IP_ADD_72\",\"IP_ADD_73\",\"IP_ADD_74\",\"IP_ADD_75\",\"IP_ADD_76\",\"IP_ADD_77\",\"IP_ADD_78\",\"IP_ADD_79\",\"IP_ADD_80\",\"IP_ADD_81\",\"IP_ADD_82\",\"IP_ADD_83\",\"IP_ADD_84\",\"IP_ADD_85\",\"IP_ADD_86\",\"IP_ADD_87\",\"IP_ADD_88\",\"IP_ADD_89\",\"IP_ADD_90\",\"IP_ADD_91\",\"IP_ADD_92\",\"IP_ADD_93\",\"IP_ADD_94\",\"IP_ADD_95\",\"IP_ADD_96\",\"IP_ADD_97\",\"IP_ADD_98\",\"IP_ADD_99\",\"IP_ADD_100\",\"IP_ADD_101\",\"IP_ADD_102\",\"IP_ADD_103\",\"IP_ADD_104\",\"IP_ADD_105\",\"IP_ADD_106\",\"IP_ADD_107\",\"IP_ADD_108\",\"IP_ADD_109\",\"IP_ADD_110\",\"IP_ADD_111\",\"IP_ADD_112\",\"IP_ADD_113\",\"IP_ADD_114\",\"IP_ADD_115\",\"IP_ADD_116\",\"IP_ADD_117\",\"IP_ADD_118\",\"IP_ADD_119\",\"IP_ADD_120\",\"IP_ADD_121\",\"IP_ADD_122\",\"IP_ADD_123\",\"IP_ADD_124\",\"IP_ADD_125\",\"IP_ADD_126\",\"IP_ADD_127\",\"IP_ADD_128\",\"IP_ADD_129\",\"IP_ADD_130\",\"IP_ADD_131\",\"IP_ADD_132\",\"IP_ADD_133\",\"IP_ADD_134\",\"IP_ADD_135\",\"IP_ADD_136\",\"IP_ADD_137\",\"IP_ADD_138\",\"IP_ADD_139\",\"IP_ADD_140\",\"IP_ADD_141\",\"IP_ADD_142\",\"IP_ADD_143\",\"IP_ADD_144\",\"IP_ADD_145\",\"IP_ADD_146\",\"IP_ADD_147\",\"IP_ADD_148\",\"IP_ADD_149\",\"IP_ADD_150\",\"IP_ADD_151\",\"IP_ADD_152\",\"IP_ADD_153\",\"IP_ADD_154\",\"IP_ADD_155\",\"IP_ADD_156\",\"IP_ADD_157\",\"IP_ADD_158\",\"IP_ADD_159\",\"IP_ADD_160\",\"IP_ADD_161\",\"IP_ADD_162\",\"IP_ADD_163\",\"IP_ADD_164\",\"IP_ADD_165\",\"IP_ADD_166\",\"IP_ADD_167\",\"IP_ADD_168\",\"IP_ADD_169\",\"IP_ADD_170\",\"IP_ADD_171\",\"IP_ADD_172\",\"IP_ADD_173\",\"IP_ADD_174\",\"IP_ADD_175\",\"IP_ADD_176\",\"IP_ADD_177\",\"IP_ADD_178\",\"IP_ADD_179\",\"IP_ADD_180\",\"IP_ADD_181\",\"IP_ADD_182\",\"IP_ADD_183\",\"IP_ADD_184\",\"IP_ADD_185\",\"IP_ADD_186\",\"IP_ADD_187\",\"IP_ADD_188\",\"IP_ADD_189\",\"IP_ADD_190\",\"IP_ADD_191\",\"IP_ADD_192\",\"IP_ADD_193\",\"IP_ADD_194\",\"IP_ADD_195\",\"IP_ADD_196\",\"IP_ADD_197\",\"IP_ADD_198\",\"IP_ADD_199\",\"IP_ADD_200\",\"IP_ADD_201\",\"IP_ADD_202\",\"IP_ADD_203\",\"IP_ADD_204\",\"IP_ADD_205\",\"IP_ADD_206\",\"IP_ADD_207\",\"IP_ADD_208\",\"IP_ADD_209\",\"IP_ADD_210\",\"IP_ADD_211\",\"IP_ADD_212\",\"IP_ADD_213\",\"IP_ADD_214\",\"IP_ADD_215\",\"IP_ADD_216\",\"IP_ADD_217\",\"IP_ADD_218\",\"IP_ADD_219\",\"IP_ADD_220\",\"IP_ADD_221\",\"IP_ADD_222\",\"IP_ADD_223\",\"IP_ADD_224\",\"IP_ADD_225\",\"IP_ADD_226\",\"IP_ADD_227\",\"IP_ADD_228\",\"IP_ADD_229\",\"IP_ADD_230\",\"IP_ADD_231\",\"IP_ADD_232\",\"IP_ADD_233\",\"IP_ADD_234\",\"IP_ADD_235\",\"IP_ADD_236\",\"IP_ADD_237\",\"IP_ADD_238\",\"IP_ADD_239\",\"IP_ADD_240\",\"IP_ADD_241\",\"IP_ADD_242\",\"IP_ADD_243\",\"IP_ADD_244\",\"IP_ADD_245\",\"IP_ADD_246\",\"IP_ADD_247\",\"IP_ADD_248\",\"IP_ADD_249\",\"IP_ADD_250\"],\"type\":\"bar\"}],                        {\"plot_bgcolor\":\"white\",\"title\":{\"text\":\"IP Add vs Number of Wifi IDs\"},\"xaxis\":{\"title\":{\"text\":\"Number of Wifi IDs\"}},\"yaxis\":{\"title\":{\"text\":\"Custom Labels\"}},\"template\":{\"data\":{\"histogram2dcontour\":[{\"type\":\"histogram2dcontour\",\"colorbar\":{\"outlinewidth\":0,\"ticks\":\"\"},\"colorscale\":[[0.0,\"#0d0887\"],[0.1111111111111111,\"#46039f\"],[0.2222222222222222,\"#7201a8\"],[0.3333333333333333,\"#9c179e\"],[0.4444444444444444,\"#bd3786\"],[0.5555555555555556,\"#d8576b\"],[0.6666666666666666,\"#ed7953\"],[0.7777777777777778,\"#fb9f3a\"],[0.8888888888888888,\"#fdca26\"],[1.0,\"#f0f921\"]]}],\"choropleth\":[{\"type\":\"choropleth\",\"colorbar\":{\"outlinewidth\":0,\"ticks\":\"\"}}],\"histogram2d\":[{\"type\":\"histogram2d\",\"colorbar\":{\"outlinewidth\":0,\"ticks\":\"\"},\"colorscale\":[[0.0,\"#0d0887\"],[0.1111111111111111,\"#46039f\"],[0.2222222222222222,\"#7201a8\"],[0.3333333333333333,\"#9c179e\"],[0.4444444444444444,\"#bd3786\"],[0.5555555555555556,\"#d8576b\"],[0.6666666666666666,\"#ed7953\"],[0.7777777777777778,\"#fb9f3a\"],[0.8888888888888888,\"#fdca26\"],[1.0,\"#f0f921\"]]}],\"heatmap\":[{\"type\":\"heatmap\",\"colorbar\":{\"outlinewidth\":0,\"ticks\":\"\"},\"colorscale\":[[0.0,\"#0d0887\"],[0.1111111111111111,\"#46039f\"],[0.2222222222222222,\"#7201a8\"],[0.3333333333333333,\"#9c179e\"],[0.4444444444444444,\"#bd3786\"],[0.5555555555555556,\"#d8576b\"],[0.6666666666666666,\"#ed7953\"],[0.7777777777777778,\"#fb9f3a\"],[0.8888888888888888,\"#fdca26\"],[1.0,\"#f0f921\"]]}],\"heatmapgl\":[{\"type\":\"heatmapgl\",\"colorbar\":{\"outlinewidth\":0,\"ticks\":\"\"},\"colorscale\":[[0.0,\"#0d0887\"],[0.1111111111111111,\"#46039f\"],[0.2222222222222222,\"#7201a8\"],[0.3333333333333333,\"#9c179e\"],[0.4444444444444444,\"#bd3786\"],[0.5555555555555556,\"#d8576b\"],[0.6666666666666666,\"#ed7953\"],[0.7777777777777778,\"#fb9f3a\"],[0.8888888888888888,\"#fdca26\"],[1.0,\"#f0f921\"]]}],\"contourcarpet\":[{\"type\":\"contourcarpet\",\"colorbar\":{\"outlinewidth\":0,\"ticks\":\"\"}}],\"contour\":[{\"type\":\"contour\",\"colorbar\":{\"outlinewidth\":0,\"ticks\":\"\"},\"colorscale\":[[0.0,\"#0d0887\"],[0.1111111111111111,\"#46039f\"],[0.2222222222222222,\"#7201a8\"],[0.3333333333333333,\"#9c179e\"],[0.4444444444444444,\"#bd3786\"],[0.5555555555555556,\"#d8576b\"],[0.6666666666666666,\"#ed7953\"],[0.7777777777777778,\"#fb9f3a\"],[0.8888888888888888,\"#fdca26\"],[1.0,\"#f0f921\"]]}],\"surface\":[{\"type\":\"surface\",\"colorbar\":{\"outlinewidth\":0,\"ticks\":\"\"},\"colorscale\":[[0.0,\"#0d0887\"],[0.1111111111111111,\"#46039f\"],[0.2222222222222222,\"#7201a8\"],[0.3333333333333333,\"#9c179e\"],[0.4444444444444444,\"#bd3786\"],[0.5555555555555556,\"#d8576b\"],[0.6666666666666666,\"#ed7953\"],[0.7777777777777778,\"#fb9f3a\"],[0.8888888888888888,\"#fdca26\"],[1.0,\"#f0f921\"]]}],\"mesh3d\":[{\"type\":\"mesh3d\",\"colorbar\":{\"outlinewidth\":0,\"ticks\":\"\"}}],\"scatter\":[{\"fillpattern\":{\"fillmode\":\"overlay\",\"size\":10,\"solidity\":0.2},\"type\":\"scatter\"}],\"parcoords\":[{\"type\":\"parcoords\",\"line\":{\"colorbar\":{\"outlinewidth\":0,\"ticks\":\"\"}}}],\"scatterpolargl\":[{\"type\":\"scatterpolargl\",\"marker\":{\"colorbar\":{\"outlinewidth\":0,\"ticks\":\"\"}}}],\"bar\":[{\"error_x\":{\"color\":\"#2a3f5f\"},\"error_y\":{\"color\":\"#2a3f5f\"},\"marker\":{\"line\":{\"color\":\"#E5ECF6\",\"width\":0.5},\"pattern\":{\"fillmode\":\"overlay\",\"size\":10,\"solidity\":0.2}},\"type\":\"bar\"}],\"scattergeo\":[{\"type\":\"scattergeo\",\"marker\":{\"colorbar\":{\"outlinewidth\":0,\"ticks\":\"\"}}}],\"scatterpolar\":[{\"type\":\"scatterpolar\",\"marker\":{\"colorbar\":{\"outlinewidth\":0,\"ticks\":\"\"}}}],\"histogram\":[{\"marker\":{\"pattern\":{\"fillmode\":\"overlay\",\"size\":10,\"solidity\":0.2}},\"type\":\"histogram\"}],\"scattergl\":[{\"type\":\"scattergl\",\"marker\":{\"colorbar\":{\"outlinewidth\":0,\"ticks\":\"\"}}}],\"scatter3d\":[{\"type\":\"scatter3d\",\"line\":{\"colorbar\":{\"outlinewidth\":0,\"ticks\":\"\"}},\"marker\":{\"colorbar\":{\"outlinewidth\":0,\"ticks\":\"\"}}}],\"scattermapbox\":[{\"type\":\"scattermapbox\",\"marker\":{\"colorbar\":{\"outlinewidth\":0,\"ticks\":\"\"}}}],\"scatterternary\":[{\"type\":\"scatterternary\",\"marker\":{\"colorbar\":{\"outlinewidth\":0,\"ticks\":\"\"}}}],\"scattercarpet\":[{\"type\":\"scattercarpet\",\"marker\":{\"colorbar\":{\"outlinewidth\":0,\"ticks\":\"\"}}}],\"carpet\":[{\"aaxis\":{\"endlinecolor\":\"#2a3f5f\",\"gridcolor\":\"white\",\"linecolor\":\"white\",\"minorgridcolor\":\"white\",\"startlinecolor\":\"#2a3f5f\"},\"baxis\":{\"endlinecolor\":\"#2a3f5f\",\"gridcolor\":\"white\",\"linecolor\":\"white\",\"minorgridcolor\":\"white\",\"startlinecolor\":\"#2a3f5f\"},\"type\":\"carpet\"}],\"table\":[{\"cells\":{\"fill\":{\"color\":\"#EBF0F8\"},\"line\":{\"color\":\"white\"}},\"header\":{\"fill\":{\"color\":\"#C8D4E3\"},\"line\":{\"color\":\"white\"}},\"type\":\"table\"}],\"barpolar\":[{\"marker\":{\"line\":{\"color\":\"#E5ECF6\",\"width\":0.5},\"pattern\":{\"fillmode\":\"overlay\",\"size\":10,\"solidity\":0.2}},\"type\":\"barpolar\"}],\"pie\":[{\"automargin\":true,\"type\":\"pie\"}]},\"layout\":{\"autotypenumbers\":\"strict\",\"colorway\":[\"#636efa\",\"#EF553B\",\"#00cc96\",\"#ab63fa\",\"#FFA15A\",\"#19d3f3\",\"#FF6692\",\"#B6E880\",\"#FF97FF\",\"#FECB52\"],\"font\":{\"color\":\"#2a3f5f\"},\"hovermode\":\"closest\",\"hoverlabel\":{\"align\":\"left\"},\"paper_bgcolor\":\"white\",\"plot_bgcolor\":\"#E5ECF6\",\"polar\":{\"bgcolor\":\"#E5ECF6\",\"angularaxis\":{\"gridcolor\":\"white\",\"linecolor\":\"white\",\"ticks\":\"\"},\"radialaxis\":{\"gridcolor\":\"white\",\"linecolor\":\"white\",\"ticks\":\"\"}},\"ternary\":{\"bgcolor\":\"#E5ECF6\",\"aaxis\":{\"gridcolor\":\"white\",\"linecolor\":\"white\",\"ticks\":\"\"},\"baxis\":{\"gridcolor\":\"white\",\"linecolor\":\"white\",\"ticks\":\"\"},\"caxis\":{\"gridcolor\":\"white\",\"linecolor\":\"white\",\"ticks\":\"\"}},\"coloraxis\":{\"colorbar\":{\"outlinewidth\":0,\"ticks\":\"\"}},\"colorscale\":{\"sequential\":[[0.0,\"#0d0887\"],[0.1111111111111111,\"#46039f\"],[0.2222222222222222,\"#7201a8\"],[0.3333333333333333,\"#9c179e\"],[0.4444444444444444,\"#bd3786\"],[0.5555555555555556,\"#d8576b\"],[0.6666666666666666,\"#ed7953\"],[0.7777777777777778,\"#fb9f3a\"],[0.8888888888888888,\"#fdca26\"],[1.0,\"#f0f921\"]],\"sequentialminus\":[[0.0,\"#0d0887\"],[0.1111111111111111,\"#46039f\"],[0.2222222222222222,\"#7201a8\"],[0.3333333333333333,\"#9c179e\"],[0.4444444444444444,\"#bd3786\"],[0.5555555555555556,\"#d8576b\"],[0.6666666666666666,\"#ed7953\"],[0.7777777777777778,\"#fb9f3a\"],[0.8888888888888888,\"#fdca26\"],[1.0,\"#f0f921\"]],\"diverging\":[[0,\"#8e0152\"],[0.1,\"#c51b7d\"],[0.2,\"#de77ae\"],[0.3,\"#f1b6da\"],[0.4,\"#fde0ef\"],[0.5,\"#f7f7f7\"],[0.6,\"#e6f5d0\"],[0.7,\"#b8e186\"],[0.8,\"#7fbc41\"],[0.9,\"#4d9221\"],[1,\"#276419\"]]},\"xaxis\":{\"gridcolor\":\"white\",\"linecolor\":\"white\",\"ticks\":\"\",\"title\":{\"standoff\":15},\"zerolinecolor\":\"white\",\"automargin\":true,\"zerolinewidth\":2},\"yaxis\":{\"gridcolor\":\"white\",\"linecolor\":\"white\",\"ticks\":\"\",\"title\":{\"standoff\":15},\"zerolinecolor\":\"white\",\"automargin\":true,\"zerolinewidth\":2},\"scene\":{\"xaxis\":{\"backgroundcolor\":\"#E5ECF6\",\"gridcolor\":\"white\",\"linecolor\":\"white\",\"showbackground\":true,\"ticks\":\"\",\"zerolinecolor\":\"white\",\"gridwidth\":2},\"yaxis\":{\"backgroundcolor\":\"#E5ECF6\",\"gridcolor\":\"white\",\"linecolor\":\"white\",\"showbackground\":true,\"ticks\":\"\",\"zerolinecolor\":\"white\",\"gridwidth\":2},\"zaxis\":{\"backgroundcolor\":\"#E5ECF6\",\"gridcolor\":\"white\",\"linecolor\":\"white\",\"showbackground\":true,\"ticks\":\"\",\"zerolinecolor\":\"white\",\"gridwidth\":2}},\"shapedefaults\":{\"line\":{\"color\":\"#2a3f5f\"}},\"annotationdefaults\":{\"arrowcolor\":\"#2a3f5f\",\"arrowhead\":0,\"arrowwidth\":1},\"geo\":{\"bgcolor\":\"white\",\"landcolor\":\"#E5ECF6\",\"subunitcolor\":\"white\",\"showland\":true,\"showlakes\":true,\"lakecolor\":\"white\"},\"title\":{\"x\":0.05},\"mapbox\":{\"style\":\"light\"}}},\"width\":1200,\"height\":1800},                        {\"responsive\": true}                    ).then(function(){\n",
              "                            \n",
              "var gd = document.getElementById('cb4a698b-429d-4bb2-84dd-447a7fcdaa34');\n",
              "var x = new MutationObserver(function (mutations, observer) {{\n",
              "        var display = window.getComputedStyle(gd).display;\n",
              "        if (!display || display === 'none') {{\n",
              "            console.log([gd, 'removed!']);\n",
              "            Plotly.purge(gd);\n",
              "            observer.disconnect();\n",
              "        }}\n",
              "}});\n",
              "\n",
              "// Listen for the removal of the full notebook cells\n",
              "var notebookContainer = gd.closest('#notebook-container');\n",
              "if (notebookContainer) {{\n",
              "    x.observe(notebookContainer, {childList: true});\n",
              "}}\n",
              "\n",
              "// Listen for the clearing of the current output cell\n",
              "var outputEl = gd.closest('.output');\n",
              "if (outputEl) {{\n",
              "    x.observe(outputEl, {childList: true});\n",
              "}}\n",
              "\n",
              "                        })                };                            </script>        </div>\n",
              "</body>\n",
              "</html>"
            ]
          },
          "metadata": {},
          "output_type": "display_data"
        }
      ],
      "source": [
        "import pandas as pd\n",
        "import plotly.graph_objs as go\n",
        "\n",
        "# Count the number of Wifi IDs for each IP address\n",
        "ip_wifi_counts = df_n.groupby('Ip_address')['Wifi_id'].count().reset_index(name='count')\n",
        "\n",
        "# Sort the IP addes by their Wifi ID counts\n",
        "ip_wifi_counts = ip_wifi_counts.sort_values('count', ascending=False)\n",
        "\n",
        "# Create custom labels for the y-axis\n",
        "custom_labels = ['IP_ADD_1', 'IP_ADD_2', 'IP_ADD_3', 'IP_ADD_4', 'IP_ADD_5', 'IP_ADD_6', 'IP_ADD_7', 'IP_ADD_8', 'IP_ADD_9', 'IP_ADD_10','IP_ADD_11', 'IP_ADD_12', 'IP_ADD_13', 'IP_ADD_14', 'IP_ADD_15', 'IP_ADD_16', 'IP_ADD_17', 'IP_ADD_18', 'IP_ADD_19', 'IP_ADD_20'\n",
        ",'IP_ADD_21', 'IP_ADD_22', 'IP_ADD_23', 'IP_ADD_24', 'IP_ADD_25', 'IP_ADD_26', 'IP_ADD_27', 'IP_ADD_28', 'IP_ADD_29', 'IP_ADD_30','IP_ADD_31', 'IP_ADD_32', 'IP_ADD_33', 'IP_ADD_34', 'IP_ADD_35', 'IP_ADD_36', 'IP_ADD_37', 'IP_ADD_38', 'IP_ADD_39', 'IP_ADD_40',\n",
        "                 'IP_ADD_41', 'IP_ADD_42', 'IP_ADD_43', 'IP_ADD_44', 'IP_ADD_45', 'IP_ADD_46', 'IP_ADD_47', 'IP_ADD_48', 'IP_ADD_49', 'IP_ADD_50','IP_ADD_51', 'IP_ADD_52', 'IP_ADD_53', 'IP_ADD_54', 'IP_ADD_55', 'IP_ADD_56', 'IP_ADD_57', 'IP_ADD_58', 'IP_ADD_59',\n",
        "                 'IP_ADD_60','IP_ADD_61', 'IP_ADD_62', 'IP_ADD_63', 'IP_ADD_64', 'IP_ADD_65', 'IP_ADD_66', 'IP_ADD_67', 'IP_ADD_68', 'IP_ADD_69', 'IP_ADD_70','IP_ADD_71', 'IP_ADD_72', 'IP_ADD_73', 'IP_ADD_74', 'IP_ADD_75', 'IP_ADD_76', 'IP_ADD_77', 'IP_ADD_78', 'IP_ADD_79', 'IP_ADD_80',\n",
        "                 'IP_ADD_81', 'IP_ADD_82', 'IP_ADD_83', 'IP_ADD_84', 'IP_ADD_85', 'IP_ADD_86', 'IP_ADD_87', 'IP_ADD_88', 'IP_ADD_89', 'IP_ADD_90','IP_ADD_91', 'IP_ADD_92', 'IP_ADD_93', 'IP_ADD_94', 'IP_ADD_95', 'IP_ADD_96', 'IP_ADD_97', 'IP_ADD_98', 'IP_ADD_99', 'IP_ADD_100',\n",
        "                 'IP_ADD_101', 'IP_ADD_102', 'IP_ADD_103', 'IP_ADD_104', 'IP_ADD_105', 'IP_ADD_106', 'IP_ADD_107', 'IP_ADD_108', 'IP_ADD_109', 'IP_ADD_110','IP_ADD_111', 'IP_ADD_112', 'IP_ADD_113', 'IP_ADD_114', 'IP_ADD_115', 'IP_ADD_116', 'IP_ADD_117', 'IP_ADD_118', 'IP_ADD_119', 'IP_ADD_120',\n",
        "                 'IP_ADD_121', 'IP_ADD_122', 'IP_ADD_123', 'IP_ADD_124', 'IP_ADD_125', 'IP_ADD_126', 'IP_ADD_127', 'IP_ADD_128', 'IP_ADD_129', 'IP_ADD_130','IP_ADD_131', 'IP_ADD_132', 'IP_ADD_133', 'IP_ADD_134', 'IP_ADD_135', 'IP_ADD_136', 'IP_ADD_137', 'IP_ADD_138', 'IP_ADD_139', 'IP_ADD_140',\n",
        "                 'IP_ADD_141', 'IP_ADD_142', 'IP_ADD_143', 'IP_ADD_144', 'IP_ADD_145', 'IP_ADD_146', 'IP_ADD_147', 'IP_ADD_148', 'IP_ADD_149', 'IP_ADD_150','IP_ADD_151', 'IP_ADD_152', 'IP_ADD_153', 'IP_ADD_154', 'IP_ADD_155', 'IP_ADD_156', 'IP_ADD_157', 'IP_ADD_158', 'IP_ADD_159', 'IP_ADD_160',\n",
        "                 'IP_ADD_161', 'IP_ADD_162', 'IP_ADD_163', 'IP_ADD_164', 'IP_ADD_165', 'IP_ADD_166', 'IP_ADD_167', 'IP_ADD_168', 'IP_ADD_169', 'IP_ADD_170','IP_ADD_171', 'IP_ADD_172', 'IP_ADD_173', 'IP_ADD_174', 'IP_ADD_175', 'IP_ADD_176', 'IP_ADD_177', 'IP_ADD_178', 'IP_ADD_179', 'IP_ADD_180',\n",
        "                 'IP_ADD_181', 'IP_ADD_182', 'IP_ADD_183', 'IP_ADD_184', 'IP_ADD_185', 'IP_ADD_186', 'IP_ADD_187', 'IP_ADD_188', 'IP_ADD_189', 'IP_ADD_190','IP_ADD_191', 'IP_ADD_192', 'IP_ADD_193', 'IP_ADD_194', 'IP_ADD_195', 'IP_ADD_196', 'IP_ADD_197', 'IP_ADD_198', 'IP_ADD_199', 'IP_ADD_200',\n",
        "                 'IP_ADD_201', 'IP_ADD_202', 'IP_ADD_203', 'IP_ADD_204', 'IP_ADD_205', 'IP_ADD_206', 'IP_ADD_207', 'IP_ADD_208', 'IP_ADD_209', 'IP_ADD_210','IP_ADD_211', 'IP_ADD_212', 'IP_ADD_213', 'IP_ADD_214', 'IP_ADD_215', 'IP_ADD_216', 'IP_ADD_217', 'IP_ADD_218', 'IP_ADD_219', 'IP_ADD_220',\n",
        "                 'IP_ADD_221', 'IP_ADD_222', 'IP_ADD_223', 'IP_ADD_224', 'IP_ADD_225', 'IP_ADD_226', 'IP_ADD_227', 'IP_ADD_228', 'IP_ADD_229', 'IP_ADD_230','IP_ADD_231', 'IP_ADD_232', 'IP_ADD_233', 'IP_ADD_234', 'IP_ADD_235', 'IP_ADD_236', 'IP_ADD_237', 'IP_ADD_238', 'IP_ADD_239', 'IP_ADD_240',\n",
        "                 'IP_ADD_241', 'IP_ADD_242', 'IP_ADD_243', 'IP_ADD_244', 'IP_ADD_245', 'IP_ADD_246', 'IP_ADD_247', 'IP_ADD_248', 'IP_ADD_249', 'IP_ADD_250']  # Replace with your desired labels\n",
        "\n",
        "# Create a horizontal bar graph using plotly with custom labels\n",
        "data = [go.Bar(y=custom_labels, x=ip_wifi_counts['count'], orientation='h', marker=dict(color='red'))]\n",
        "layout = go.Layout(title='IP Add vs Number of Wifi IDs', xaxis=dict(title='Number of Wifi IDs'), yaxis=dict(title='Custom Labels'),plot_bgcolor='white')\n",
        "fig = go.Figure(data=data, layout=layout)\n",
        "fig.update_layout(width=1200, height=1800)\n",
        "\n",
        "fig.show()\n"
      ]
    },
    {
      "cell_type": "markdown",
      "metadata": {
        "id": "7whT8j6SE8Nl"
      },
      "source": [
        "# How many times the Wifi-id has occurred in total"
      ]
    },
    {
      "cell_type": "code",
      "execution_count": null,
      "metadata": {
        "colab": {
          "base_uri": "https://localhost:8080/",
          "height": 1000
        },
        "id": "yx3Rr74MZdeP",
        "outputId": "a85197dd-1ea8-469c-809a-7404acd88f0b"
      },
      "outputs": [
        {
          "data": {
            "text/html": [
              "<html>\n",
              "<head><meta charset=\"utf-8\" /></head>\n",
              "<body>\n",
              "    <div>            <script src=\"https://cdnjs.cloudflare.com/ajax/libs/mathjax/2.7.5/MathJax.js?config=TeX-AMS-MML_SVG\"></script><script type=\"text/javascript\">if (window.MathJax && window.MathJax.Hub && window.MathJax.Hub.Config) {window.MathJax.Hub.Config({SVG: {font: \"STIX-Web\"}});}</script>                <script type=\"text/javascript\">window.PlotlyConfig = {MathJaxConfig: 'local'};</script>\n",
              "        <script src=\"https://cdn.plot.ly/plotly-2.18.2.min.js\"></script>                <div id=\"65fa03e2-5b5c-416e-b3a7-24bd05fd093b\" class=\"plotly-graph-div\" style=\"height:1800px; width:1200px;\"></div>            <script type=\"text/javascript\">                                    window.PLOTLYENV=window.PLOTLYENV || {};                                    if (document.getElementById(\"65fa03e2-5b5c-416e-b3a7-24bd05fd093b\")) {                    Plotly.newPlot(                        \"65fa03e2-5b5c-416e-b3a7-24bd05fd093b\",                        [{\"marker\":{\"color\":\"red\"},\"orientation\":\"h\",\"x\":[163241,76229,69799,31662,30994,10655,9696,5936,4436,4167,3886,3715,2855,2438,2204,2106,1986,1733,1484,1319,1297,1268,1015,969,925,918,892,830,712,636,602,589,586,563,473,452,442,430,428,420,412,411,391,379,366,363,304,299,290,287,261,247,247,225,186,165,161,157,154,152,140,124,120,116,113,104,99,99,97,92,88,88,75,72,69,67,67,62,58,53,53,51,51,49,49,47,46,45,43,43,42,40,39,39,39,39,38,35,33,32,29,28,27,25,24,24,23,23,20,19,19,18,18,17,16,16,16,15,15,15,15,15,15,15,15,15,14,13,13,13,13,12,12,11,10,10,10,10,10,9,9,9,9,9,8,8,8,8,8,8,8,8,7,7,7,7,7,7,6,6,6,6,6,6,5,5,5,5,5,5,4,4,4,4,4,4,4,4,4,4,4,4,4,4,4,4,4,4,4,3,3,3,3,3,3,3,3,3,3,3,3,3,3,3,3,3,3,3,3,3,3,3,3,3,3,3,2,2,2,2,1,1,1,1,1],\"y\":[\"\\\"Hostel\\\"\",\"\\\"Hostel_5GHZ\\\"\",\"<unknown ssid>\",\"\\\"Event\\\"\",\"\\\"Canteen\\\"\",\"\\\"Event_1\\\"\",\"\\\"DARCFF\\\"\",\"\\\"Faculty\\\"\",\"\\\"TDA-2822M\\\"\",\"\\\"TP-LINK_E8F2\\\"\",\"\\\"jarvis\\\"\",\"\\\"MSC-IT\\\"\",\"\\\"LAPTOP-F4T0O79Q 1073\\\"\",\"\\\"GandhinagarCityWiFi\\\"\",\"\\\"Hp-bs amit\\\"\",\"\\\"DEEPESH 4404\\\"\",\"\\\"DESKTOP-OVBOC3O 2060\\\"\",\"\\\"KP\\\"\",\"\\\"krushik\\\"\",\"\\\"Jasmit\\\"\",\"\\\"Krishna\\u00e2\\u20ac\\u2122s MacBook Pro\\\"\",\"\\\"Lab-204\\\"\",\"\\\"LAPTOP-OR81QP0B 7008\\\"\",\"\\\"CEID\\\"\",\"\\\"CEID_5G\\\"\",\"\\\"Parth\\\"\",\"\\\"prhythm3099\\\"\",\"\\\"BeHappy\\\"\",\"\\\"iBall-Baton\\\"\",\"\\\"MJ\\\"\",\"\\\"LAPTOP-DU2EJUCK 2529\\\"\",\"\\\"Polo\\\"\",\"\\\"MANASA\\\"\",\"\\\"Rutul\\\"\",\"\\\"Harsh\\\"\",\"\\\"RailWire Wi-Fi\\\"\",\"\\\"JioFi\\\"\",\"\\\"DESKTOP-GNEPG73 4934\\\"\",\"\\\"Yash\\\"\",\"\\\"Prarthan\\\"\",\"\\\"sohil\\\"\",\"\\\"LAB\\\"\",\"\\\"JioPrivateNet\\\"\",\"\\\"Red\\\"\",\"\\\"RiVeNdElL\\\"\",\"\\\"2+2=?\\\"\",\"\\\"Bluish\\\"\",\"\\\"LONE-WOLF\\\"\",\"\\\"404-Network Unavailable\\\"\",\"\\\"Lab201-202\\\"\",\"\\\"OnePlus 6\\\"\",\"\\\"SB\\\"\",\"Hostel_5GHZ\",\"\\\"Nestle\\\"\",\"\\\"placement\\\"\",\"\\\"Connectify-waitforit!!\\\"\",\"\\\"2_GULAB\\\"\",\"\\\"DESKTOP-NC2F71F 2651\\\"\",\"\\\"JioFi4_17D351\\\"\",\"\\\"Smartcity\\\"\",\"\\\"vivo V3\\\"\",\"\\\"DESKTOP-KRN9VI3 8612\\\"\",\"\\\"Buddy\\\"\",\"\\\"LAPTOP-PGUC5MNI 1543\\\"\",\"\\\"UPLC 8718\\\"\",\"\\\"VdViradiya\\\"\",\"0x\",\"\\\"vivo@vmjani001@PD\\\"\",\"\\\"LAPTOP-VNK0UMI3 5047\\\"\",\"\\\"RealMe 2.4GHz\\\"\",\"\\\"Redmi\\\"\",\"\\\"pratikwankhede\\\"\",\"DARCFF\",\"\\\"FireSpirit\\\"\",\"\\\"Hellrider\\\"\",\"\\\"ADYYUmVkbWlOb3RlNA\\\"\",\"\\\"abcd\\\"\",\"\\\"Krishna\\u00e2\\u20ac\\u2122s iPhone\\\"\",\"\\\"TP Link\\\"\",\"\\\"bhaibhai\\\"\",\"\\\"B2wP-c21pdHBhdGVsMjYxMTQ0\\\"\",\"\\\"OnePlus 5\\\"\",\"\\\"LenovoPC\\\"\",\"\\\"potanu vapro\\\"\",\"\\\"SUJIT\\u00e2\\u20ac\\u2122s iPhone\\\"\",\"\\\"PATH\\\"\",\"\\\"Unknown\\\"\",\"\\\"AndroidAP\\\"\",\"\\\"Admin\\\"\",\"\\\"OppoA83\\\"\",\"\\\"Abhishek\\\"\",\"\\\"non of your business \\\"\",\"\\\"island-3326\\\"\",\"\\\"jaimin\\\"\",\"\\\"Google home.o\\\"\",\"\\\"DWIPL HOTSPOT\\\"\",\"\\\"K@v!T\\\"\",\"\\\"DESKTOP-623L6HR 3675\\\"\",\"\\\"vivo 1609\\\"\",\"\\\"A13\\\"\",\"\\\"iPhone\\\"\",\"\\\"TShare-hemant1977patil_bd5c-2\\\"\",\"\\\"sohil's hotspot\\\"\",\"\\\"Chirayu\\\"\",\"\\\"MagicBox_546\\\"\",\"\\\"DESKTOP\\\"\",\"\\\"Prakhar's iPhone\\\"\",\"\\\"Am@nP@tel\\\"\",\"\\\"ADYYS3J1c2hpayBTYXZhbmk\\\"\",\"\\\"Bansari\\\"\",\"\\\"t'sup\\\"\",\"\\\"Moto G (5) Plus 5822\\\"\",\"\\\"Htnamus\\\"\",\"\\\"meetu\\\"\",\"\\\"2308\\\"\",\"\\\"GoogleHome1306.o\\\"\",\"\\\"Parth's iPhone\\\"\",\"\\\"JioNet\\\"\",\"LONE-WOLF\",\"\\\"Connectify-Akhandanand Tripathi\\\"\",\"\\\"ROSHANI\\u00e2\\u20ac\\u2122s MacBook Air\\\"\",\"\\\"Rudra Broadband 9898842244\\\"\",\"\\\"Jon\\\"\",\"\\\"OnePlus 5T\\\"\",\"\\\"YashSN\\\"\",\"\\\"flash\\\"\",\"\\\"vivo 1713\\\"\",\"\\\"Hotspot\\\"\",\"\\\"JioFi2_CDBB2F\\\"\",\"\\\"BSNL WiFi\\\"\",\"\\\"Lenovo P2\\\"\",\"\\\"Teehee\\\"\",\"\\\"Gru\\\"\",\"\\\"WiseL Office\\\"\",\"\\\"DESKTOP-LV2S31K 3648\\\"\",\"\\\"lenovo p2\\\"\",\"\\\"Moto G (4) 7253\\\"\",\"\\\"DESKTOP-J280B33 4648\\\"\",\"\\\"Infinix NOTE 4\\\"\",\"\\\"FD-68\\\"\",\"\\\"DESKTOP-6RJ0A2G 9640\\\"\",\"\\\"AndroidShare_7200\\\"\",\"\\\"Divyesh\\\"\",\"\\\"Anshul's WiFi\\\"\",\"\\\"Patanjali Ayurvedic Wifi Seva\\\"\",\"\\\"stark#\\\"\",\"\\\"Nokia 7 plus\\\"\",\"\\\"fuck you all\\\"\",\"\\\"Umang\\\"\",\"\\\"Moto\\\"\",\"\\\"xyz\\\"\",\"\\\"OPPO F1f\\\"\",\"\\\"OnePlus 6T\\\"\",\"\\\"ijim2\\\"\",\"\\\"Express Wi-Fi by Facebook\\\"\",\"\\\"chintan\\\"\",\"\\\"ADYYUmVkbWlZMUxpdGU\\\"\",\"\\\"Be58-YW5pc2htZDE3Mjk\\\"\",\"\\\"Valar Morghulis\\\"\",\"\\\"Tenda_667BD0\\\"\",\"\\\"Chirayu_Sheth\\\"\",\"DESKTOP-KRN9VI3 8612\",\"\\\"Sportsclub\\\"\",\"\\\"AndroidShare_5153\\\"\",\"\\\"MD\\\"\",\"\\\"Jatin Patel\\u00e2\\u20ac\\u2122s iPhone\\\"\",\"\\\"AAAAAHAG50EARwHmRedmi Note 4\\\"\",\"\\\"UERJTdr4oP8CTUo=\\\"\",\"\\\"Your GrandMom\\\"\",\"\\\"Lax\\\"\",\"\\\"Timepass\\\"\",\"\\\"OPPO A33f\\\"\",\"\\\"Abhin\\\"\",\"\\\"AndroidShare_6035\\\"\",\"\\\"AndroidShare_8460\\\"\",\"\\\"ONEPLUS_A6000_co_apwrwf\\\"\",\"\\\"AndroidShare_3228\\\"\",\"\\\"L e f TY\\\"\",\"\\\"Chal Hatttt... \\u00f0\\u0178\\u02dc\\u009d\\u00f0\\u0178\\u02dc\\u009d\\\"\",\"\\\"Snow\\\"\",\"\\\"AndroidShare_8250\\\"\",\"\\\"Jake\\\"\",\"\\\"ADYYU00tRzYxNUY\\\"\",\"\\\"My ASUS\\\"\",\"\\\"Luke, I'm your WiFi\\\"\",\"\\\"JAIMIN\\\"\",\"\\\"AndroidShare_7510\\\"\",\"\\\"AndroidShare_1029\\\"\",\"\\\"AndroidShare_2216\\\"\",\"\\\"Moto G (5) Plus 4019\\\"\",\"\\\"AndroidShare_9746\\\"\",\"\\\"AndroidShare_8105\\\"\",\"\\\"ADYYS2F2aXQ\\\"\",\"\\\"IJIM\\\"\",\"\\\"viki\\\"\",\"\\\"Hp-bs\\\"\",\"\\\"SPiDiGO\\\"\",\"\\\"ADYYUmVkbWk0\\\"\",\"Canteen\",\"\\\"ADYYRHVzaHlhbnQ\\\"\",\"\\\"AndroidShare_7820\\\"\",\"\\\"T2\\\"\",\"\\\"DIRECT-N1-M  J\\\"\",\"\\\"DIRECT-Wu-M  J\\\"\",\"\\\"DIRECT-ZJ-Le 2\\\"\",\"\\\"DIRECT-J5-M  J\\\"\",\"\\\"BQAAANr4oP8ATwHGMJ\\\"\",\"\\\"AndroidShare_6818\\\"\",\"\\\"BQAAANr4oP8AXwHWMJ\\\"\",\"\\\"DIRECT-0g-My Redmi\\\"\",\"\\\"ADYYSmF5TWVodGE\\\"\",\"\\\"AndroidShare_6964\\\"\",\"\\\"Moto G (5) Plus 8068\\\"\",\"\\\"Lenovo\\\"\",\"\\\"ONEPLUS_A6000_co_apdmmp\\\"\",\"\\\"ONEPLUS_A6000_co_aphzwz\\\"\",\"\\\"Arnab's Laptop\\\"\",\"\\\"ADYYQWJoaXNoZWsgU3V0YXJpeWE\\\"\",\"\\\"AndroidShare_9270\\\"\",\"\\\"nil\\\"\",\"\\\"Redmi \\\"\",\"\\\"Lord of Winterfell\\\"\",\"\\\"ADYYU00tSjcwMEY\\\"\",\"\\\"ADYYTW90b0cz\\\"\",\"\\\"Vishvesh\\\"\"],\"type\":\"bar\"}],                        {\"title\":{\"text\":\"Wifi Id Usage\"},\"xaxis\":{\"title\":{\"text\":\"Number of Occurrences\"}},\"yaxis\":{\"title\":{\"text\":\"Wifi Id\"}},\"template\":{\"data\":{\"histogram2dcontour\":[{\"type\":\"histogram2dcontour\",\"colorbar\":{\"outlinewidth\":0,\"ticks\":\"\"},\"colorscale\":[[0.0,\"#0d0887\"],[0.1111111111111111,\"#46039f\"],[0.2222222222222222,\"#7201a8\"],[0.3333333333333333,\"#9c179e\"],[0.4444444444444444,\"#bd3786\"],[0.5555555555555556,\"#d8576b\"],[0.6666666666666666,\"#ed7953\"],[0.7777777777777778,\"#fb9f3a\"],[0.8888888888888888,\"#fdca26\"],[1.0,\"#f0f921\"]]}],\"choropleth\":[{\"type\":\"choropleth\",\"colorbar\":{\"outlinewidth\":0,\"ticks\":\"\"}}],\"histogram2d\":[{\"type\":\"histogram2d\",\"colorbar\":{\"outlinewidth\":0,\"ticks\":\"\"},\"colorscale\":[[0.0,\"#0d0887\"],[0.1111111111111111,\"#46039f\"],[0.2222222222222222,\"#7201a8\"],[0.3333333333333333,\"#9c179e\"],[0.4444444444444444,\"#bd3786\"],[0.5555555555555556,\"#d8576b\"],[0.6666666666666666,\"#ed7953\"],[0.7777777777777778,\"#fb9f3a\"],[0.8888888888888888,\"#fdca26\"],[1.0,\"#f0f921\"]]}],\"heatmap\":[{\"type\":\"heatmap\",\"colorbar\":{\"outlinewidth\":0,\"ticks\":\"\"},\"colorscale\":[[0.0,\"#0d0887\"],[0.1111111111111111,\"#46039f\"],[0.2222222222222222,\"#7201a8\"],[0.3333333333333333,\"#9c179e\"],[0.4444444444444444,\"#bd3786\"],[0.5555555555555556,\"#d8576b\"],[0.6666666666666666,\"#ed7953\"],[0.7777777777777778,\"#fb9f3a\"],[0.8888888888888888,\"#fdca26\"],[1.0,\"#f0f921\"]]}],\"heatmapgl\":[{\"type\":\"heatmapgl\",\"colorbar\":{\"outlinewidth\":0,\"ticks\":\"\"},\"colorscale\":[[0.0,\"#0d0887\"],[0.1111111111111111,\"#46039f\"],[0.2222222222222222,\"#7201a8\"],[0.3333333333333333,\"#9c179e\"],[0.4444444444444444,\"#bd3786\"],[0.5555555555555556,\"#d8576b\"],[0.6666666666666666,\"#ed7953\"],[0.7777777777777778,\"#fb9f3a\"],[0.8888888888888888,\"#fdca26\"],[1.0,\"#f0f921\"]]}],\"contourcarpet\":[{\"type\":\"contourcarpet\",\"colorbar\":{\"outlinewidth\":0,\"ticks\":\"\"}}],\"contour\":[{\"type\":\"contour\",\"colorbar\":{\"outlinewidth\":0,\"ticks\":\"\"},\"colorscale\":[[0.0,\"#0d0887\"],[0.1111111111111111,\"#46039f\"],[0.2222222222222222,\"#7201a8\"],[0.3333333333333333,\"#9c179e\"],[0.4444444444444444,\"#bd3786\"],[0.5555555555555556,\"#d8576b\"],[0.6666666666666666,\"#ed7953\"],[0.7777777777777778,\"#fb9f3a\"],[0.8888888888888888,\"#fdca26\"],[1.0,\"#f0f921\"]]}],\"surface\":[{\"type\":\"surface\",\"colorbar\":{\"outlinewidth\":0,\"ticks\":\"\"},\"colorscale\":[[0.0,\"#0d0887\"],[0.1111111111111111,\"#46039f\"],[0.2222222222222222,\"#7201a8\"],[0.3333333333333333,\"#9c179e\"],[0.4444444444444444,\"#bd3786\"],[0.5555555555555556,\"#d8576b\"],[0.6666666666666666,\"#ed7953\"],[0.7777777777777778,\"#fb9f3a\"],[0.8888888888888888,\"#fdca26\"],[1.0,\"#f0f921\"]]}],\"mesh3d\":[{\"type\":\"mesh3d\",\"colorbar\":{\"outlinewidth\":0,\"ticks\":\"\"}}],\"scatter\":[{\"fillpattern\":{\"fillmode\":\"overlay\",\"size\":10,\"solidity\":0.2},\"type\":\"scatter\"}],\"parcoords\":[{\"type\":\"parcoords\",\"line\":{\"colorbar\":{\"outlinewidth\":0,\"ticks\":\"\"}}}],\"scatterpolargl\":[{\"type\":\"scatterpolargl\",\"marker\":{\"colorbar\":{\"outlinewidth\":0,\"ticks\":\"\"}}}],\"bar\":[{\"error_x\":{\"color\":\"#2a3f5f\"},\"error_y\":{\"color\":\"#2a3f5f\"},\"marker\":{\"line\":{\"color\":\"#E5ECF6\",\"width\":0.5},\"pattern\":{\"fillmode\":\"overlay\",\"size\":10,\"solidity\":0.2}},\"type\":\"bar\"}],\"scattergeo\":[{\"type\":\"scattergeo\",\"marker\":{\"colorbar\":{\"outlinewidth\":0,\"ticks\":\"\"}}}],\"scatterpolar\":[{\"type\":\"scatterpolar\",\"marker\":{\"colorbar\":{\"outlinewidth\":0,\"ticks\":\"\"}}}],\"histogram\":[{\"marker\":{\"pattern\":{\"fillmode\":\"overlay\",\"size\":10,\"solidity\":0.2}},\"type\":\"histogram\"}],\"scattergl\":[{\"type\":\"scattergl\",\"marker\":{\"colorbar\":{\"outlinewidth\":0,\"ticks\":\"\"}}}],\"scatter3d\":[{\"type\":\"scatter3d\",\"line\":{\"colorbar\":{\"outlinewidth\":0,\"ticks\":\"\"}},\"marker\":{\"colorbar\":{\"outlinewidth\":0,\"ticks\":\"\"}}}],\"scattermapbox\":[{\"type\":\"scattermapbox\",\"marker\":{\"colorbar\":{\"outlinewidth\":0,\"ticks\":\"\"}}}],\"scatterternary\":[{\"type\":\"scatterternary\",\"marker\":{\"colorbar\":{\"outlinewidth\":0,\"ticks\":\"\"}}}],\"scattercarpet\":[{\"type\":\"scattercarpet\",\"marker\":{\"colorbar\":{\"outlinewidth\":0,\"ticks\":\"\"}}}],\"carpet\":[{\"aaxis\":{\"endlinecolor\":\"#2a3f5f\",\"gridcolor\":\"white\",\"linecolor\":\"white\",\"minorgridcolor\":\"white\",\"startlinecolor\":\"#2a3f5f\"},\"baxis\":{\"endlinecolor\":\"#2a3f5f\",\"gridcolor\":\"white\",\"linecolor\":\"white\",\"minorgridcolor\":\"white\",\"startlinecolor\":\"#2a3f5f\"},\"type\":\"carpet\"}],\"table\":[{\"cells\":{\"fill\":{\"color\":\"#EBF0F8\"},\"line\":{\"color\":\"white\"}},\"header\":{\"fill\":{\"color\":\"#C8D4E3\"},\"line\":{\"color\":\"white\"}},\"type\":\"table\"}],\"barpolar\":[{\"marker\":{\"line\":{\"color\":\"#E5ECF6\",\"width\":0.5},\"pattern\":{\"fillmode\":\"overlay\",\"size\":10,\"solidity\":0.2}},\"type\":\"barpolar\"}],\"pie\":[{\"automargin\":true,\"type\":\"pie\"}]},\"layout\":{\"autotypenumbers\":\"strict\",\"colorway\":[\"#636efa\",\"#EF553B\",\"#00cc96\",\"#ab63fa\",\"#FFA15A\",\"#19d3f3\",\"#FF6692\",\"#B6E880\",\"#FF97FF\",\"#FECB52\"],\"font\":{\"color\":\"#2a3f5f\"},\"hovermode\":\"closest\",\"hoverlabel\":{\"align\":\"left\"},\"paper_bgcolor\":\"white\",\"plot_bgcolor\":\"#E5ECF6\",\"polar\":{\"bgcolor\":\"#E5ECF6\",\"angularaxis\":{\"gridcolor\":\"white\",\"linecolor\":\"white\",\"ticks\":\"\"},\"radialaxis\":{\"gridcolor\":\"white\",\"linecolor\":\"white\",\"ticks\":\"\"}},\"ternary\":{\"bgcolor\":\"#E5ECF6\",\"aaxis\":{\"gridcolor\":\"white\",\"linecolor\":\"white\",\"ticks\":\"\"},\"baxis\":{\"gridcolor\":\"white\",\"linecolor\":\"white\",\"ticks\":\"\"},\"caxis\":{\"gridcolor\":\"white\",\"linecolor\":\"white\",\"ticks\":\"\"}},\"coloraxis\":{\"colorbar\":{\"outlinewidth\":0,\"ticks\":\"\"}},\"colorscale\":{\"sequential\":[[0.0,\"#0d0887\"],[0.1111111111111111,\"#46039f\"],[0.2222222222222222,\"#7201a8\"],[0.3333333333333333,\"#9c179e\"],[0.4444444444444444,\"#bd3786\"],[0.5555555555555556,\"#d8576b\"],[0.6666666666666666,\"#ed7953\"],[0.7777777777777778,\"#fb9f3a\"],[0.8888888888888888,\"#fdca26\"],[1.0,\"#f0f921\"]],\"sequentialminus\":[[0.0,\"#0d0887\"],[0.1111111111111111,\"#46039f\"],[0.2222222222222222,\"#7201a8\"],[0.3333333333333333,\"#9c179e\"],[0.4444444444444444,\"#bd3786\"],[0.5555555555555556,\"#d8576b\"],[0.6666666666666666,\"#ed7953\"],[0.7777777777777778,\"#fb9f3a\"],[0.8888888888888888,\"#fdca26\"],[1.0,\"#f0f921\"]],\"diverging\":[[0,\"#8e0152\"],[0.1,\"#c51b7d\"],[0.2,\"#de77ae\"],[0.3,\"#f1b6da\"],[0.4,\"#fde0ef\"],[0.5,\"#f7f7f7\"],[0.6,\"#e6f5d0\"],[0.7,\"#b8e186\"],[0.8,\"#7fbc41\"],[0.9,\"#4d9221\"],[1,\"#276419\"]]},\"xaxis\":{\"gridcolor\":\"white\",\"linecolor\":\"white\",\"ticks\":\"\",\"title\":{\"standoff\":15},\"zerolinecolor\":\"white\",\"automargin\":true,\"zerolinewidth\":2},\"yaxis\":{\"gridcolor\":\"white\",\"linecolor\":\"white\",\"ticks\":\"\",\"title\":{\"standoff\":15},\"zerolinecolor\":\"white\",\"automargin\":true,\"zerolinewidth\":2},\"scene\":{\"xaxis\":{\"backgroundcolor\":\"#E5ECF6\",\"gridcolor\":\"white\",\"linecolor\":\"white\",\"showbackground\":true,\"ticks\":\"\",\"zerolinecolor\":\"white\",\"gridwidth\":2},\"yaxis\":{\"backgroundcolor\":\"#E5ECF6\",\"gridcolor\":\"white\",\"linecolor\":\"white\",\"showbackground\":true,\"ticks\":\"\",\"zerolinecolor\":\"white\",\"gridwidth\":2},\"zaxis\":{\"backgroundcolor\":\"#E5ECF6\",\"gridcolor\":\"white\",\"linecolor\":\"white\",\"showbackground\":true,\"ticks\":\"\",\"zerolinecolor\":\"white\",\"gridwidth\":2}},\"shapedefaults\":{\"line\":{\"color\":\"#2a3f5f\"}},\"annotationdefaults\":{\"arrowcolor\":\"#2a3f5f\",\"arrowhead\":0,\"arrowwidth\":1},\"geo\":{\"bgcolor\":\"white\",\"landcolor\":\"#E5ECF6\",\"subunitcolor\":\"white\",\"showland\":true,\"showlakes\":true,\"lakecolor\":\"white\"},\"title\":{\"x\":0.05},\"mapbox\":{\"style\":\"light\"}}},\"width\":1200,\"height\":1800},                        {\"responsive\": true}                    ).then(function(){\n",
              "                            \n",
              "var gd = document.getElementById('65fa03e2-5b5c-416e-b3a7-24bd05fd093b');\n",
              "var x = new MutationObserver(function (mutations, observer) {{\n",
              "        var display = window.getComputedStyle(gd).display;\n",
              "        if (!display || display === 'none') {{\n",
              "            console.log([gd, 'removed!']);\n",
              "            Plotly.purge(gd);\n",
              "            observer.disconnect();\n",
              "        }}\n",
              "}});\n",
              "\n",
              "// Listen for the removal of the full notebook cells\n",
              "var notebookContainer = gd.closest('#notebook-container');\n",
              "if (notebookContainer) {{\n",
              "    x.observe(notebookContainer, {childList: true});\n",
              "}}\n",
              "\n",
              "// Listen for the clearing of the current output cell\n",
              "var outputEl = gd.closest('.output');\n",
              "if (outputEl) {{\n",
              "    x.observe(outputEl, {childList: true});\n",
              "}}\n",
              "\n",
              "                        })                };                            </script>        </div>\n",
              "</body>\n",
              "</html>"
            ]
          },
          "metadata": {},
          "output_type": "display_data"
        }
      ],
      "source": [
        "import pandas as pd\n",
        "import plotly.graph_objs as go\n",
        "\n",
        "\n",
        "wifi_counts = df_n['Wifi_id'].value_counts()\n",
        "\n",
        "data = [go.Bar(y=wifi_counts.index, x=wifi_counts.values, orientation='h', marker=dict(color='red'))]\n",
        "layout = go.Layout(title='Wifi Id Usage', xaxis=dict(title='Number of Occurrences'), yaxis=dict(title='Wifi Id'))\n",
        "fig = go.Figure(data=data, layout=layout)\n",
        "fig.update_layout(width=1200, height=1800)\n",
        "\n",
        "fig.show()"
      ]
    },
    {
      "cell_type": "code",
      "execution_count": null,
      "metadata": {
        "colab": {
          "base_uri": "https://localhost:8080/",
          "height": 1000
        },
        "id": "USA8knjAudEe",
        "outputId": "0c9195c5-965e-4dd4-dc7f-d6935cc1220b"
      },
      "outputs": [
        {
          "data": {
            "text/html": [
              "<html>\n",
              "<head><meta charset=\"utf-8\" /></head>\n",
              "<body>\n",
              "    <div>            <script src=\"https://cdnjs.cloudflare.com/ajax/libs/mathjax/2.7.5/MathJax.js?config=TeX-AMS-MML_SVG\"></script><script type=\"text/javascript\">if (window.MathJax && window.MathJax.Hub && window.MathJax.Hub.Config) {window.MathJax.Hub.Config({SVG: {font: \"STIX-Web\"}});}</script>                <script type=\"text/javascript\">window.PlotlyConfig = {MathJaxConfig: 'local'};</script>\n",
              "        <script src=\"https://cdn.plot.ly/plotly-2.18.2.min.js\"></script>                <div id=\"d9fd187e-8b86-4007-87b3-0022c061a9f5\" class=\"plotly-graph-div\" style=\"height:1800px; width:1200px;\"></div>            <script type=\"text/javascript\">                                    window.PLOTLYENV=window.PLOTLYENV || {};                                    if (document.getElementById(\"d9fd187e-8b86-4007-87b3-0022c061a9f5\")) {                    Plotly.newPlot(                        \"d9fd187e-8b86-4007-87b3-0022c061a9f5\",                        [{\"marker\":{\"color\":\"red\"},\"orientation\":\"h\",\"x\":[163241,76229,69799,31662,30994,10655,9696,5936,4436,4167,3886,3715,2855,2438,2204,2106,1986,1733,1484,1319,1297,1268,1015,969,925,918,892,830,712,636,602,589,586,563,473,452,442,430,428,420,412,411,391,379,366,363,304,299,290,287,261,247,247,225,186,165,161,157,154,152,140,124,120,116,113,104,99,99,97,92,88,88,75,72,69,67,67,62,58,53,53,51,51,49,49,47,46,45,43,43,42,40,39,39,39,39,38,35,33,32,29,28,27,25,24,24,23,23,20,19,19,18,18,17,16,16,16,15,15,15,15,15,15,15,15,15,14,13,13,13,13,12,12,11,10,10,10,10,10,9,9,9,9,9,8,8,8,8,8,8,8,8,7,7,7,7,7,7,6,6,6,6,6,6,5,5,5,5,5,5,4,4,4,4,4,4,4,4,4,4,4,4,4,4,4,4,4,4,4,3,3,3,3,3,3,3,3,3,3,3,3,3,3,3,3,3,3,3,3,3,3,3,3,3,3,3,2,2,2,2,1,1,1,1,1],\"y\":[\"ssid_1\",\"ssid_2\",\"ssid_3\",\"ssid_4\",\"ssid_5\",\"ssid_6\",\"ssid_7\",\"ssid_8\",\"ssid_9\",\"ssid_10\",\"ssid_11\",\"ssid_12\",\"ssid_13\",\"ssid_14\",\"ssid_15\",\"ssid_16\",\"ssid_17\",\"ssid_18\",\"ssid_19\",\"ssid_20\",\"ssid_21\",\"ssid_22\",\"ssid_23\",\"ssid_24\",\"ssid_25\",\"ssid_26\",\"ssid_27\",\"ssid_28\",\"ssid_29\",\"ssid_30\",\"ssid_31\",\"ssid_32\",\"ssid_33\",\"ssid_34\",\"ssid_35\",\"ssid_36\",\"ssid_37\",\"ssid_38\",\"ssid_39\",\"ssid_40\",\"ssid_41\",\"ssid_42\",\"ssid_43\",\"ssid_44\",\"ssid_45\",\"ssid_46\",\"ssid_47\",\"ssid_48\",\"ssid_49\",\"ssid_50\",\"ssid_51\",\"ssid_52\",\"ssid_53\",\"ssid_54\",\"ssid_55\",\"ssid_56\",\"ssid_57\",\"ssid_58\",\"ssid_59\",\"ssid_60\",\"ssid_61\",\"ssid_62\",\"ssid_63\",\"ssid_64\",\"ssid_65\"],\"type\":\"bar\"}],                        {\"plot_bgcolor\":\"white\",\"title\":{\"text\":\"Wifi Id Usage\"},\"xaxis\":{\"title\":{\"text\":\"Number of Occurrences\"}},\"yaxis\":{\"title\":{\"text\":\"Wifi Id\"}},\"template\":{\"data\":{\"histogram2dcontour\":[{\"type\":\"histogram2dcontour\",\"colorbar\":{\"outlinewidth\":0,\"ticks\":\"\"},\"colorscale\":[[0.0,\"#0d0887\"],[0.1111111111111111,\"#46039f\"],[0.2222222222222222,\"#7201a8\"],[0.3333333333333333,\"#9c179e\"],[0.4444444444444444,\"#bd3786\"],[0.5555555555555556,\"#d8576b\"],[0.6666666666666666,\"#ed7953\"],[0.7777777777777778,\"#fb9f3a\"],[0.8888888888888888,\"#fdca26\"],[1.0,\"#f0f921\"]]}],\"choropleth\":[{\"type\":\"choropleth\",\"colorbar\":{\"outlinewidth\":0,\"ticks\":\"\"}}],\"histogram2d\":[{\"type\":\"histogram2d\",\"colorbar\":{\"outlinewidth\":0,\"ticks\":\"\"},\"colorscale\":[[0.0,\"#0d0887\"],[0.1111111111111111,\"#46039f\"],[0.2222222222222222,\"#7201a8\"],[0.3333333333333333,\"#9c179e\"],[0.4444444444444444,\"#bd3786\"],[0.5555555555555556,\"#d8576b\"],[0.6666666666666666,\"#ed7953\"],[0.7777777777777778,\"#fb9f3a\"],[0.8888888888888888,\"#fdca26\"],[1.0,\"#f0f921\"]]}],\"heatmap\":[{\"type\":\"heatmap\",\"colorbar\":{\"outlinewidth\":0,\"ticks\":\"\"},\"colorscale\":[[0.0,\"#0d0887\"],[0.1111111111111111,\"#46039f\"],[0.2222222222222222,\"#7201a8\"],[0.3333333333333333,\"#9c179e\"],[0.4444444444444444,\"#bd3786\"],[0.5555555555555556,\"#d8576b\"],[0.6666666666666666,\"#ed7953\"],[0.7777777777777778,\"#fb9f3a\"],[0.8888888888888888,\"#fdca26\"],[1.0,\"#f0f921\"]]}],\"heatmapgl\":[{\"type\":\"heatmapgl\",\"colorbar\":{\"outlinewidth\":0,\"ticks\":\"\"},\"colorscale\":[[0.0,\"#0d0887\"],[0.1111111111111111,\"#46039f\"],[0.2222222222222222,\"#7201a8\"],[0.3333333333333333,\"#9c179e\"],[0.4444444444444444,\"#bd3786\"],[0.5555555555555556,\"#d8576b\"],[0.6666666666666666,\"#ed7953\"],[0.7777777777777778,\"#fb9f3a\"],[0.8888888888888888,\"#fdca26\"],[1.0,\"#f0f921\"]]}],\"contourcarpet\":[{\"type\":\"contourcarpet\",\"colorbar\":{\"outlinewidth\":0,\"ticks\":\"\"}}],\"contour\":[{\"type\":\"contour\",\"colorbar\":{\"outlinewidth\":0,\"ticks\":\"\"},\"colorscale\":[[0.0,\"#0d0887\"],[0.1111111111111111,\"#46039f\"],[0.2222222222222222,\"#7201a8\"],[0.3333333333333333,\"#9c179e\"],[0.4444444444444444,\"#bd3786\"],[0.5555555555555556,\"#d8576b\"],[0.6666666666666666,\"#ed7953\"],[0.7777777777777778,\"#fb9f3a\"],[0.8888888888888888,\"#fdca26\"],[1.0,\"#f0f921\"]]}],\"surface\":[{\"type\":\"surface\",\"colorbar\":{\"outlinewidth\":0,\"ticks\":\"\"},\"colorscale\":[[0.0,\"#0d0887\"],[0.1111111111111111,\"#46039f\"],[0.2222222222222222,\"#7201a8\"],[0.3333333333333333,\"#9c179e\"],[0.4444444444444444,\"#bd3786\"],[0.5555555555555556,\"#d8576b\"],[0.6666666666666666,\"#ed7953\"],[0.7777777777777778,\"#fb9f3a\"],[0.8888888888888888,\"#fdca26\"],[1.0,\"#f0f921\"]]}],\"mesh3d\":[{\"type\":\"mesh3d\",\"colorbar\":{\"outlinewidth\":0,\"ticks\":\"\"}}],\"scatter\":[{\"fillpattern\":{\"fillmode\":\"overlay\",\"size\":10,\"solidity\":0.2},\"type\":\"scatter\"}],\"parcoords\":[{\"type\":\"parcoords\",\"line\":{\"colorbar\":{\"outlinewidth\":0,\"ticks\":\"\"}}}],\"scatterpolargl\":[{\"type\":\"scatterpolargl\",\"marker\":{\"colorbar\":{\"outlinewidth\":0,\"ticks\":\"\"}}}],\"bar\":[{\"error_x\":{\"color\":\"#2a3f5f\"},\"error_y\":{\"color\":\"#2a3f5f\"},\"marker\":{\"line\":{\"color\":\"#E5ECF6\",\"width\":0.5},\"pattern\":{\"fillmode\":\"overlay\",\"size\":10,\"solidity\":0.2}},\"type\":\"bar\"}],\"scattergeo\":[{\"type\":\"scattergeo\",\"marker\":{\"colorbar\":{\"outlinewidth\":0,\"ticks\":\"\"}}}],\"scatterpolar\":[{\"type\":\"scatterpolar\",\"marker\":{\"colorbar\":{\"outlinewidth\":0,\"ticks\":\"\"}}}],\"histogram\":[{\"marker\":{\"pattern\":{\"fillmode\":\"overlay\",\"size\":10,\"solidity\":0.2}},\"type\":\"histogram\"}],\"scattergl\":[{\"type\":\"scattergl\",\"marker\":{\"colorbar\":{\"outlinewidth\":0,\"ticks\":\"\"}}}],\"scatter3d\":[{\"type\":\"scatter3d\",\"line\":{\"colorbar\":{\"outlinewidth\":0,\"ticks\":\"\"}},\"marker\":{\"colorbar\":{\"outlinewidth\":0,\"ticks\":\"\"}}}],\"scattermapbox\":[{\"type\":\"scattermapbox\",\"marker\":{\"colorbar\":{\"outlinewidth\":0,\"ticks\":\"\"}}}],\"scatterternary\":[{\"type\":\"scatterternary\",\"marker\":{\"colorbar\":{\"outlinewidth\":0,\"ticks\":\"\"}}}],\"scattercarpet\":[{\"type\":\"scattercarpet\",\"marker\":{\"colorbar\":{\"outlinewidth\":0,\"ticks\":\"\"}}}],\"carpet\":[{\"aaxis\":{\"endlinecolor\":\"#2a3f5f\",\"gridcolor\":\"white\",\"linecolor\":\"white\",\"minorgridcolor\":\"white\",\"startlinecolor\":\"#2a3f5f\"},\"baxis\":{\"endlinecolor\":\"#2a3f5f\",\"gridcolor\":\"white\",\"linecolor\":\"white\",\"minorgridcolor\":\"white\",\"startlinecolor\":\"#2a3f5f\"},\"type\":\"carpet\"}],\"table\":[{\"cells\":{\"fill\":{\"color\":\"#EBF0F8\"},\"line\":{\"color\":\"white\"}},\"header\":{\"fill\":{\"color\":\"#C8D4E3\"},\"line\":{\"color\":\"white\"}},\"type\":\"table\"}],\"barpolar\":[{\"marker\":{\"line\":{\"color\":\"#E5ECF6\",\"width\":0.5},\"pattern\":{\"fillmode\":\"overlay\",\"size\":10,\"solidity\":0.2}},\"type\":\"barpolar\"}],\"pie\":[{\"automargin\":true,\"type\":\"pie\"}]},\"layout\":{\"autotypenumbers\":\"strict\",\"colorway\":[\"#636efa\",\"#EF553B\",\"#00cc96\",\"#ab63fa\",\"#FFA15A\",\"#19d3f3\",\"#FF6692\",\"#B6E880\",\"#FF97FF\",\"#FECB52\"],\"font\":{\"color\":\"#2a3f5f\"},\"hovermode\":\"closest\",\"hoverlabel\":{\"align\":\"left\"},\"paper_bgcolor\":\"white\",\"plot_bgcolor\":\"#E5ECF6\",\"polar\":{\"bgcolor\":\"#E5ECF6\",\"angularaxis\":{\"gridcolor\":\"white\",\"linecolor\":\"white\",\"ticks\":\"\"},\"radialaxis\":{\"gridcolor\":\"white\",\"linecolor\":\"white\",\"ticks\":\"\"}},\"ternary\":{\"bgcolor\":\"#E5ECF6\",\"aaxis\":{\"gridcolor\":\"white\",\"linecolor\":\"white\",\"ticks\":\"\"},\"baxis\":{\"gridcolor\":\"white\",\"linecolor\":\"white\",\"ticks\":\"\"},\"caxis\":{\"gridcolor\":\"white\",\"linecolor\":\"white\",\"ticks\":\"\"}},\"coloraxis\":{\"colorbar\":{\"outlinewidth\":0,\"ticks\":\"\"}},\"colorscale\":{\"sequential\":[[0.0,\"#0d0887\"],[0.1111111111111111,\"#46039f\"],[0.2222222222222222,\"#7201a8\"],[0.3333333333333333,\"#9c179e\"],[0.4444444444444444,\"#bd3786\"],[0.5555555555555556,\"#d8576b\"],[0.6666666666666666,\"#ed7953\"],[0.7777777777777778,\"#fb9f3a\"],[0.8888888888888888,\"#fdca26\"],[1.0,\"#f0f921\"]],\"sequentialminus\":[[0.0,\"#0d0887\"],[0.1111111111111111,\"#46039f\"],[0.2222222222222222,\"#7201a8\"],[0.3333333333333333,\"#9c179e\"],[0.4444444444444444,\"#bd3786\"],[0.5555555555555556,\"#d8576b\"],[0.6666666666666666,\"#ed7953\"],[0.7777777777777778,\"#fb9f3a\"],[0.8888888888888888,\"#fdca26\"],[1.0,\"#f0f921\"]],\"diverging\":[[0,\"#8e0152\"],[0.1,\"#c51b7d\"],[0.2,\"#de77ae\"],[0.3,\"#f1b6da\"],[0.4,\"#fde0ef\"],[0.5,\"#f7f7f7\"],[0.6,\"#e6f5d0\"],[0.7,\"#b8e186\"],[0.8,\"#7fbc41\"],[0.9,\"#4d9221\"],[1,\"#276419\"]]},\"xaxis\":{\"gridcolor\":\"white\",\"linecolor\":\"white\",\"ticks\":\"\",\"title\":{\"standoff\":15},\"zerolinecolor\":\"white\",\"automargin\":true,\"zerolinewidth\":2},\"yaxis\":{\"gridcolor\":\"white\",\"linecolor\":\"white\",\"ticks\":\"\",\"title\":{\"standoff\":15},\"zerolinecolor\":\"white\",\"automargin\":true,\"zerolinewidth\":2},\"scene\":{\"xaxis\":{\"backgroundcolor\":\"#E5ECF6\",\"gridcolor\":\"white\",\"linecolor\":\"white\",\"showbackground\":true,\"ticks\":\"\",\"zerolinecolor\":\"white\",\"gridwidth\":2},\"yaxis\":{\"backgroundcolor\":\"#E5ECF6\",\"gridcolor\":\"white\",\"linecolor\":\"white\",\"showbackground\":true,\"ticks\":\"\",\"zerolinecolor\":\"white\",\"gridwidth\":2},\"zaxis\":{\"backgroundcolor\":\"#E5ECF6\",\"gridcolor\":\"white\",\"linecolor\":\"white\",\"showbackground\":true,\"ticks\":\"\",\"zerolinecolor\":\"white\",\"gridwidth\":2}},\"shapedefaults\":{\"line\":{\"color\":\"#2a3f5f\"}},\"annotationdefaults\":{\"arrowcolor\":\"#2a3f5f\",\"arrowhead\":0,\"arrowwidth\":1},\"geo\":{\"bgcolor\":\"white\",\"landcolor\":\"#E5ECF6\",\"subunitcolor\":\"white\",\"showland\":true,\"showlakes\":true,\"lakecolor\":\"white\"},\"title\":{\"x\":0.05},\"mapbox\":{\"style\":\"light\"}}},\"width\":1200,\"height\":1800},                        {\"responsive\": true}                    ).then(function(){\n",
              "                            \n",
              "var gd = document.getElementById('d9fd187e-8b86-4007-87b3-0022c061a9f5');\n",
              "var x = new MutationObserver(function (mutations, observer) {{\n",
              "        var display = window.getComputedStyle(gd).display;\n",
              "        if (!display || display === 'none') {{\n",
              "            console.log([gd, 'removed!']);\n",
              "            Plotly.purge(gd);\n",
              "            observer.disconnect();\n",
              "        }}\n",
              "}});\n",
              "\n",
              "// Listen for the removal of the full notebook cells\n",
              "var notebookContainer = gd.closest('#notebook-container');\n",
              "if (notebookContainer) {{\n",
              "    x.observe(notebookContainer, {childList: true});\n",
              "}}\n",
              "\n",
              "// Listen for the clearing of the current output cell\n",
              "var outputEl = gd.closest('.output');\n",
              "if (outputEl) {{\n",
              "    x.observe(outputEl, {childList: true});\n",
              "}}\n",
              "\n",
              "                        })                };                            </script>        </div>\n",
              "</body>\n",
              "</html>"
            ]
          },
          "metadata": {},
          "output_type": "display_data"
        }
      ],
      "source": [
        "import pandas as pd\n",
        "import plotly.graph_objs as go\n",
        "\n",
        "wifi_counts = df_n['Wifi_id'].value_counts()\n",
        "\n",
        "# Create custom labels for the y-axis\n",
        "custom_labels = ['ssid_1', 'ssid_2', 'ssid_3', 'ssid_4', 'ssid_5', 'ssid_6', 'ssid_7', 'ssid_8', 'ssid_9', 'ssid_10','ssid_11', 'ssid_12', 'ssid_13', 'ssid_14', 'ssid_15', 'ssid_16', 'ssid_17', 'ssid_18', 'ssid_19', 'ssid_20',\n",
        "'ssid_21', 'ssid_22', 'ssid_23', 'ssid_24', 'ssid_25', 'ssid_26', 'ssid_27', 'ssid_28', 'ssid_29', 'ssid_30','ssid_31', 'ssid_32', 'ssid_33', 'ssid_34', 'ssid_35', 'ssid_36', 'ssid_37', 'ssid_38', 'ssid_39', 'ssid_40',\n",
        "                 'ssid_41', 'ssid_42', 'ssid_43', 'ssid_44', 'ssid_45', 'ssid_46', 'ssid_47', 'ssid_48', 'ssid_49', 'ssid_50','ssid_51', 'ssid_52', 'ssid_53', 'ssid_54', 'ssid_55', 'ssid_56', 'ssid_57', 'ssid_58', 'ssid_59',\n",
        "                 'ssid_60','ssid_61', 'ssid_62', 'ssid_63', 'ssid_64', 'ssid_65'\n",
        "                ]  # Replace with your desired labels\n",
        "\n",
        "\n",
        "data = [go.Bar(y=custom_labels, x=wifi_counts.values, orientation='h', marker=dict(color='red'))]\n",
        "layout = go.Layout(title='Wifi Id Usage', xaxis=dict(title='Number of Occurrences'), yaxis=dict(title='Wifi Id'),plot_bgcolor='white')\n",
        "fig = go.Figure(data=data, layout=layout)\n",
        "fig.update_layout(width=1200, height=1800)\n",
        "\n",
        "fig.show()\n"
      ]
    },
    {
      "cell_type": "code",
      "execution_count": null,
      "metadata": {
        "colab": {
          "base_uri": "https://localhost:8080/",
          "height": 1000
        },
        "id": "Fuz_zI7DhxQI",
        "outputId": "c3133429-3b2f-4bbe-91a5-35b743118bbf"
      },
      "outputs": [
        {
          "data": {
            "text/html": [
              "<html>\n",
              "<head><meta charset=\"utf-8\" /></head>\n",
              "<body>\n",
              "    <div>            <script src=\"https://cdnjs.cloudflare.com/ajax/libs/mathjax/2.7.5/MathJax.js?config=TeX-AMS-MML_SVG\"></script><script type=\"text/javascript\">if (window.MathJax && window.MathJax.Hub && window.MathJax.Hub.Config) {window.MathJax.Hub.Config({SVG: {font: \"STIX-Web\"}});}</script>                <script type=\"text/javascript\">window.PlotlyConfig = {MathJaxConfig: 'local'};</script>\n",
              "        <script src=\"https://cdn.plot.ly/plotly-2.18.2.min.js\"></script>                <div id=\"26448c2d-685e-48ea-a512-ad00ee40facc\" class=\"plotly-graph-div\" style=\"height:1200px; width:1800px;\"></div>            <script type=\"text/javascript\">                                    window.PLOTLYENV=window.PLOTLYENV || {};                                    if (document.getElementById(\"26448c2d-685e-48ea-a512-ad00ee40facc\")) {                    Plotly.newPlot(                        \"26448c2d-685e-48ea-a512-ad00ee40facc\",                        [{\"marker\":{\"color\":\"red\"},\"orientation\":\"v\",\"x\":[\"ssid_1\",\"ssid_2\",\"ssid_3\",\"ssid_4\",\"ssid_5\",\"ssid_6\",\"ssid_7\",\"ssid_8\",\"ssid_9\",\"ssid_10\",\"ssid_11\",\"ssid_12\",\"ssid_13\",\"ssid_14\",\"ssid_15\",\"ssid_16\",\"ssid_17\",\"ssid_18\",\"ssid_19\",\"ssid_20\"],\"y\":[163241,76229,69799,31662,30994,10655,9696,5936,4436,4167,3886,3715,2855,2438,2204,2106,1986,1733,1484,1319,1297,1268,1015,969,925,918,892,830,712,636,602,589,586,563,473,452,442,430,428,420,412,411,391,379,366,363,304,299,290,287,261,247,247,225,186,165,161,157,154,152,140,124,120,116,113,104,99,99,97,92,88,88,75,72,69,67,67,62,58,53,53,51,51,49,49,47,46,45,43,43,42,40,39,39,39,39,38,35,33,32,29,28,27,25,24,24,23,23,20,19,19,18,18,17,16,16,16,15,15,15,15,15,15,15,15,15,14,13,13,13,13,12,12,11,10,10,10,10,10,9,9,9,9,9,8,8,8,8,8,8,8,8,7,7,7,7,7,7,6,6,6,6,6,6,5,5,5,5,5,5,4,4,4,4,4,4,4,4,4,4,4,4,4,4,4,4,4,4,4,3,3,3,3,3,3,3,3,3,3,3,3,3,3,3,3,3,3,3,3,3,3,3,3,3,3,3,2,2,2,2,1,1,1,1,1],\"type\":\"bar\"}],                        {\"plot_bgcolor\":\"white\",\"title\":{\"text\":\"Wifi Id Usage\"},\"xaxis\":{\"title\":{\"text\":\"SSID\"}},\"yaxis\":{\"title\":{\"text\":\"Number of Occurrences\"}},\"template\":{\"data\":{\"histogram2dcontour\":[{\"type\":\"histogram2dcontour\",\"colorbar\":{\"outlinewidth\":0,\"ticks\":\"\"},\"colorscale\":[[0.0,\"#0d0887\"],[0.1111111111111111,\"#46039f\"],[0.2222222222222222,\"#7201a8\"],[0.3333333333333333,\"#9c179e\"],[0.4444444444444444,\"#bd3786\"],[0.5555555555555556,\"#d8576b\"],[0.6666666666666666,\"#ed7953\"],[0.7777777777777778,\"#fb9f3a\"],[0.8888888888888888,\"#fdca26\"],[1.0,\"#f0f921\"]]}],\"choropleth\":[{\"type\":\"choropleth\",\"colorbar\":{\"outlinewidth\":0,\"ticks\":\"\"}}],\"histogram2d\":[{\"type\":\"histogram2d\",\"colorbar\":{\"outlinewidth\":0,\"ticks\":\"\"},\"colorscale\":[[0.0,\"#0d0887\"],[0.1111111111111111,\"#46039f\"],[0.2222222222222222,\"#7201a8\"],[0.3333333333333333,\"#9c179e\"],[0.4444444444444444,\"#bd3786\"],[0.5555555555555556,\"#d8576b\"],[0.6666666666666666,\"#ed7953\"],[0.7777777777777778,\"#fb9f3a\"],[0.8888888888888888,\"#fdca26\"],[1.0,\"#f0f921\"]]}],\"heatmap\":[{\"type\":\"heatmap\",\"colorbar\":{\"outlinewidth\":0,\"ticks\":\"\"},\"colorscale\":[[0.0,\"#0d0887\"],[0.1111111111111111,\"#46039f\"],[0.2222222222222222,\"#7201a8\"],[0.3333333333333333,\"#9c179e\"],[0.4444444444444444,\"#bd3786\"],[0.5555555555555556,\"#d8576b\"],[0.6666666666666666,\"#ed7953\"],[0.7777777777777778,\"#fb9f3a\"],[0.8888888888888888,\"#fdca26\"],[1.0,\"#f0f921\"]]}],\"heatmapgl\":[{\"type\":\"heatmapgl\",\"colorbar\":{\"outlinewidth\":0,\"ticks\":\"\"},\"colorscale\":[[0.0,\"#0d0887\"],[0.1111111111111111,\"#46039f\"],[0.2222222222222222,\"#7201a8\"],[0.3333333333333333,\"#9c179e\"],[0.4444444444444444,\"#bd3786\"],[0.5555555555555556,\"#d8576b\"],[0.6666666666666666,\"#ed7953\"],[0.7777777777777778,\"#fb9f3a\"],[0.8888888888888888,\"#fdca26\"],[1.0,\"#f0f921\"]]}],\"contourcarpet\":[{\"type\":\"contourcarpet\",\"colorbar\":{\"outlinewidth\":0,\"ticks\":\"\"}}],\"contour\":[{\"type\":\"contour\",\"colorbar\":{\"outlinewidth\":0,\"ticks\":\"\"},\"colorscale\":[[0.0,\"#0d0887\"],[0.1111111111111111,\"#46039f\"],[0.2222222222222222,\"#7201a8\"],[0.3333333333333333,\"#9c179e\"],[0.4444444444444444,\"#bd3786\"],[0.5555555555555556,\"#d8576b\"],[0.6666666666666666,\"#ed7953\"],[0.7777777777777778,\"#fb9f3a\"],[0.8888888888888888,\"#fdca26\"],[1.0,\"#f0f921\"]]}],\"surface\":[{\"type\":\"surface\",\"colorbar\":{\"outlinewidth\":0,\"ticks\":\"\"},\"colorscale\":[[0.0,\"#0d0887\"],[0.1111111111111111,\"#46039f\"],[0.2222222222222222,\"#7201a8\"],[0.3333333333333333,\"#9c179e\"],[0.4444444444444444,\"#bd3786\"],[0.5555555555555556,\"#d8576b\"],[0.6666666666666666,\"#ed7953\"],[0.7777777777777778,\"#fb9f3a\"],[0.8888888888888888,\"#fdca26\"],[1.0,\"#f0f921\"]]}],\"mesh3d\":[{\"type\":\"mesh3d\",\"colorbar\":{\"outlinewidth\":0,\"ticks\":\"\"}}],\"scatter\":[{\"fillpattern\":{\"fillmode\":\"overlay\",\"size\":10,\"solidity\":0.2},\"type\":\"scatter\"}],\"parcoords\":[{\"type\":\"parcoords\",\"line\":{\"colorbar\":{\"outlinewidth\":0,\"ticks\":\"\"}}}],\"scatterpolargl\":[{\"type\":\"scatterpolargl\",\"marker\":{\"colorbar\":{\"outlinewidth\":0,\"ticks\":\"\"}}}],\"bar\":[{\"error_x\":{\"color\":\"#2a3f5f\"},\"error_y\":{\"color\":\"#2a3f5f\"},\"marker\":{\"line\":{\"color\":\"#E5ECF6\",\"width\":0.5},\"pattern\":{\"fillmode\":\"overlay\",\"size\":10,\"solidity\":0.2}},\"type\":\"bar\"}],\"scattergeo\":[{\"type\":\"scattergeo\",\"marker\":{\"colorbar\":{\"outlinewidth\":0,\"ticks\":\"\"}}}],\"scatterpolar\":[{\"type\":\"scatterpolar\",\"marker\":{\"colorbar\":{\"outlinewidth\":0,\"ticks\":\"\"}}}],\"histogram\":[{\"marker\":{\"pattern\":{\"fillmode\":\"overlay\",\"size\":10,\"solidity\":0.2}},\"type\":\"histogram\"}],\"scattergl\":[{\"type\":\"scattergl\",\"marker\":{\"colorbar\":{\"outlinewidth\":0,\"ticks\":\"\"}}}],\"scatter3d\":[{\"type\":\"scatter3d\",\"line\":{\"colorbar\":{\"outlinewidth\":0,\"ticks\":\"\"}},\"marker\":{\"colorbar\":{\"outlinewidth\":0,\"ticks\":\"\"}}}],\"scattermapbox\":[{\"type\":\"scattermapbox\",\"marker\":{\"colorbar\":{\"outlinewidth\":0,\"ticks\":\"\"}}}],\"scatterternary\":[{\"type\":\"scatterternary\",\"marker\":{\"colorbar\":{\"outlinewidth\":0,\"ticks\":\"\"}}}],\"scattercarpet\":[{\"type\":\"scattercarpet\",\"marker\":{\"colorbar\":{\"outlinewidth\":0,\"ticks\":\"\"}}}],\"carpet\":[{\"aaxis\":{\"endlinecolor\":\"#2a3f5f\",\"gridcolor\":\"white\",\"linecolor\":\"white\",\"minorgridcolor\":\"white\",\"startlinecolor\":\"#2a3f5f\"},\"baxis\":{\"endlinecolor\":\"#2a3f5f\",\"gridcolor\":\"white\",\"linecolor\":\"white\",\"minorgridcolor\":\"white\",\"startlinecolor\":\"#2a3f5f\"},\"type\":\"carpet\"}],\"table\":[{\"cells\":{\"fill\":{\"color\":\"#EBF0F8\"},\"line\":{\"color\":\"white\"}},\"header\":{\"fill\":{\"color\":\"#C8D4E3\"},\"line\":{\"color\":\"white\"}},\"type\":\"table\"}],\"barpolar\":[{\"marker\":{\"line\":{\"color\":\"#E5ECF6\",\"width\":0.5},\"pattern\":{\"fillmode\":\"overlay\",\"size\":10,\"solidity\":0.2}},\"type\":\"barpolar\"}],\"pie\":[{\"automargin\":true,\"type\":\"pie\"}]},\"layout\":{\"autotypenumbers\":\"strict\",\"colorway\":[\"#636efa\",\"#EF553B\",\"#00cc96\",\"#ab63fa\",\"#FFA15A\",\"#19d3f3\",\"#FF6692\",\"#B6E880\",\"#FF97FF\",\"#FECB52\"],\"font\":{\"color\":\"#2a3f5f\"},\"hovermode\":\"closest\",\"hoverlabel\":{\"align\":\"left\"},\"paper_bgcolor\":\"white\",\"plot_bgcolor\":\"#E5ECF6\",\"polar\":{\"bgcolor\":\"#E5ECF6\",\"angularaxis\":{\"gridcolor\":\"white\",\"linecolor\":\"white\",\"ticks\":\"\"},\"radialaxis\":{\"gridcolor\":\"white\",\"linecolor\":\"white\",\"ticks\":\"\"}},\"ternary\":{\"bgcolor\":\"#E5ECF6\",\"aaxis\":{\"gridcolor\":\"white\",\"linecolor\":\"white\",\"ticks\":\"\"},\"baxis\":{\"gridcolor\":\"white\",\"linecolor\":\"white\",\"ticks\":\"\"},\"caxis\":{\"gridcolor\":\"white\",\"linecolor\":\"white\",\"ticks\":\"\"}},\"coloraxis\":{\"colorbar\":{\"outlinewidth\":0,\"ticks\":\"\"}},\"colorscale\":{\"sequential\":[[0.0,\"#0d0887\"],[0.1111111111111111,\"#46039f\"],[0.2222222222222222,\"#7201a8\"],[0.3333333333333333,\"#9c179e\"],[0.4444444444444444,\"#bd3786\"],[0.5555555555555556,\"#d8576b\"],[0.6666666666666666,\"#ed7953\"],[0.7777777777777778,\"#fb9f3a\"],[0.8888888888888888,\"#fdca26\"],[1.0,\"#f0f921\"]],\"sequentialminus\":[[0.0,\"#0d0887\"],[0.1111111111111111,\"#46039f\"],[0.2222222222222222,\"#7201a8\"],[0.3333333333333333,\"#9c179e\"],[0.4444444444444444,\"#bd3786\"],[0.5555555555555556,\"#d8576b\"],[0.6666666666666666,\"#ed7953\"],[0.7777777777777778,\"#fb9f3a\"],[0.8888888888888888,\"#fdca26\"],[1.0,\"#f0f921\"]],\"diverging\":[[0,\"#8e0152\"],[0.1,\"#c51b7d\"],[0.2,\"#de77ae\"],[0.3,\"#f1b6da\"],[0.4,\"#fde0ef\"],[0.5,\"#f7f7f7\"],[0.6,\"#e6f5d0\"],[0.7,\"#b8e186\"],[0.8,\"#7fbc41\"],[0.9,\"#4d9221\"],[1,\"#276419\"]]},\"xaxis\":{\"gridcolor\":\"white\",\"linecolor\":\"white\",\"ticks\":\"\",\"title\":{\"standoff\":15},\"zerolinecolor\":\"white\",\"automargin\":true,\"zerolinewidth\":2},\"yaxis\":{\"gridcolor\":\"white\",\"linecolor\":\"white\",\"ticks\":\"\",\"title\":{\"standoff\":15},\"zerolinecolor\":\"white\",\"automargin\":true,\"zerolinewidth\":2},\"scene\":{\"xaxis\":{\"backgroundcolor\":\"#E5ECF6\",\"gridcolor\":\"white\",\"linecolor\":\"white\",\"showbackground\":true,\"ticks\":\"\",\"zerolinecolor\":\"white\",\"gridwidth\":2},\"yaxis\":{\"backgroundcolor\":\"#E5ECF6\",\"gridcolor\":\"white\",\"linecolor\":\"white\",\"showbackground\":true,\"ticks\":\"\",\"zerolinecolor\":\"white\",\"gridwidth\":2},\"zaxis\":{\"backgroundcolor\":\"#E5ECF6\",\"gridcolor\":\"white\",\"linecolor\":\"white\",\"showbackground\":true,\"ticks\":\"\",\"zerolinecolor\":\"white\",\"gridwidth\":2}},\"shapedefaults\":{\"line\":{\"color\":\"#2a3f5f\"}},\"annotationdefaults\":{\"arrowcolor\":\"#2a3f5f\",\"arrowhead\":0,\"arrowwidth\":1},\"geo\":{\"bgcolor\":\"white\",\"landcolor\":\"#E5ECF6\",\"subunitcolor\":\"white\",\"showland\":true,\"showlakes\":true,\"lakecolor\":\"white\"},\"title\":{\"x\":0.05},\"mapbox\":{\"style\":\"light\"}}},\"width\":1800,\"height\":1200},                        {\"responsive\": true}                    ).then(function(){\n",
              "                            \n",
              "var gd = document.getElementById('26448c2d-685e-48ea-a512-ad00ee40facc');\n",
              "var x = new MutationObserver(function (mutations, observer) {{\n",
              "        var display = window.getComputedStyle(gd).display;\n",
              "        if (!display || display === 'none') {{\n",
              "            console.log([gd, 'removed!']);\n",
              "            Plotly.purge(gd);\n",
              "            observer.disconnect();\n",
              "        }}\n",
              "}});\n",
              "\n",
              "// Listen for the removal of the full notebook cells\n",
              "var notebookContainer = gd.closest('#notebook-container');\n",
              "if (notebookContainer) {{\n",
              "    x.observe(notebookContainer, {childList: true});\n",
              "}}\n",
              "\n",
              "// Listen for the clearing of the current output cell\n",
              "var outputEl = gd.closest('.output');\n",
              "if (outputEl) {{\n",
              "    x.observe(outputEl, {childList: true});\n",
              "}}\n",
              "\n",
              "                        })                };                            </script>        </div>\n",
              "</body>\n",
              "</html>"
            ]
          },
          "metadata": {},
          "output_type": "display_data"
        }
      ],
      "source": [
        "import pandas as pd\n",
        "import plotly.graph_objs as go\n",
        "\n",
        "wifi_counts = df_n['Wifi_id'].value_counts()\n",
        "\n",
        "# Create custom labels for the x-axis\n",
        "custom_labels = ['ssid_1', 'ssid_2', 'ssid_3', 'ssid_4', 'ssid_5', 'ssid_6', 'ssid_7', 'ssid_8', 'ssid_9', 'ssid_10',\n",
        "                 'ssid_11', 'ssid_12', 'ssid_13', 'ssid_14', 'ssid_15', 'ssid_16', 'ssid_17', 'ssid_18', 'ssid_19', 'ssid_20'\n",
        "                ]  # Replace with your desired labels\n",
        "\n",
        "data = [go.Bar(x=custom_labels, y=wifi_counts.values, orientation='v', marker=dict(color='red'))]  # Swapping x and y\n",
        "\n",
        "layout = go.Layout(title='Wifi Id Usage', xaxis=dict(title='SSID'), yaxis=dict(title='Number of Occurrences'), plot_bgcolor='white')\n",
        "fig = go.Figure(data=data, layout=layout)\n",
        "fig.update_layout(width=1800, height=1200)  # Swapping width and height\n",
        "\n",
        "fig.show()\n"
      ]
    },
    {
      "cell_type": "markdown",
      "metadata": {
        "id": "ZXrfCpMfDbv8"
      },
      "source": [
        "# In each single day, what is the variation in total wifi-id , or how many wifi-id is used in a particular day.\n",
        "\n",
        "There may be some reason of absence of use of wifi on a particular day, due to weekend or due to some festival holidays etc."
      ]
    },
    {
      "cell_type": "code",
      "execution_count": null,
      "metadata": {
        "colab": {
          "base_uri": "https://localhost:8080/",
          "height": 1000
        },
        "id": "CsBfabOQZwwb",
        "outputId": "12e7f0a9-1c5f-42e5-bf31-a2385f16d247"
      },
      "outputs": [
        {
          "data": {
            "text/html": [
              "<html>\n",
              "<head><meta charset=\"utf-8\" /></head>\n",
              "<body>\n",
              "    <div>            <script src=\"https://cdnjs.cloudflare.com/ajax/libs/mathjax/2.7.5/MathJax.js?config=TeX-AMS-MML_SVG\"></script><script type=\"text/javascript\">if (window.MathJax && window.MathJax.Hub && window.MathJax.Hub.Config) {window.MathJax.Hub.Config({SVG: {font: \"STIX-Web\"}});}</script>                <script type=\"text/javascript\">window.PlotlyConfig = {MathJaxConfig: 'local'};</script>\n",
              "        <script src=\"https://cdn.plot.ly/plotly-2.18.2.min.js\"></script>                <div id=\"4f6ac358-d469-4d10-8b23-1a7038d6fcf8\" class=\"plotly-graph-div\" style=\"height:1800px; width:1200px;\"></div>            <script type=\"text/javascript\">                                    window.PLOTLYENV=window.PLOTLYENV || {};                                    if (document.getElementById(\"4f6ac358-d469-4d10-8b23-1a7038d6fcf8\")) {                    Plotly.newPlot(                        \"4f6ac358-d469-4d10-8b23-1a7038d6fcf8\",                        [{\"marker\":{\"color\":\"red\"},\"orientation\":\"h\",\"x\":[17184,16839,16461,16292,15815,15418,15399,15133,15128,15106,15096,14981,14751,14706,14405,14260,14198,14186,14154,13638,13563,12838,12440,12065,11900,11877,11019,10843,10435,9341,5203,3560,3292,2980,2889,2694,2104,1944,1921,1513,1453,1242,948,692,586,527,518,428,167,4],\"y\":[\"2018-10-10T00:00:00\",\"2018-10-09T00:00:00\",\"2018-10-24T00:00:00\",\"2018-10-08T00:00:00\",\"2018-11-14T00:00:00\",\"2018-10-02T00:00:00\",\"2018-10-23T00:00:00\",\"2018-10-25T00:00:00\",\"2018-10-30T00:00:00\",\"2018-10-07T00:00:00\",\"2018-10-31T00:00:00\",\"2018-11-20T00:00:00\",\"2018-11-15T00:00:00\",\"2018-10-03T00:00:00\",\"2018-10-29T00:00:00\",\"2018-11-13T00:00:00\",\"2018-10-14T00:00:00\",\"2018-11-21T00:00:00\",\"2018-10-15T00:00:00\",\"2018-11-19T00:00:00\",\"2018-10-11T00:00:00\",\"2018-10-21T00:00:00\",\"2018-11-12T00:00:00\",\"2018-10-16T00:00:00\",\"2018-10-26T00:00:00\",\"2018-10-04T00:00:00\",\"2018-11-16T00:00:00\",\"2018-11-22T00:00:00\",\"2018-09-27T00:00:00\",\"2018-09-30T00:00:00\",\"2018-10-22T00:00:00\",\"2018-11-01T00:00:00\",\"2018-10-13T00:00:00\",\"2018-10-01T00:00:00\",\"2018-09-28T00:00:00\",\"2018-10-28T00:00:00\",\"2018-10-20T00:00:00\",\"2018-10-06T00:00:00\",\"2018-11-18T00:00:00\",\"2018-11-11T00:00:00\",\"2018-10-27T00:00:00\",\"2018-10-05T00:00:00\",\"2018-10-12T00:00:00\",\"2018-09-26T00:00:00\",\"2018-10-17T00:00:00\",\"2018-09-29T00:00:00\",\"2018-11-17T00:00:00\",\"2018-10-18T00:00:00\",\"2018-11-02T00:00:00\",\"2018-10-19T00:00:00\"],\"type\":\"bar\"}],                        {\"title\":{\"text\":\"Date vs Number of Wifi IDs\"},\"xaxis\":{\"title\":{\"text\":\"Number of Wifi IDs\"}},\"yaxis\":{\"title\":{\"text\":\"Date\"}},\"template\":{\"data\":{\"histogram2dcontour\":[{\"type\":\"histogram2dcontour\",\"colorbar\":{\"outlinewidth\":0,\"ticks\":\"\"},\"colorscale\":[[0.0,\"#0d0887\"],[0.1111111111111111,\"#46039f\"],[0.2222222222222222,\"#7201a8\"],[0.3333333333333333,\"#9c179e\"],[0.4444444444444444,\"#bd3786\"],[0.5555555555555556,\"#d8576b\"],[0.6666666666666666,\"#ed7953\"],[0.7777777777777778,\"#fb9f3a\"],[0.8888888888888888,\"#fdca26\"],[1.0,\"#f0f921\"]]}],\"choropleth\":[{\"type\":\"choropleth\",\"colorbar\":{\"outlinewidth\":0,\"ticks\":\"\"}}],\"histogram2d\":[{\"type\":\"histogram2d\",\"colorbar\":{\"outlinewidth\":0,\"ticks\":\"\"},\"colorscale\":[[0.0,\"#0d0887\"],[0.1111111111111111,\"#46039f\"],[0.2222222222222222,\"#7201a8\"],[0.3333333333333333,\"#9c179e\"],[0.4444444444444444,\"#bd3786\"],[0.5555555555555556,\"#d8576b\"],[0.6666666666666666,\"#ed7953\"],[0.7777777777777778,\"#fb9f3a\"],[0.8888888888888888,\"#fdca26\"],[1.0,\"#f0f921\"]]}],\"heatmap\":[{\"type\":\"heatmap\",\"colorbar\":{\"outlinewidth\":0,\"ticks\":\"\"},\"colorscale\":[[0.0,\"#0d0887\"],[0.1111111111111111,\"#46039f\"],[0.2222222222222222,\"#7201a8\"],[0.3333333333333333,\"#9c179e\"],[0.4444444444444444,\"#bd3786\"],[0.5555555555555556,\"#d8576b\"],[0.6666666666666666,\"#ed7953\"],[0.7777777777777778,\"#fb9f3a\"],[0.8888888888888888,\"#fdca26\"],[1.0,\"#f0f921\"]]}],\"heatmapgl\":[{\"type\":\"heatmapgl\",\"colorbar\":{\"outlinewidth\":0,\"ticks\":\"\"},\"colorscale\":[[0.0,\"#0d0887\"],[0.1111111111111111,\"#46039f\"],[0.2222222222222222,\"#7201a8\"],[0.3333333333333333,\"#9c179e\"],[0.4444444444444444,\"#bd3786\"],[0.5555555555555556,\"#d8576b\"],[0.6666666666666666,\"#ed7953\"],[0.7777777777777778,\"#fb9f3a\"],[0.8888888888888888,\"#fdca26\"],[1.0,\"#f0f921\"]]}],\"contourcarpet\":[{\"type\":\"contourcarpet\",\"colorbar\":{\"outlinewidth\":0,\"ticks\":\"\"}}],\"contour\":[{\"type\":\"contour\",\"colorbar\":{\"outlinewidth\":0,\"ticks\":\"\"},\"colorscale\":[[0.0,\"#0d0887\"],[0.1111111111111111,\"#46039f\"],[0.2222222222222222,\"#7201a8\"],[0.3333333333333333,\"#9c179e\"],[0.4444444444444444,\"#bd3786\"],[0.5555555555555556,\"#d8576b\"],[0.6666666666666666,\"#ed7953\"],[0.7777777777777778,\"#fb9f3a\"],[0.8888888888888888,\"#fdca26\"],[1.0,\"#f0f921\"]]}],\"surface\":[{\"type\":\"surface\",\"colorbar\":{\"outlinewidth\":0,\"ticks\":\"\"},\"colorscale\":[[0.0,\"#0d0887\"],[0.1111111111111111,\"#46039f\"],[0.2222222222222222,\"#7201a8\"],[0.3333333333333333,\"#9c179e\"],[0.4444444444444444,\"#bd3786\"],[0.5555555555555556,\"#d8576b\"],[0.6666666666666666,\"#ed7953\"],[0.7777777777777778,\"#fb9f3a\"],[0.8888888888888888,\"#fdca26\"],[1.0,\"#f0f921\"]]}],\"mesh3d\":[{\"type\":\"mesh3d\",\"colorbar\":{\"outlinewidth\":0,\"ticks\":\"\"}}],\"scatter\":[{\"fillpattern\":{\"fillmode\":\"overlay\",\"size\":10,\"solidity\":0.2},\"type\":\"scatter\"}],\"parcoords\":[{\"type\":\"parcoords\",\"line\":{\"colorbar\":{\"outlinewidth\":0,\"ticks\":\"\"}}}],\"scatterpolargl\":[{\"type\":\"scatterpolargl\",\"marker\":{\"colorbar\":{\"outlinewidth\":0,\"ticks\":\"\"}}}],\"bar\":[{\"error_x\":{\"color\":\"#2a3f5f\"},\"error_y\":{\"color\":\"#2a3f5f\"},\"marker\":{\"line\":{\"color\":\"#E5ECF6\",\"width\":0.5},\"pattern\":{\"fillmode\":\"overlay\",\"size\":10,\"solidity\":0.2}},\"type\":\"bar\"}],\"scattergeo\":[{\"type\":\"scattergeo\",\"marker\":{\"colorbar\":{\"outlinewidth\":0,\"ticks\":\"\"}}}],\"scatterpolar\":[{\"type\":\"scatterpolar\",\"marker\":{\"colorbar\":{\"outlinewidth\":0,\"ticks\":\"\"}}}],\"histogram\":[{\"marker\":{\"pattern\":{\"fillmode\":\"overlay\",\"size\":10,\"solidity\":0.2}},\"type\":\"histogram\"}],\"scattergl\":[{\"type\":\"scattergl\",\"marker\":{\"colorbar\":{\"outlinewidth\":0,\"ticks\":\"\"}}}],\"scatter3d\":[{\"type\":\"scatter3d\",\"line\":{\"colorbar\":{\"outlinewidth\":0,\"ticks\":\"\"}},\"marker\":{\"colorbar\":{\"outlinewidth\":0,\"ticks\":\"\"}}}],\"scattermapbox\":[{\"type\":\"scattermapbox\",\"marker\":{\"colorbar\":{\"outlinewidth\":0,\"ticks\":\"\"}}}],\"scatterternary\":[{\"type\":\"scatterternary\",\"marker\":{\"colorbar\":{\"outlinewidth\":0,\"ticks\":\"\"}}}],\"scattercarpet\":[{\"type\":\"scattercarpet\",\"marker\":{\"colorbar\":{\"outlinewidth\":0,\"ticks\":\"\"}}}],\"carpet\":[{\"aaxis\":{\"endlinecolor\":\"#2a3f5f\",\"gridcolor\":\"white\",\"linecolor\":\"white\",\"minorgridcolor\":\"white\",\"startlinecolor\":\"#2a3f5f\"},\"baxis\":{\"endlinecolor\":\"#2a3f5f\",\"gridcolor\":\"white\",\"linecolor\":\"white\",\"minorgridcolor\":\"white\",\"startlinecolor\":\"#2a3f5f\"},\"type\":\"carpet\"}],\"table\":[{\"cells\":{\"fill\":{\"color\":\"#EBF0F8\"},\"line\":{\"color\":\"white\"}},\"header\":{\"fill\":{\"color\":\"#C8D4E3\"},\"line\":{\"color\":\"white\"}},\"type\":\"table\"}],\"barpolar\":[{\"marker\":{\"line\":{\"color\":\"#E5ECF6\",\"width\":0.5},\"pattern\":{\"fillmode\":\"overlay\",\"size\":10,\"solidity\":0.2}},\"type\":\"barpolar\"}],\"pie\":[{\"automargin\":true,\"type\":\"pie\"}]},\"layout\":{\"autotypenumbers\":\"strict\",\"colorway\":[\"#636efa\",\"#EF553B\",\"#00cc96\",\"#ab63fa\",\"#FFA15A\",\"#19d3f3\",\"#FF6692\",\"#B6E880\",\"#FF97FF\",\"#FECB52\"],\"font\":{\"color\":\"#2a3f5f\"},\"hovermode\":\"closest\",\"hoverlabel\":{\"align\":\"left\"},\"paper_bgcolor\":\"white\",\"plot_bgcolor\":\"#E5ECF6\",\"polar\":{\"bgcolor\":\"#E5ECF6\",\"angularaxis\":{\"gridcolor\":\"white\",\"linecolor\":\"white\",\"ticks\":\"\"},\"radialaxis\":{\"gridcolor\":\"white\",\"linecolor\":\"white\",\"ticks\":\"\"}},\"ternary\":{\"bgcolor\":\"#E5ECF6\",\"aaxis\":{\"gridcolor\":\"white\",\"linecolor\":\"white\",\"ticks\":\"\"},\"baxis\":{\"gridcolor\":\"white\",\"linecolor\":\"white\",\"ticks\":\"\"},\"caxis\":{\"gridcolor\":\"white\",\"linecolor\":\"white\",\"ticks\":\"\"}},\"coloraxis\":{\"colorbar\":{\"outlinewidth\":0,\"ticks\":\"\"}},\"colorscale\":{\"sequential\":[[0.0,\"#0d0887\"],[0.1111111111111111,\"#46039f\"],[0.2222222222222222,\"#7201a8\"],[0.3333333333333333,\"#9c179e\"],[0.4444444444444444,\"#bd3786\"],[0.5555555555555556,\"#d8576b\"],[0.6666666666666666,\"#ed7953\"],[0.7777777777777778,\"#fb9f3a\"],[0.8888888888888888,\"#fdca26\"],[1.0,\"#f0f921\"]],\"sequentialminus\":[[0.0,\"#0d0887\"],[0.1111111111111111,\"#46039f\"],[0.2222222222222222,\"#7201a8\"],[0.3333333333333333,\"#9c179e\"],[0.4444444444444444,\"#bd3786\"],[0.5555555555555556,\"#d8576b\"],[0.6666666666666666,\"#ed7953\"],[0.7777777777777778,\"#fb9f3a\"],[0.8888888888888888,\"#fdca26\"],[1.0,\"#f0f921\"]],\"diverging\":[[0,\"#8e0152\"],[0.1,\"#c51b7d\"],[0.2,\"#de77ae\"],[0.3,\"#f1b6da\"],[0.4,\"#fde0ef\"],[0.5,\"#f7f7f7\"],[0.6,\"#e6f5d0\"],[0.7,\"#b8e186\"],[0.8,\"#7fbc41\"],[0.9,\"#4d9221\"],[1,\"#276419\"]]},\"xaxis\":{\"gridcolor\":\"white\",\"linecolor\":\"white\",\"ticks\":\"\",\"title\":{\"standoff\":15},\"zerolinecolor\":\"white\",\"automargin\":true,\"zerolinewidth\":2},\"yaxis\":{\"gridcolor\":\"white\",\"linecolor\":\"white\",\"ticks\":\"\",\"title\":{\"standoff\":15},\"zerolinecolor\":\"white\",\"automargin\":true,\"zerolinewidth\":2},\"scene\":{\"xaxis\":{\"backgroundcolor\":\"#E5ECF6\",\"gridcolor\":\"white\",\"linecolor\":\"white\",\"showbackground\":true,\"ticks\":\"\",\"zerolinecolor\":\"white\",\"gridwidth\":2},\"yaxis\":{\"backgroundcolor\":\"#E5ECF6\",\"gridcolor\":\"white\",\"linecolor\":\"white\",\"showbackground\":true,\"ticks\":\"\",\"zerolinecolor\":\"white\",\"gridwidth\":2},\"zaxis\":{\"backgroundcolor\":\"#E5ECF6\",\"gridcolor\":\"white\",\"linecolor\":\"white\",\"showbackground\":true,\"ticks\":\"\",\"zerolinecolor\":\"white\",\"gridwidth\":2}},\"shapedefaults\":{\"line\":{\"color\":\"#2a3f5f\"}},\"annotationdefaults\":{\"arrowcolor\":\"#2a3f5f\",\"arrowhead\":0,\"arrowwidth\":1},\"geo\":{\"bgcolor\":\"white\",\"landcolor\":\"#E5ECF6\",\"subunitcolor\":\"white\",\"showland\":true,\"showlakes\":true,\"lakecolor\":\"white\"},\"title\":{\"x\":0.05},\"mapbox\":{\"style\":\"light\"}}},\"width\":1200,\"height\":1800},                        {\"responsive\": true}                    ).then(function(){\n",
              "                            \n",
              "var gd = document.getElementById('4f6ac358-d469-4d10-8b23-1a7038d6fcf8');\n",
              "var x = new MutationObserver(function (mutations, observer) {{\n",
              "        var display = window.getComputedStyle(gd).display;\n",
              "        if (!display || display === 'none') {{\n",
              "            console.log([gd, 'removed!']);\n",
              "            Plotly.purge(gd);\n",
              "            observer.disconnect();\n",
              "        }}\n",
              "}});\n",
              "\n",
              "// Listen for the removal of the full notebook cells\n",
              "var notebookContainer = gd.closest('#notebook-container');\n",
              "if (notebookContainer) {{\n",
              "    x.observe(notebookContainer, {childList: true});\n",
              "}}\n",
              "\n",
              "// Listen for the clearing of the current output cell\n",
              "var outputEl = gd.closest('.output');\n",
              "if (outputEl) {{\n",
              "    x.observe(outputEl, {childList: true});\n",
              "}}\n",
              "\n",
              "                        })                };                            </script>        </div>\n",
              "</body>\n",
              "</html>"
            ]
          },
          "metadata": {},
          "output_type": "display_data"
        }
      ],
      "source": [
        "import pandas as pd\n",
        "import plotly.graph_objs as go\n",
        "\n",
        "\n",
        "\n",
        "# Count the number of Wifi IDs for each Date\n",
        "ip_wifi_counts = df_n.groupby('Date')['Wifi_id'].count().reset_index(name='count')\n",
        "\n",
        "# Sort the Datees by their Wifi ID counts\n",
        "ip_wifi_counts = ip_wifi_counts.sort_values('count', ascending=False)\n",
        "\n",
        "# Create a horizontal bar graph using plotly\n",
        "data = [go.Bar(y=ip_wifi_counts['Date'], x=ip_wifi_counts['count'], orientation='h', marker=dict(color='red'))]\n",
        "layout = go.Layout(title='Date vs Number of Wifi IDs', xaxis=dict(title='Number of Wifi IDs'), yaxis=dict(title='Date'))\n",
        "fig = go.Figure(data=data, layout=layout)\n",
        "fig.update_layout(width=1200, height=1800)\n",
        "\n",
        "fig.show()\n"
      ]
    }
  ],
  "metadata": {
    "colab": {
      "provenance": []
    },
    "kernelspec": {
      "display_name": "Python 3",
      "name": "python3"
    },
    "language_info": {
      "name": "python"
    }
  },
  "nbformat": 4,
  "nbformat_minor": 0
}